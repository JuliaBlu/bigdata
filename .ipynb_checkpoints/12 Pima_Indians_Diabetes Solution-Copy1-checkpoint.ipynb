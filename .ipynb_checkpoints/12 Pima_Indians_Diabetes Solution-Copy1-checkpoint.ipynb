{
 "cells": [
  {
   "cell_type": "markdown",
   "metadata": {},
   "source": [
    "# Data \n",
    "\n",
    "The Pima Indians dataset is about the prediction of diabetes . This is a small dataset available from the UCI Machine Learning Repository. https://archive.ics.uci.edu/ml/datasets/Pima+Indians+Diabetes\n",
    "\n",
    "Based on: http://machinelearningmastery.com/display-deep-learning-model-training-history-in-keras/\n",
    "\n",
    "**Attribute Information:**\n",
    "\n",
    "1. Number of times pregnant\n",
    "2. Plasma glucose concentration a 2 hours in an oral glucose tolerance test\n",
    "3. Diastolic blood pressure (mm Hg)\n",
    "4. Triceps skin fold thickness (mm)\n",
    "5. 2-Hour serum insulin (mu U/ml)\n",
    "6. Body mass index (weight in kg/(height in m)^2)\n",
    "7. Diabetes pedigree function\n",
    "8. Age (years)\n",
    "9. Class variable (0 or 1) (diabetes mellitus)"
   ]
  },
  {
   "cell_type": "code",
   "execution_count": 1,
   "metadata": {
    "collapsed": true
   },
   "outputs": [],
   "source": [
    "# ! wget -O pima-indians-diabetes.csv https://gist.githubusercontent.com/ktisha/c21e73a1bd1700294ef790c56c8aec1f/raw/819b69b5736821ccee93d05b51de0510bea00294/pima-indians-diabetes.csv"
   ]
  },
  {
   "cell_type": "code",
   "execution_count": 2,
   "metadata": {},
   "outputs": [
    {
     "name": "stdout",
     "output_type": "stream",
     "text": [
      "total 5008\r\n",
      "-rw-r--r--  1 rolandmueller  staff   12025  1 Apr 20:24 1 Timing Algorithms.ipynb\r\n",
      "-rw-r--r--  1 rolandmueller  staff   28784 28 Apr 12:27 10 MongoDB-Solution.ipynb\r\n",
      "-rw-r--r--  1 rolandmueller  staff   24900 28 Apr 12:40 10 MongoDB-Todo.ipynb\r\n",
      "-rw-r--r--  1 rolandmueller  staff   21292  8 Mai 21:38 11 Hive.ipynb\r\n",
      "-rw-r--r--@ 1 rolandmueller  staff  137834 31 Mai 08:34 12 Pima_Indians_Diabetes Solution.ipynb\r\n",
      "-rw-r--r--@ 1 rolandmueller  staff  106268 22 Mai 10:10 12 Pima_Indians_Diabetes.ipynb\r\n",
      "-rw-r--r--@ 1 rolandmueller  staff  985373 22 Mai 10:21 13_IMDB_Sentiment_Classification.ipynb\r\n",
      "-rw-r--r--@ 1 rolandmueller  staff  340033 31 Mai 08:19 14_word_embedding_glove.ipynb\r\n",
      "-rw-r--r--  1 rolandmueller  staff    7094 15 Apr 18:01 2 Finding values in collections Solution.ipynb\r\n",
      "-rw-r--r--  1 rolandmueller  staff    5800 29 Mär 12:31 2 Finding values in collections Todo.ipynb\r\n",
      "-rw-r--r--  1 rolandmueller  staff   68221 15 Apr 17:58 3 Time Complexity-Solution.ipynb\r\n",
      "-rw-r--r--  1 rolandmueller  staff   30348  2 Apr 12:40 3 Time Complexity.ipynb\r\n",
      "-rw-r--r--@ 1 rolandmueller  staff  340033 22 Mai 10:20 3_word_embedding_glove.ipynb\r\n",
      "-rw-r--r--  1 rolandmueller  staff   19962 16 Apr 19:02 4 Decision Trees Solution.ipynb\r\n",
      "-rw-r--r--  1 rolandmueller  staff    3844 29 Mär 13:43 4 Decision Trees Todo.ipynb\r\n",
      "-rw-r--r--  1 rolandmueller  staff   16729  9 Apr 11:21 5 Programming Paradigms.ipynb\r\n",
      "-rw-r--r--  1 rolandmueller  staff    4608  8 Apr 18:43 6 Linked-List-Todo.ipynb\r\n",
      "-rw-r--r--  1 rolandmueller  staff    6243 30 Mär 17:41 6 Linked-List.ipynb\r\n",
      "-rw-r--r--  1 rolandmueller  staff    3596  8 Apr 18:47 7 Binary Search Tree-Todo.ipynb\r\n",
      "-rw-r--r--  1 rolandmueller  staff    4583  6 Apr 16:52 7 Binary Search Tree.ipynb\r\n",
      "-rw-r--r--  1 rolandmueller  staff   63785  4 Apr 08:58 8 Amdahl's Law.ipynb\r\n",
      "-rw-r--r--  1 rolandmueller  staff   15309 30 Apr 10:08 9 Web API.ipynb\r\n",
      "-rw-r--r--  1 rolandmueller  staff   63678 23 Mär 12:19 Amdahl's Law-Copy1.ipynb\r\n",
      "-rw-r--r--  1 rolandmueller  staff    6776 20 Mär 10:24 Finding values in collections.ipynb\r\n",
      "-rw-r--r--  1 rolandmueller  staff   10762 19 Mär 21:24 Matrix Multiplication.ipynb\r\n",
      "-rw-r--r--  1 rolandmueller  staff   33940 22 Apr 09:43 OLD 10 MongoDB.ipynb\r\n",
      "-rw-r--r--  1 rolandmueller  staff   21248 19 Apr 09:36 OLD 9 Web APIs.ipynb\r\n",
      "-rw-r--r--  1 rolandmueller  staff   15797 28 Mär 18:41 OLD Decision Trees Solution.ipynb\r\n",
      "-rw-r--r--@ 1 rolandmueller  staff   17524 10 Apr 21:44 OLD docker.md\r\n",
      "-rw-r--r--  1 rolandmueller  staff    3443 21 Mär 15:44 Parallel Processing.ipynb\r\n",
      "-rw-r--r--  1 rolandmueller  staff    1312 20 Mär 10:26 Untitled.ipynb\r\n",
      "-rw-r--r--  1 rolandmueller  staff    2293  3 Apr 09:52 Untitled1.ipynb\r\n",
      "drwxr-xr-x  5 rolandmueller  staff     160  7 Apr 15:20 \u001b[34malice\u001b[m\u001b[m/\r\n",
      "-rw-r--r--@ 1 rolandmueller  staff    1244 19 Apr 10:50 courses.json\r\n",
      "drwxr-xr-x  7 rolandmueller  staff     224 16 Apr 13:09 \u001b[34mdocker\u001b[m\u001b[m/\r\n",
      "-rw-r--r--@ 1 rolandmueller  staff   17813 11 Apr 07:58 docker Kopie.md\r\n",
      "-rw-r--r--@ 1 rolandmueller  staff   22156 16 Apr 08:06 docker.md\r\n",
      "drwxr-xr-x  7 rolandmueller  staff     224 16 Apr 13:07 \u001b[34mdocker2\u001b[m\u001b[m/\r\n",
      "-rw-r--r--  1 rolandmueller  staff       0  2 Mai 16:11 hdfs.md\r\n",
      "drwxr-xr-x  9 rolandmueller  staff     288 15 Mai 12:55 \u001b[34mmake\u001b[m\u001b[m/\r\n",
      "drwxr-xr-x  3 rolandmueller  staff      96 19 Apr 08:59 \u001b[34mmongo\u001b[m\u001b[m/\r\n",
      "-rw-r--r--@ 1 rolandmueller  staff   23628 22 Mai 10:07 pima-indians-diabetes.csv\r\n",
      "drwxr-xr-x  3 rolandmueller  staff      96 19 Apr 13:14 \u001b[34mspark\u001b[m\u001b[m/\r\n",
      "drwxr-xr-x  5 rolandmueller  staff     160 17 Apr 17:56 \u001b[34mwebapi\u001b[m\u001b[m/\r\n"
     ]
    }
   ],
   "source": [
    "%ls -l"
   ]
  },
  {
   "cell_type": "code",
   "execution_count": 3,
   "metadata": {},
   "outputs": [
    {
     "name": "stderr",
     "output_type": "stream",
     "text": [
      "/Library/Frameworks/Python.framework/Versions/3.6/lib/python3.6/site-packages/h5py/__init__.py:36: FutureWarning: Conversion of the second argument of issubdtype from `float` to `np.floating` is deprecated. In future, it will be treated as `np.float64 == np.dtype(float).type`.\n",
      "  from ._conv import register_converters as _register_converters\n",
      "Using TensorFlow backend.\n"
     ]
    }
   ],
   "source": [
    "from sklearn.model_selection import train_test_split\n",
    "from keras.models import Sequential\n",
    "from keras.layers import Dense\n",
    "import matplotlib.pyplot as plt\n",
    "from matplotlib.ticker import MaxNLocator\n",
    "import numpy as np"
   ]
  },
  {
   "cell_type": "code",
   "execution_count": 4,
   "metadata": {
    "collapsed": true
   },
   "outputs": [],
   "source": [
    "# fix random seed for reproducibility\n",
    "seed = 7\n",
    "np.random.seed(seed)"
   ]
  },
  {
   "cell_type": "code",
   "execution_count": 5,
   "metadata": {
    "collapsed": true
   },
   "outputs": [],
   "source": [
    "# load pima indians dataset\n",
    "dataset = np.loadtxt(\"pima-indians-diabetes.csv\", delimiter=\",\")"
   ]
  },
  {
   "cell_type": "code",
   "execution_count": null,
   "metadata": {
    "collapsed": true
   },
   "outputs": [],
   "source": [
    "# split dataset into input (X) and output (Y) variables\n",
    "# output is the last column\n",
    "X = TODO\n",
    "y = TODO"
   ]
  },
  {
   "cell_type": "code",
   "execution_count": null,
   "metadata": {
    "collapsed": true
   },
   "outputs": [],
   "source": [
    "# split dataset into input (X) and output (Y) variables\n",
    "# output is the last column\n",
    "X = dataset[:,0:8]\n",
    "y = dataset[:,8]"
   ]
  },
  {
   "cell_type": "code",
   "execution_count": 18,
   "metadata": {
    "collapsed": true
   },
   "outputs": [],
   "source": [
    "# print the shape of x\n",
    "#\n",
    "# TODO"
   ]
  },
  {
   "cell_type": "code",
   "execution_count": 19,
   "metadata": {},
   "outputs": [
    {
     "data": {
      "text/plain": [
       "(768, 8)"
      ]
     },
     "execution_count": 19,
     "metadata": {},
     "output_type": "execute_result"
    }
   ],
   "source": [
    "# shape of x\n",
    "X.shape"
   ]
  },
  {
   "cell_type": "code",
   "execution_count": 7,
   "metadata": {},
   "outputs": [
    {
     "data": {
      "text/plain": [
       "8"
      ]
     },
     "execution_count": 7,
     "metadata": {},
     "output_type": "execute_result"
    }
   ],
   "source": [
    "# save to number of input dimensions in input_dim\n",
    "input_dim = TODO\n",
    "input_dim"
   ]
  },
  {
   "cell_type": "code",
   "execution_count": 7,
   "metadata": {},
   "outputs": [
    {
     "data": {
      "text/plain": [
       "8"
      ]
     },
     "execution_count": 7,
     "metadata": {},
     "output_type": "execute_result"
    }
   ],
   "source": [
    "# save to number of input dimensions in input_dim\n",
    "input_dim = X.shape[1]\n",
    "input_dim"
   ]
  },
  {
   "cell_type": "code",
   "execution_count": 9,
   "metadata": {},
   "outputs": [
    {
     "data": {
      "text/plain": [
       "(768,)"
      ]
     },
     "execution_count": 9,
     "metadata": {},
     "output_type": "execute_result"
    }
   ],
   "source": [
    "# shape of y\n",
    "# TODO"
   ]
  },
  {
   "cell_type": "code",
   "execution_count": 24,
   "metadata": {
    "collapsed": true
   },
   "outputs": [],
   "source": [
    "# Create training and test sets\n",
    "# Test size should be 15%\n",
    "# The test and train set should be stratified\n",
    "# use a random state (for reproducability) of 42\n",
    "# TODO\n",
    "X_train, X_test, y_train, y_test = TODO"
   ]
  },
  {
   "cell_type": "code",
   "execution_count": 24,
   "metadata": {
    "collapsed": true
   },
   "outputs": [],
   "source": [
    "# Create training and test sets\n",
    "# Test size should be 15%\n",
    "# The test and train set should be stratified\n",
    "# use a random state (for reproducability) of 42\n",
    "# TODO\n",
    "X_train, X_test, y_train, y_test = train_test_split(X, y, test_size=0.15, stratify=y, random_state=42)"
   ]
  },
  {
   "cell_type": "code",
   "execution_count": 25,
   "metadata": {},
   "outputs": [
    {
     "data": {
      "text/plain": [
       "(116, 8)"
      ]
     },
     "execution_count": 25,
     "metadata": {},
     "output_type": "execute_result"
    }
   ],
   "source": [
    "# shape of X_test\n",
    "# TODO\n"
   ]
  },
  {
   "cell_type": "markdown",
   "metadata": {},
   "source": [
    "# Model"
   ]
  },
  {
   "cell_type": "code",
   "execution_count": 1,
   "metadata": {
    "collapsed": true
   },
   "outputs": [],
   "source": [
    "# 1. Create Sequential model\n",
    "# 2. + 3. Add two hidden dense layers with 12 and 8 nodes. Both should have Relu activations \n",
    "# 4. Add a final output layer\n",
    "# Think about how many nodes the final output layer should have and what activation function is appropiate\n",
    "# TODO\n"
   ]
  },
  {
   "cell_type": "code",
   "execution_count": 10,
   "metadata": {
    "collapsed": true
   },
   "outputs": [],
   "source": [
    "# Compile the model\n",
    "# Think about what loss function is appropiate\n",
    "# Use as the optimizer Adam\n",
    "# Track as an additional metric Accuracy\n",
    "# TODO\n"
   ]
  },
  {
   "cell_type": "code",
   "execution_count": 11,
   "metadata": {},
   "outputs": [
    {
     "name": "stdout",
     "output_type": "stream",
     "text": [
      "Train on 554 samples, validate on 98 samples\n",
      "Epoch 1/150\n",
      "554/554 [==============================] - 0s 783us/step - loss: 0.6796 - acc: 0.6534 - val_loss: 0.6748 - val_acc: 0.6327\n",
      "Epoch 2/150\n",
      "554/554 [==============================] - 0s 221us/step - loss: 0.6672 - acc: 0.6534 - val_loss: 0.6631 - val_acc: 0.6327\n",
      "Epoch 3/150\n",
      "554/554 [==============================] - 0s 269us/step - loss: 0.6608 - acc: 0.6534 - val_loss: 0.6502 - val_acc: 0.6327\n",
      "Epoch 4/150\n",
      "554/554 [==============================] - 0s 192us/step - loss: 0.6532 - acc: 0.6534 - val_loss: 0.6447 - val_acc: 0.6327\n",
      "Epoch 5/150\n",
      "554/554 [==============================] - 0s 357us/step - loss: 0.6505 - acc: 0.6534 - val_loss: 0.6448 - val_acc: 0.6327\n",
      "Epoch 6/150\n",
      "554/554 [==============================] - 0s 245us/step - loss: 0.6443 - acc: 0.6534 - val_loss: 0.6242 - val_acc: 0.6327\n",
      "Epoch 7/150\n",
      "554/554 [==============================] - 0s 234us/step - loss: 0.6301 - acc: 0.6534 - val_loss: 0.6215 - val_acc: 0.6327\n",
      "Epoch 8/150\n",
      "554/554 [==============================] - 0s 313us/step - loss: 0.6311 - acc: 0.6534 - val_loss: 0.6157 - val_acc: 0.6327\n",
      "Epoch 9/150\n",
      "554/554 [==============================] - 0s 231us/step - loss: 0.6237 - acc: 0.6534 - val_loss: 0.6120 - val_acc: 0.6327\n",
      "Epoch 10/150\n",
      "554/554 [==============================] - 0s 246us/step - loss: 0.6130 - acc: 0.6534 - val_loss: 0.6118 - val_acc: 0.6327\n",
      "Epoch 11/150\n",
      "554/554 [==============================] - 0s 289us/step - loss: 0.6130 - acc: 0.6534 - val_loss: 0.6124 - val_acc: 0.6327\n",
      "Epoch 12/150\n",
      "554/554 [==============================] - 0s 289us/step - loss: 0.6129 - acc: 0.6534 - val_loss: 0.6056 - val_acc: 0.6327\n",
      "Epoch 13/150\n",
      "554/554 [==============================] - 0s 174us/step - loss: 0.6063 - acc: 0.6534 - val_loss: 0.6124 - val_acc: 0.6327\n",
      "Epoch 14/150\n",
      "554/554 [==============================] - 0s 233us/step - loss: 0.6007 - acc: 0.6534 - val_loss: 0.6118 - val_acc: 0.6327\n",
      "Epoch 15/150\n",
      "554/554 [==============================] - 0s 435us/step - loss: 0.5994 - acc: 0.6534 - val_loss: 0.6073 - val_acc: 0.6327\n",
      "Epoch 16/150\n",
      "554/554 [==============================] - 0s 247us/step - loss: 0.6022 - acc: 0.6534 - val_loss: 0.6030 - val_acc: 0.6327\n",
      "Epoch 17/150\n",
      "554/554 [==============================] - 0s 225us/step - loss: 0.6122 - acc: 0.6534 - val_loss: 0.6011 - val_acc: 0.6327\n",
      "Epoch 18/150\n",
      "554/554 [==============================] - 0s 535us/step - loss: 0.6051 - acc: 0.6534 - val_loss: 0.6064 - val_acc: 0.6327\n",
      "Epoch 19/150\n",
      "554/554 [==============================] - 0s 503us/step - loss: 0.6049 - acc: 0.6534 - val_loss: 0.6041 - val_acc: 0.6327\n",
      "Epoch 20/150\n",
      "554/554 [==============================] - 0s 535us/step - loss: 0.5953 - acc: 0.6534 - val_loss: 0.6091 - val_acc: 0.6327\n",
      "Epoch 21/150\n",
      "554/554 [==============================] - 0s 586us/step - loss: 0.5938 - acc: 0.6534 - val_loss: 0.6091 - val_acc: 0.6327\n",
      "Epoch 22/150\n",
      "554/554 [==============================] - 0s 604us/step - loss: 0.6013 - acc: 0.6534 - val_loss: 0.6031 - val_acc: 0.6327\n",
      "Epoch 23/150\n",
      "554/554 [==============================] - 0s 582us/step - loss: 0.5929 - acc: 0.6534 - val_loss: 0.6011 - val_acc: 0.6327\n",
      "Epoch 24/150\n",
      "554/554 [==============================] - 0s 504us/step - loss: 0.5923 - acc: 0.6534 - val_loss: 0.6058 - val_acc: 0.6327\n",
      "Epoch 25/150\n",
      "554/554 [==============================] - 0s 289us/step - loss: 0.5896 - acc: 0.6534 - val_loss: 0.6072 - val_acc: 0.6327\n",
      "Epoch 26/150\n",
      "554/554 [==============================] - 0s 226us/step - loss: 0.5947 - acc: 0.6534 - val_loss: 0.6024 - val_acc: 0.6327\n",
      "Epoch 27/150\n",
      "554/554 [==============================] - 0s 273us/step - loss: 0.5948 - acc: 0.6534 - val_loss: 0.6133 - val_acc: 0.6327\n",
      "Epoch 28/150\n",
      "554/554 [==============================] - 0s 278us/step - loss: 0.5869 - acc: 0.6534 - val_loss: 0.6054 - val_acc: 0.6327\n",
      "Epoch 29/150\n",
      "554/554 [==============================] - 0s 270us/step - loss: 0.5916 - acc: 0.6534 - val_loss: 0.6048 - val_acc: 0.6327\n",
      "Epoch 30/150\n",
      "554/554 [==============================] - 0s 198us/step - loss: 0.5874 - acc: 0.6534 - val_loss: 0.6052 - val_acc: 0.6327\n",
      "Epoch 31/150\n",
      "554/554 [==============================] - 0s 209us/step - loss: 0.5881 - acc: 0.6534 - val_loss: 0.5956 - val_acc: 0.6327\n",
      "Epoch 32/150\n",
      "554/554 [==============================] - 0s 187us/step - loss: 0.5906 - acc: 0.6534 - val_loss: 0.6031 - val_acc: 0.6327\n",
      "Epoch 33/150\n",
      "554/554 [==============================] - 0s 291us/step - loss: 0.5854 - acc: 0.6534 - val_loss: 0.6012 - val_acc: 0.6327\n",
      "Epoch 34/150\n",
      "554/554 [==============================] - 0s 780us/step - loss: 0.5884 - acc: 0.6534 - val_loss: 0.6104 - val_acc: 0.6327\n",
      "Epoch 35/150\n",
      "554/554 [==============================] - 0s 712us/step - loss: 0.5837 - acc: 0.6534 - val_loss: 0.6080 - val_acc: 0.6327\n",
      "Epoch 36/150\n",
      "554/554 [==============================] - 0s 291us/step - loss: 0.5813 - acc: 0.6534 - val_loss: 0.6064 - val_acc: 0.6327\n",
      "Epoch 37/150\n",
      "554/554 [==============================] - 0s 181us/step - loss: 0.5856 - acc: 0.6534 - val_loss: 0.6116 - val_acc: 0.6327\n",
      "Epoch 38/150\n",
      "554/554 [==============================] - 0s 211us/step - loss: 0.5903 - acc: 0.6534 - val_loss: 0.5935 - val_acc: 0.6327\n",
      "Epoch 39/150\n",
      "554/554 [==============================] - 0s 207us/step - loss: 0.5862 - acc: 0.6534 - val_loss: 0.6103 - val_acc: 0.6327\n",
      "Epoch 40/150\n",
      "554/554 [==============================] - 0s 188us/step - loss: 0.5878 - acc: 0.6534 - val_loss: 0.5931 - val_acc: 0.6327\n",
      "Epoch 41/150\n",
      "554/554 [==============================] - 0s 209us/step - loss: 0.5808 - acc: 0.6534 - val_loss: 0.6108 - val_acc: 0.6327\n",
      "Epoch 42/150\n",
      "554/554 [==============================] - 0s 213us/step - loss: 0.5815 - acc: 0.6534 - val_loss: 0.5987 - val_acc: 0.6327\n",
      "Epoch 43/150\n",
      "554/554 [==============================] - 0s 251us/step - loss: 0.5757 - acc: 0.6534 - val_loss: 0.6061 - val_acc: 0.6327\n",
      "Epoch 44/150\n",
      "554/554 [==============================] - 0s 243us/step - loss: 0.5992 - acc: 0.6534 - val_loss: 0.6024 - val_acc: 0.6327\n",
      "Epoch 45/150\n",
      "554/554 [==============================] - 0s 226us/step - loss: 0.5847 - acc: 0.6534 - val_loss: 0.6107 - val_acc: 0.6327\n",
      "Epoch 46/150\n",
      "554/554 [==============================] - 0s 226us/step - loss: 0.5749 - acc: 0.6534 - val_loss: 0.6258 - val_acc: 0.6327\n",
      "Epoch 47/150\n",
      "554/554 [==============================] - 0s 201us/step - loss: 0.5775 - acc: 0.6534 - val_loss: 0.6022 - val_acc: 0.6327\n",
      "Epoch 48/150\n",
      "554/554 [==============================] - 0s 328us/step - loss: 0.5846 - acc: 0.6534 - val_loss: 0.6012 - val_acc: 0.6327\n",
      "Epoch 49/150\n",
      "554/554 [==============================] - 0s 369us/step - loss: 0.5721 - acc: 0.6534 - val_loss: 0.6156 - val_acc: 0.6327\n",
      "Epoch 50/150\n",
      "554/554 [==============================] - 0s 444us/step - loss: 0.5807 - acc: 0.6534 - val_loss: 0.6061 - val_acc: 0.6327\n",
      "Epoch 51/150\n",
      "554/554 [==============================] - 0s 429us/step - loss: 0.5756 - acc: 0.6534 - val_loss: 0.6197 - val_acc: 0.6327\n",
      "Epoch 52/150\n",
      "554/554 [==============================] - 0s 409us/step - loss: 0.5781 - acc: 0.6534 - val_loss: 0.6094 - val_acc: 0.6327\n",
      "Epoch 53/150\n",
      "554/554 [==============================] - 0s 366us/step - loss: 0.5725 - acc: 0.6534 - val_loss: 0.6090 - val_acc: 0.6327\n",
      "Epoch 54/150\n",
      "554/554 [==============================] - 0s 554us/step - loss: 0.5740 - acc: 0.6534 - val_loss: 0.6011 - val_acc: 0.6327\n",
      "Epoch 55/150\n",
      "554/554 [==============================] - 0s 391us/step - loss: 0.5716 - acc: 0.6534 - val_loss: 0.5963 - val_acc: 0.6327\n",
      "Epoch 56/150\n",
      "554/554 [==============================] - 0s 479us/step - loss: 0.5732 - acc: 0.6534 - val_loss: 0.6047 - val_acc: 0.6327\n",
      "Epoch 57/150\n",
      "554/554 [==============================] - 0s 345us/step - loss: 0.5796 - acc: 0.6534 - val_loss: 0.5990 - val_acc: 0.6327\n",
      "Epoch 58/150\n",
      "554/554 [==============================] - 0s 432us/step - loss: 0.5737 - acc: 0.6534 - val_loss: 0.5981 - val_acc: 0.6327\n",
      "Epoch 59/150\n",
      "554/554 [==============================] - 0s 256us/step - loss: 0.5716 - acc: 0.6534 - val_loss: 0.6038 - val_acc: 0.6327\n",
      "Epoch 60/150\n",
      "554/554 [==============================] - 0s 321us/step - loss: 0.5762 - acc: 0.6534 - val_loss: 0.6022 - val_acc: 0.6327\n"
     ]
    },
    {
     "name": "stdout",
     "output_type": "stream",
     "text": [
      "Epoch 61/150\n",
      "554/554 [==============================] - 0s 222us/step - loss: 0.5613 - acc: 0.6534 - val_loss: 0.6150 - val_acc: 0.6327\n",
      "Epoch 62/150\n",
      "554/554 [==============================] - 0s 258us/step - loss: 0.5876 - acc: 0.6534 - val_loss: 0.6003 - val_acc: 0.6327\n",
      "Epoch 63/150\n",
      "554/554 [==============================] - 0s 439us/step - loss: 0.5748 - acc: 0.6534 - val_loss: 0.6099 - val_acc: 0.6327\n",
      "Epoch 64/150\n",
      "554/554 [==============================] - 0s 220us/step - loss: 0.5693 - acc: 0.6534 - val_loss: 0.5986 - val_acc: 0.6327\n",
      "Epoch 65/150\n",
      "554/554 [==============================] - 0s 293us/step - loss: 0.5652 - acc: 0.6534 - val_loss: 0.5984 - val_acc: 0.6327\n",
      "Epoch 66/150\n",
      "554/554 [==============================] - 0s 247us/step - loss: 0.5669 - acc: 0.6534 - val_loss: 0.5882 - val_acc: 0.6327\n",
      "Epoch 67/150\n",
      "554/554 [==============================] - 0s 187us/step - loss: 0.5640 - acc: 0.6534 - val_loss: 0.6080 - val_acc: 0.6327\n",
      "Epoch 68/150\n",
      "554/554 [==============================] - 0s 216us/step - loss: 0.5665 - acc: 0.6534 - val_loss: 0.6003 - val_acc: 0.6327\n",
      "Epoch 69/150\n",
      "554/554 [==============================] - 0s 184us/step - loss: 0.5700 - acc: 0.6534 - val_loss: 0.5927 - val_acc: 0.6327\n",
      "Epoch 70/150\n",
      "554/554 [==============================] - 0s 172us/step - loss: 0.5680 - acc: 0.6534 - val_loss: 0.5996 - val_acc: 0.6327\n",
      "Epoch 71/150\n",
      "554/554 [==============================] - 0s 206us/step - loss: 0.5651 - acc: 0.6534 - val_loss: 0.5921 - val_acc: 0.6327\n",
      "Epoch 72/150\n",
      "554/554 [==============================] - 0s 214us/step - loss: 0.5721 - acc: 0.6643 - val_loss: 0.5961 - val_acc: 0.6735\n",
      "Epoch 73/150\n",
      "554/554 [==============================] - 0s 196us/step - loss: 0.5717 - acc: 0.6697 - val_loss: 0.5972 - val_acc: 0.6735\n",
      "Epoch 74/150\n",
      "554/554 [==============================] - 0s 166us/step - loss: 0.5666 - acc: 0.6805 - val_loss: 0.6083 - val_acc: 0.6939\n",
      "Epoch 75/150\n",
      "554/554 [==============================] - 0s 176us/step - loss: 0.5617 - acc: 0.7058 - val_loss: 0.5941 - val_acc: 0.7143\n",
      "Epoch 76/150\n",
      "554/554 [==============================] - 0s 215us/step - loss: 0.5656 - acc: 0.7112 - val_loss: 0.5974 - val_acc: 0.7449\n",
      "Epoch 77/150\n",
      "554/554 [==============================] - 0s 196us/step - loss: 0.5665 - acc: 0.6968 - val_loss: 0.5964 - val_acc: 0.7347\n",
      "Epoch 78/150\n",
      "554/554 [==============================] - 0s 188us/step - loss: 0.5646 - acc: 0.7022 - val_loss: 0.5924 - val_acc: 0.6735\n",
      "Epoch 79/150\n",
      "554/554 [==============================] - 0s 179us/step - loss: 0.5639 - acc: 0.7148 - val_loss: 0.5898 - val_acc: 0.7347\n",
      "Epoch 80/150\n",
      "554/554 [==============================] - 0s 197us/step - loss: 0.5614 - acc: 0.6968 - val_loss: 0.5985 - val_acc: 0.7143\n",
      "Epoch 81/150\n",
      "554/554 [==============================] - 0s 183us/step - loss: 0.5701 - acc: 0.7040 - val_loss: 0.6083 - val_acc: 0.6939\n",
      "Epoch 82/150\n",
      "554/554 [==============================] - 0s 192us/step - loss: 0.5583 - acc: 0.7058 - val_loss: 0.5993 - val_acc: 0.7449\n",
      "Epoch 83/150\n",
      "554/554 [==============================] - 0s 168us/step - loss: 0.5681 - acc: 0.7004 - val_loss: 0.5889 - val_acc: 0.7347\n",
      "Epoch 84/150\n",
      "554/554 [==============================] - 0s 178us/step - loss: 0.5584 - acc: 0.7022 - val_loss: 0.6063 - val_acc: 0.7041\n",
      "Epoch 85/150\n",
      "554/554 [==============================] - 0s 212us/step - loss: 0.5585 - acc: 0.7148 - val_loss: 0.6023 - val_acc: 0.7143\n",
      "Epoch 86/150\n",
      "554/554 [==============================] - 0s 200us/step - loss: 0.5597 - acc: 0.7094 - val_loss: 0.6040 - val_acc: 0.7245\n",
      "Epoch 87/150\n",
      "554/554 [==============================] - 0s 294us/step - loss: 0.5605 - acc: 0.7040 - val_loss: 0.5870 - val_acc: 0.7245\n",
      "Epoch 88/150\n",
      "554/554 [==============================] - 0s 157us/step - loss: 0.5561 - acc: 0.7148 - val_loss: 0.6022 - val_acc: 0.6633\n",
      "Epoch 89/150\n",
      "554/554 [==============================] - 0s 222us/step - loss: 0.5567 - acc: 0.7004 - val_loss: 0.5962 - val_acc: 0.7041\n",
      "Epoch 90/150\n",
      "554/554 [==============================] - 0s 194us/step - loss: 0.5600 - acc: 0.6986 - val_loss: 0.5978 - val_acc: 0.7245\n",
      "Epoch 91/150\n",
      "554/554 [==============================] - 0s 153us/step - loss: 0.5536 - acc: 0.7058 - val_loss: 0.5962 - val_acc: 0.7041\n",
      "Epoch 92/150\n",
      "554/554 [==============================] - 0s 155us/step - loss: 0.5539 - acc: 0.7130 - val_loss: 0.5800 - val_acc: 0.7347\n",
      "Epoch 93/150\n",
      "554/554 [==============================] - 0s 150us/step - loss: 0.5549 - acc: 0.7112 - val_loss: 0.5911 - val_acc: 0.7143\n",
      "Epoch 94/150\n",
      "554/554 [==============================] - 0s 469us/step - loss: 0.5520 - acc: 0.7184 - val_loss: 0.6005 - val_acc: 0.7041\n",
      "Epoch 95/150\n",
      "554/554 [==============================] - 0s 471us/step - loss: 0.5563 - acc: 0.7148 - val_loss: 0.5871 - val_acc: 0.7449\n",
      "Epoch 96/150\n",
      "554/554 [==============================] - 0s 391us/step - loss: 0.5546 - acc: 0.7004 - val_loss: 0.6020 - val_acc: 0.7245\n",
      "Epoch 97/150\n",
      "554/554 [==============================] - 0s 496us/step - loss: 0.5584 - acc: 0.6931 - val_loss: 0.6044 - val_acc: 0.6633\n",
      "Epoch 98/150\n",
      "554/554 [==============================] - 0s 439us/step - loss: 0.5581 - acc: 0.7220 - val_loss: 0.6035 - val_acc: 0.7245\n",
      "Epoch 99/150\n",
      "554/554 [==============================] - 0s 193us/step - loss: 0.5510 - acc: 0.7238 - val_loss: 0.6014 - val_acc: 0.7143\n",
      "Epoch 100/150\n",
      "554/554 [==============================] - 0s 191us/step - loss: 0.5579 - acc: 0.6986 - val_loss: 0.5835 - val_acc: 0.7245\n",
      "Epoch 101/150\n",
      "554/554 [==============================] - 0s 494us/step - loss: 0.5394 - acc: 0.7076 - val_loss: 0.6031 - val_acc: 0.6327\n",
      "Epoch 102/150\n",
      "554/554 [==============================] - 0s 291us/step - loss: 0.5532 - acc: 0.7148 - val_loss: 0.6008 - val_acc: 0.6837\n",
      "Epoch 103/150\n",
      "554/554 [==============================] - 0s 260us/step - loss: 0.5548 - acc: 0.6949 - val_loss: 0.5888 - val_acc: 0.6735\n",
      "Epoch 104/150\n",
      "554/554 [==============================] - 0s 282us/step - loss: 0.5508 - acc: 0.7058 - val_loss: 0.5799 - val_acc: 0.6939\n",
      "Epoch 105/150\n",
      "554/554 [==============================] - 0s 267us/step - loss: 0.5447 - acc: 0.7220 - val_loss: 0.5838 - val_acc: 0.7143\n",
      "Epoch 106/150\n",
      "554/554 [==============================] - 0s 250us/step - loss: 0.5567 - acc: 0.7292 - val_loss: 0.5769 - val_acc: 0.7143\n",
      "Epoch 107/150\n",
      "554/554 [==============================] - 0s 333us/step - loss: 0.5517 - acc: 0.7058 - val_loss: 0.5926 - val_acc: 0.7245\n",
      "Epoch 108/150\n",
      "554/554 [==============================] - 1s 986us/step - loss: 0.5466 - acc: 0.7076 - val_loss: 0.5897 - val_acc: 0.6939\n",
      "Epoch 109/150\n",
      "554/554 [==============================] - 0s 484us/step - loss: 0.5446 - acc: 0.7274 - val_loss: 0.6004 - val_acc: 0.7143\n",
      "Epoch 110/150\n",
      "554/554 [==============================] - 1s 964us/step - loss: 0.5413 - acc: 0.7076 - val_loss: 0.5821 - val_acc: 0.6939\n",
      "Epoch 111/150\n",
      "554/554 [==============================] - 0s 686us/step - loss: 0.5395 - acc: 0.7130 - val_loss: 0.5955 - val_acc: 0.6633\n",
      "Epoch 112/150\n",
      "554/554 [==============================] - 0s 357us/step - loss: 0.5454 - acc: 0.7184 - val_loss: 0.5929 - val_acc: 0.6939\n",
      "Epoch 113/150\n",
      "554/554 [==============================] - 0s 377us/step - loss: 0.5392 - acc: 0.7292 - val_loss: 0.5970 - val_acc: 0.7347\n",
      "Epoch 114/150\n",
      "554/554 [==============================] - 0s 834us/step - loss: 0.5385 - acc: 0.7274 - val_loss: 0.5910 - val_acc: 0.7143\n",
      "Epoch 115/150\n",
      "554/554 [==============================] - 0s 323us/step - loss: 0.5439 - acc: 0.7112 - val_loss: 0.5771 - val_acc: 0.7041\n",
      "Epoch 116/150\n",
      "554/554 [==============================] - 0s 559us/step - loss: 0.5433 - acc: 0.7256 - val_loss: 0.5863 - val_acc: 0.6939\n",
      "Epoch 117/150\n",
      "554/554 [==============================] - 1s 965us/step - loss: 0.5417 - acc: 0.7130 - val_loss: 0.5825 - val_acc: 0.7041\n",
      "Epoch 118/150\n",
      "554/554 [==============================] - 0s 296us/step - loss: 0.5401 - acc: 0.7202 - val_loss: 0.5956 - val_acc: 0.7245\n",
      "Epoch 119/150\n",
      "554/554 [==============================] - 0s 417us/step - loss: 0.5408 - acc: 0.7256 - val_loss: 0.6259 - val_acc: 0.7143\n",
      "Epoch 120/150\n",
      "554/554 [==============================] - 0s 396us/step - loss: 0.5422 - acc: 0.7004 - val_loss: 0.5844 - val_acc: 0.6837\n",
      "Epoch 121/150\n"
     ]
    },
    {
     "name": "stdout",
     "output_type": "stream",
     "text": [
      "554/554 [==============================] - 0s 361us/step - loss: 0.5341 - acc: 0.7076 - val_loss: 0.5761 - val_acc: 0.6735\n",
      "Epoch 122/150\n",
      "554/554 [==============================] - 0s 360us/step - loss: 0.5414 - acc: 0.7112 - val_loss: 0.5835 - val_acc: 0.6837\n",
      "Epoch 123/150\n",
      "554/554 [==============================] - 0s 518us/step - loss: 0.5392 - acc: 0.7256 - val_loss: 0.6090 - val_acc: 0.6837\n",
      "Epoch 124/150\n",
      "554/554 [==============================] - 0s 353us/step - loss: 0.5325 - acc: 0.7202 - val_loss: 0.5858 - val_acc: 0.6939\n",
      "Epoch 125/150\n",
      "554/554 [==============================] - 0s 330us/step - loss: 0.5398 - acc: 0.7292 - val_loss: 0.5828 - val_acc: 0.6735\n",
      "Epoch 126/150\n",
      "554/554 [==============================] - 0s 287us/step - loss: 0.5320 - acc: 0.7184 - val_loss: 0.6028 - val_acc: 0.6939\n",
      "Epoch 127/150\n",
      "554/554 [==============================] - 0s 287us/step - loss: 0.5320 - acc: 0.7166 - val_loss: 0.5901 - val_acc: 0.6837\n",
      "Epoch 128/150\n",
      "554/554 [==============================] - 0s 189us/step - loss: 0.5303 - acc: 0.7202 - val_loss: 0.5748 - val_acc: 0.7041\n",
      "Epoch 129/150\n",
      "554/554 [==============================] - 0s 193us/step - loss: 0.5366 - acc: 0.7094 - val_loss: 0.5650 - val_acc: 0.7143\n",
      "Epoch 130/150\n",
      "554/554 [==============================] - 0s 216us/step - loss: 0.5306 - acc: 0.7076 - val_loss: 0.5753 - val_acc: 0.7245\n",
      "Epoch 131/150\n",
      "554/554 [==============================] - 0s 294us/step - loss: 0.5421 - acc: 0.7040 - val_loss: 0.5716 - val_acc: 0.7143\n",
      "Epoch 132/150\n",
      "554/554 [==============================] - 0s 478us/step - loss: 0.5346 - acc: 0.7274 - val_loss: 0.5901 - val_acc: 0.7041\n",
      "Epoch 133/150\n",
      "554/554 [==============================] - 0s 317us/step - loss: 0.5417 - acc: 0.7130 - val_loss: 0.5549 - val_acc: 0.7143\n",
      "Epoch 134/150\n",
      "554/554 [==============================] - 0s 422us/step - loss: 0.5385 - acc: 0.7256 - val_loss: 0.5582 - val_acc: 0.7041\n",
      "Epoch 135/150\n",
      "554/554 [==============================] - 0s 483us/step - loss: 0.5252 - acc: 0.7220 - val_loss: 0.5910 - val_acc: 0.6939\n",
      "Epoch 136/150\n",
      "554/554 [==============================] - 0s 670us/step - loss: 0.5231 - acc: 0.7256 - val_loss: 0.5695 - val_acc: 0.6735\n",
      "Epoch 137/150\n",
      "554/554 [==============================] - 0s 415us/step - loss: 0.5308 - acc: 0.7365 - val_loss: 0.5597 - val_acc: 0.6939\n",
      "Epoch 138/150\n",
      "554/554 [==============================] - 0s 211us/step - loss: 0.5199 - acc: 0.7184 - val_loss: 0.5973 - val_acc: 0.6837\n",
      "Epoch 139/150\n",
      "554/554 [==============================] - 0s 214us/step - loss: 0.5255 - acc: 0.7130 - val_loss: 0.5593 - val_acc: 0.6633\n",
      "Epoch 140/150\n",
      "554/554 [==============================] - 0s 387us/step - loss: 0.5232 - acc: 0.7310 - val_loss: 0.5494 - val_acc: 0.7245\n",
      "Epoch 141/150\n",
      "554/554 [==============================] - 0s 348us/step - loss: 0.5338 - acc: 0.7148 - val_loss: 0.5540 - val_acc: 0.6939\n",
      "Epoch 142/150\n",
      "554/554 [==============================] - 0s 379us/step - loss: 0.5187 - acc: 0.7310 - val_loss: 0.5560 - val_acc: 0.7245\n",
      "Epoch 143/150\n",
      "554/554 [==============================] - 0s 827us/step - loss: 0.5131 - acc: 0.7292 - val_loss: 0.5953 - val_acc: 0.6939\n",
      "Epoch 144/150\n",
      "554/554 [==============================] - 0s 399us/step - loss: 0.5163 - acc: 0.7184 - val_loss: 0.5635 - val_acc: 0.6735\n",
      "Epoch 145/150\n",
      "554/554 [==============================] - 0s 494us/step - loss: 0.5086 - acc: 0.7292 - val_loss: 0.5407 - val_acc: 0.7245\n",
      "Epoch 146/150\n",
      "554/554 [==============================] - 0s 640us/step - loss: 0.5051 - acc: 0.7238 - val_loss: 0.5553 - val_acc: 0.7245\n",
      "Epoch 147/150\n",
      "554/554 [==============================] - 0s 328us/step - loss: 0.5056 - acc: 0.7455 - val_loss: 0.5357 - val_acc: 0.7347\n",
      "Epoch 148/150\n",
      "554/554 [==============================] - 0s 311us/step - loss: 0.5036 - acc: 0.7383 - val_loss: 0.5372 - val_acc: 0.7041\n",
      "Epoch 149/150\n",
      "554/554 [==============================] - 0s 523us/step - loss: 0.5061 - acc: 0.7256 - val_loss: 0.5562 - val_acc: 0.6735\n",
      "Epoch 150/150\n",
      "554/554 [==============================] - 0s 217us/step - loss: 0.5013 - acc: 0.7292 - val_loss: 0.5484 - val_acc: 0.7347\n"
     ]
    }
   ],
   "source": [
    "# Fit the model\n",
    "#\n",
    "# Use 15% for Validation\n",
    "# Train for 300 epochs\n",
    "# User batch size = 10\n",
    "# Save the model fitting into the variable history\n",
    "# TODO\n",
    "history = TODO"
   ]
  },
  {
   "cell_type": "code",
   "execution_count": 11,
   "metadata": {},
   "outputs": [
    {
     "name": "stdout",
     "output_type": "stream",
     "text": [
      "Train on 554 samples, validate on 98 samples\n",
      "Epoch 1/150\n",
      "554/554 [==============================] - 0s 783us/step - loss: 0.6796 - acc: 0.6534 - val_loss: 0.6748 - val_acc: 0.6327\n",
      "Epoch 2/150\n",
      "554/554 [==============================] - 0s 221us/step - loss: 0.6672 - acc: 0.6534 - val_loss: 0.6631 - val_acc: 0.6327\n",
      "Epoch 3/150\n",
      "554/554 [==============================] - 0s 269us/step - loss: 0.6608 - acc: 0.6534 - val_loss: 0.6502 - val_acc: 0.6327\n",
      "Epoch 4/150\n",
      "554/554 [==============================] - 0s 192us/step - loss: 0.6532 - acc: 0.6534 - val_loss: 0.6447 - val_acc: 0.6327\n",
      "Epoch 5/150\n",
      "554/554 [==============================] - 0s 357us/step - loss: 0.6505 - acc: 0.6534 - val_loss: 0.6448 - val_acc: 0.6327\n",
      "Epoch 6/150\n",
      "554/554 [==============================] - 0s 245us/step - loss: 0.6443 - acc: 0.6534 - val_loss: 0.6242 - val_acc: 0.6327\n",
      "Epoch 7/150\n",
      "554/554 [==============================] - 0s 234us/step - loss: 0.6301 - acc: 0.6534 - val_loss: 0.6215 - val_acc: 0.6327\n",
      "Epoch 8/150\n",
      "554/554 [==============================] - 0s 313us/step - loss: 0.6311 - acc: 0.6534 - val_loss: 0.6157 - val_acc: 0.6327\n",
      "Epoch 9/150\n",
      "554/554 [==============================] - 0s 231us/step - loss: 0.6237 - acc: 0.6534 - val_loss: 0.6120 - val_acc: 0.6327\n",
      "Epoch 10/150\n",
      "554/554 [==============================] - 0s 246us/step - loss: 0.6130 - acc: 0.6534 - val_loss: 0.6118 - val_acc: 0.6327\n",
      "Epoch 11/150\n",
      "554/554 [==============================] - 0s 289us/step - loss: 0.6130 - acc: 0.6534 - val_loss: 0.6124 - val_acc: 0.6327\n",
      "Epoch 12/150\n",
      "554/554 [==============================] - 0s 289us/step - loss: 0.6129 - acc: 0.6534 - val_loss: 0.6056 - val_acc: 0.6327\n",
      "Epoch 13/150\n",
      "554/554 [==============================] - 0s 174us/step - loss: 0.6063 - acc: 0.6534 - val_loss: 0.6124 - val_acc: 0.6327\n",
      "Epoch 14/150\n",
      "554/554 [==============================] - 0s 233us/step - loss: 0.6007 - acc: 0.6534 - val_loss: 0.6118 - val_acc: 0.6327\n",
      "Epoch 15/150\n",
      "554/554 [==============================] - 0s 435us/step - loss: 0.5994 - acc: 0.6534 - val_loss: 0.6073 - val_acc: 0.6327\n",
      "Epoch 16/150\n",
      "554/554 [==============================] - 0s 247us/step - loss: 0.6022 - acc: 0.6534 - val_loss: 0.6030 - val_acc: 0.6327\n",
      "Epoch 17/150\n",
      "554/554 [==============================] - 0s 225us/step - loss: 0.6122 - acc: 0.6534 - val_loss: 0.6011 - val_acc: 0.6327\n",
      "Epoch 18/150\n",
      "554/554 [==============================] - 0s 535us/step - loss: 0.6051 - acc: 0.6534 - val_loss: 0.6064 - val_acc: 0.6327\n",
      "Epoch 19/150\n",
      "554/554 [==============================] - 0s 503us/step - loss: 0.6049 - acc: 0.6534 - val_loss: 0.6041 - val_acc: 0.6327\n",
      "Epoch 20/150\n",
      "554/554 [==============================] - 0s 535us/step - loss: 0.5953 - acc: 0.6534 - val_loss: 0.6091 - val_acc: 0.6327\n",
      "Epoch 21/150\n",
      "554/554 [==============================] - 0s 586us/step - loss: 0.5938 - acc: 0.6534 - val_loss: 0.6091 - val_acc: 0.6327\n",
      "Epoch 22/150\n",
      "554/554 [==============================] - 0s 604us/step - loss: 0.6013 - acc: 0.6534 - val_loss: 0.6031 - val_acc: 0.6327\n",
      "Epoch 23/150\n",
      "554/554 [==============================] - 0s 582us/step - loss: 0.5929 - acc: 0.6534 - val_loss: 0.6011 - val_acc: 0.6327\n",
      "Epoch 24/150\n",
      "554/554 [==============================] - 0s 504us/step - loss: 0.5923 - acc: 0.6534 - val_loss: 0.6058 - val_acc: 0.6327\n",
      "Epoch 25/150\n",
      "554/554 [==============================] - 0s 289us/step - loss: 0.5896 - acc: 0.6534 - val_loss: 0.6072 - val_acc: 0.6327\n",
      "Epoch 26/150\n",
      "554/554 [==============================] - 0s 226us/step - loss: 0.5947 - acc: 0.6534 - val_loss: 0.6024 - val_acc: 0.6327\n",
      "Epoch 27/150\n",
      "554/554 [==============================] - 0s 273us/step - loss: 0.5948 - acc: 0.6534 - val_loss: 0.6133 - val_acc: 0.6327\n",
      "Epoch 28/150\n",
      "554/554 [==============================] - 0s 278us/step - loss: 0.5869 - acc: 0.6534 - val_loss: 0.6054 - val_acc: 0.6327\n",
      "Epoch 29/150\n",
      "554/554 [==============================] - 0s 270us/step - loss: 0.5916 - acc: 0.6534 - val_loss: 0.6048 - val_acc: 0.6327\n",
      "Epoch 30/150\n",
      "554/554 [==============================] - 0s 198us/step - loss: 0.5874 - acc: 0.6534 - val_loss: 0.6052 - val_acc: 0.6327\n",
      "Epoch 31/150\n",
      "554/554 [==============================] - 0s 209us/step - loss: 0.5881 - acc: 0.6534 - val_loss: 0.5956 - val_acc: 0.6327\n",
      "Epoch 32/150\n",
      "554/554 [==============================] - 0s 187us/step - loss: 0.5906 - acc: 0.6534 - val_loss: 0.6031 - val_acc: 0.6327\n",
      "Epoch 33/150\n",
      "554/554 [==============================] - 0s 291us/step - loss: 0.5854 - acc: 0.6534 - val_loss: 0.6012 - val_acc: 0.6327\n",
      "Epoch 34/150\n",
      "554/554 [==============================] - 0s 780us/step - loss: 0.5884 - acc: 0.6534 - val_loss: 0.6104 - val_acc: 0.6327\n",
      "Epoch 35/150\n",
      "554/554 [==============================] - 0s 712us/step - loss: 0.5837 - acc: 0.6534 - val_loss: 0.6080 - val_acc: 0.6327\n",
      "Epoch 36/150\n",
      "554/554 [==============================] - 0s 291us/step - loss: 0.5813 - acc: 0.6534 - val_loss: 0.6064 - val_acc: 0.6327\n",
      "Epoch 37/150\n",
      "554/554 [==============================] - 0s 181us/step - loss: 0.5856 - acc: 0.6534 - val_loss: 0.6116 - val_acc: 0.6327\n",
      "Epoch 38/150\n",
      "554/554 [==============================] - 0s 211us/step - loss: 0.5903 - acc: 0.6534 - val_loss: 0.5935 - val_acc: 0.6327\n",
      "Epoch 39/150\n",
      "554/554 [==============================] - 0s 207us/step - loss: 0.5862 - acc: 0.6534 - val_loss: 0.6103 - val_acc: 0.6327\n",
      "Epoch 40/150\n",
      "554/554 [==============================] - 0s 188us/step - loss: 0.5878 - acc: 0.6534 - val_loss: 0.5931 - val_acc: 0.6327\n",
      "Epoch 41/150\n",
      "554/554 [==============================] - 0s 209us/step - loss: 0.5808 - acc: 0.6534 - val_loss: 0.6108 - val_acc: 0.6327\n",
      "Epoch 42/150\n",
      "554/554 [==============================] - 0s 213us/step - loss: 0.5815 - acc: 0.6534 - val_loss: 0.5987 - val_acc: 0.6327\n",
      "Epoch 43/150\n",
      "554/554 [==============================] - 0s 251us/step - loss: 0.5757 - acc: 0.6534 - val_loss: 0.6061 - val_acc: 0.6327\n",
      "Epoch 44/150\n",
      "554/554 [==============================] - 0s 243us/step - loss: 0.5992 - acc: 0.6534 - val_loss: 0.6024 - val_acc: 0.6327\n",
      "Epoch 45/150\n",
      "554/554 [==============================] - 0s 226us/step - loss: 0.5847 - acc: 0.6534 - val_loss: 0.6107 - val_acc: 0.6327\n",
      "Epoch 46/150\n",
      "554/554 [==============================] - 0s 226us/step - loss: 0.5749 - acc: 0.6534 - val_loss: 0.6258 - val_acc: 0.6327\n",
      "Epoch 47/150\n",
      "554/554 [==============================] - 0s 201us/step - loss: 0.5775 - acc: 0.6534 - val_loss: 0.6022 - val_acc: 0.6327\n",
      "Epoch 48/150\n",
      "554/554 [==============================] - 0s 328us/step - loss: 0.5846 - acc: 0.6534 - val_loss: 0.6012 - val_acc: 0.6327\n",
      "Epoch 49/150\n",
      "554/554 [==============================] - 0s 369us/step - loss: 0.5721 - acc: 0.6534 - val_loss: 0.6156 - val_acc: 0.6327\n",
      "Epoch 50/150\n",
      "554/554 [==============================] - 0s 444us/step - loss: 0.5807 - acc: 0.6534 - val_loss: 0.6061 - val_acc: 0.6327\n",
      "Epoch 51/150\n",
      "554/554 [==============================] - 0s 429us/step - loss: 0.5756 - acc: 0.6534 - val_loss: 0.6197 - val_acc: 0.6327\n",
      "Epoch 52/150\n",
      "554/554 [==============================] - 0s 409us/step - loss: 0.5781 - acc: 0.6534 - val_loss: 0.6094 - val_acc: 0.6327\n",
      "Epoch 53/150\n",
      "554/554 [==============================] - 0s 366us/step - loss: 0.5725 - acc: 0.6534 - val_loss: 0.6090 - val_acc: 0.6327\n",
      "Epoch 54/150\n",
      "554/554 [==============================] - 0s 554us/step - loss: 0.5740 - acc: 0.6534 - val_loss: 0.6011 - val_acc: 0.6327\n",
      "Epoch 55/150\n",
      "554/554 [==============================] - 0s 391us/step - loss: 0.5716 - acc: 0.6534 - val_loss: 0.5963 - val_acc: 0.6327\n",
      "Epoch 56/150\n",
      "554/554 [==============================] - 0s 479us/step - loss: 0.5732 - acc: 0.6534 - val_loss: 0.6047 - val_acc: 0.6327\n",
      "Epoch 57/150\n",
      "554/554 [==============================] - 0s 345us/step - loss: 0.5796 - acc: 0.6534 - val_loss: 0.5990 - val_acc: 0.6327\n",
      "Epoch 58/150\n",
      "554/554 [==============================] - 0s 432us/step - loss: 0.5737 - acc: 0.6534 - val_loss: 0.5981 - val_acc: 0.6327\n",
      "Epoch 59/150\n",
      "554/554 [==============================] - 0s 256us/step - loss: 0.5716 - acc: 0.6534 - val_loss: 0.6038 - val_acc: 0.6327\n",
      "Epoch 60/150\n",
      "554/554 [==============================] - 0s 321us/step - loss: 0.5762 - acc: 0.6534 - val_loss: 0.6022 - val_acc: 0.6327\n"
     ]
    },
    {
     "name": "stdout",
     "output_type": "stream",
     "text": [
      "Epoch 61/150\n",
      "554/554 [==============================] - 0s 222us/step - loss: 0.5613 - acc: 0.6534 - val_loss: 0.6150 - val_acc: 0.6327\n",
      "Epoch 62/150\n",
      "554/554 [==============================] - 0s 258us/step - loss: 0.5876 - acc: 0.6534 - val_loss: 0.6003 - val_acc: 0.6327\n",
      "Epoch 63/150\n",
      "554/554 [==============================] - 0s 439us/step - loss: 0.5748 - acc: 0.6534 - val_loss: 0.6099 - val_acc: 0.6327\n",
      "Epoch 64/150\n",
      "554/554 [==============================] - 0s 220us/step - loss: 0.5693 - acc: 0.6534 - val_loss: 0.5986 - val_acc: 0.6327\n",
      "Epoch 65/150\n",
      "554/554 [==============================] - 0s 293us/step - loss: 0.5652 - acc: 0.6534 - val_loss: 0.5984 - val_acc: 0.6327\n",
      "Epoch 66/150\n",
      "554/554 [==============================] - 0s 247us/step - loss: 0.5669 - acc: 0.6534 - val_loss: 0.5882 - val_acc: 0.6327\n",
      "Epoch 67/150\n",
      "554/554 [==============================] - 0s 187us/step - loss: 0.5640 - acc: 0.6534 - val_loss: 0.6080 - val_acc: 0.6327\n",
      "Epoch 68/150\n",
      "554/554 [==============================] - 0s 216us/step - loss: 0.5665 - acc: 0.6534 - val_loss: 0.6003 - val_acc: 0.6327\n",
      "Epoch 69/150\n",
      "554/554 [==============================] - 0s 184us/step - loss: 0.5700 - acc: 0.6534 - val_loss: 0.5927 - val_acc: 0.6327\n",
      "Epoch 70/150\n",
      "554/554 [==============================] - 0s 172us/step - loss: 0.5680 - acc: 0.6534 - val_loss: 0.5996 - val_acc: 0.6327\n",
      "Epoch 71/150\n",
      "554/554 [==============================] - 0s 206us/step - loss: 0.5651 - acc: 0.6534 - val_loss: 0.5921 - val_acc: 0.6327\n",
      "Epoch 72/150\n",
      "554/554 [==============================] - 0s 214us/step - loss: 0.5721 - acc: 0.6643 - val_loss: 0.5961 - val_acc: 0.6735\n",
      "Epoch 73/150\n",
      "554/554 [==============================] - 0s 196us/step - loss: 0.5717 - acc: 0.6697 - val_loss: 0.5972 - val_acc: 0.6735\n",
      "Epoch 74/150\n",
      "554/554 [==============================] - 0s 166us/step - loss: 0.5666 - acc: 0.6805 - val_loss: 0.6083 - val_acc: 0.6939\n",
      "Epoch 75/150\n",
      "554/554 [==============================] - 0s 176us/step - loss: 0.5617 - acc: 0.7058 - val_loss: 0.5941 - val_acc: 0.7143\n",
      "Epoch 76/150\n",
      "554/554 [==============================] - 0s 215us/step - loss: 0.5656 - acc: 0.7112 - val_loss: 0.5974 - val_acc: 0.7449\n",
      "Epoch 77/150\n",
      "554/554 [==============================] - 0s 196us/step - loss: 0.5665 - acc: 0.6968 - val_loss: 0.5964 - val_acc: 0.7347\n",
      "Epoch 78/150\n",
      "554/554 [==============================] - 0s 188us/step - loss: 0.5646 - acc: 0.7022 - val_loss: 0.5924 - val_acc: 0.6735\n",
      "Epoch 79/150\n",
      "554/554 [==============================] - 0s 179us/step - loss: 0.5639 - acc: 0.7148 - val_loss: 0.5898 - val_acc: 0.7347\n",
      "Epoch 80/150\n",
      "554/554 [==============================] - 0s 197us/step - loss: 0.5614 - acc: 0.6968 - val_loss: 0.5985 - val_acc: 0.7143\n",
      "Epoch 81/150\n",
      "554/554 [==============================] - 0s 183us/step - loss: 0.5701 - acc: 0.7040 - val_loss: 0.6083 - val_acc: 0.6939\n",
      "Epoch 82/150\n",
      "554/554 [==============================] - 0s 192us/step - loss: 0.5583 - acc: 0.7058 - val_loss: 0.5993 - val_acc: 0.7449\n",
      "Epoch 83/150\n",
      "554/554 [==============================] - 0s 168us/step - loss: 0.5681 - acc: 0.7004 - val_loss: 0.5889 - val_acc: 0.7347\n",
      "Epoch 84/150\n",
      "554/554 [==============================] - 0s 178us/step - loss: 0.5584 - acc: 0.7022 - val_loss: 0.6063 - val_acc: 0.7041\n",
      "Epoch 85/150\n",
      "554/554 [==============================] - 0s 212us/step - loss: 0.5585 - acc: 0.7148 - val_loss: 0.6023 - val_acc: 0.7143\n",
      "Epoch 86/150\n",
      "554/554 [==============================] - 0s 200us/step - loss: 0.5597 - acc: 0.7094 - val_loss: 0.6040 - val_acc: 0.7245\n",
      "Epoch 87/150\n",
      "554/554 [==============================] - 0s 294us/step - loss: 0.5605 - acc: 0.7040 - val_loss: 0.5870 - val_acc: 0.7245\n",
      "Epoch 88/150\n",
      "554/554 [==============================] - 0s 157us/step - loss: 0.5561 - acc: 0.7148 - val_loss: 0.6022 - val_acc: 0.6633\n",
      "Epoch 89/150\n",
      "554/554 [==============================] - 0s 222us/step - loss: 0.5567 - acc: 0.7004 - val_loss: 0.5962 - val_acc: 0.7041\n",
      "Epoch 90/150\n",
      "554/554 [==============================] - 0s 194us/step - loss: 0.5600 - acc: 0.6986 - val_loss: 0.5978 - val_acc: 0.7245\n",
      "Epoch 91/150\n",
      "554/554 [==============================] - 0s 153us/step - loss: 0.5536 - acc: 0.7058 - val_loss: 0.5962 - val_acc: 0.7041\n",
      "Epoch 92/150\n",
      "554/554 [==============================] - 0s 155us/step - loss: 0.5539 - acc: 0.7130 - val_loss: 0.5800 - val_acc: 0.7347\n",
      "Epoch 93/150\n",
      "554/554 [==============================] - 0s 150us/step - loss: 0.5549 - acc: 0.7112 - val_loss: 0.5911 - val_acc: 0.7143\n",
      "Epoch 94/150\n",
      "554/554 [==============================] - 0s 469us/step - loss: 0.5520 - acc: 0.7184 - val_loss: 0.6005 - val_acc: 0.7041\n",
      "Epoch 95/150\n",
      "554/554 [==============================] - 0s 471us/step - loss: 0.5563 - acc: 0.7148 - val_loss: 0.5871 - val_acc: 0.7449\n",
      "Epoch 96/150\n",
      "554/554 [==============================] - 0s 391us/step - loss: 0.5546 - acc: 0.7004 - val_loss: 0.6020 - val_acc: 0.7245\n",
      "Epoch 97/150\n",
      "554/554 [==============================] - 0s 496us/step - loss: 0.5584 - acc: 0.6931 - val_loss: 0.6044 - val_acc: 0.6633\n",
      "Epoch 98/150\n",
      "554/554 [==============================] - 0s 439us/step - loss: 0.5581 - acc: 0.7220 - val_loss: 0.6035 - val_acc: 0.7245\n",
      "Epoch 99/150\n",
      "554/554 [==============================] - 0s 193us/step - loss: 0.5510 - acc: 0.7238 - val_loss: 0.6014 - val_acc: 0.7143\n",
      "Epoch 100/150\n",
      "554/554 [==============================] - 0s 191us/step - loss: 0.5579 - acc: 0.6986 - val_loss: 0.5835 - val_acc: 0.7245\n",
      "Epoch 101/150\n",
      "554/554 [==============================] - 0s 494us/step - loss: 0.5394 - acc: 0.7076 - val_loss: 0.6031 - val_acc: 0.6327\n",
      "Epoch 102/150\n",
      "554/554 [==============================] - 0s 291us/step - loss: 0.5532 - acc: 0.7148 - val_loss: 0.6008 - val_acc: 0.6837\n",
      "Epoch 103/150\n",
      "554/554 [==============================] - 0s 260us/step - loss: 0.5548 - acc: 0.6949 - val_loss: 0.5888 - val_acc: 0.6735\n",
      "Epoch 104/150\n",
      "554/554 [==============================] - 0s 282us/step - loss: 0.5508 - acc: 0.7058 - val_loss: 0.5799 - val_acc: 0.6939\n",
      "Epoch 105/150\n",
      "554/554 [==============================] - 0s 267us/step - loss: 0.5447 - acc: 0.7220 - val_loss: 0.5838 - val_acc: 0.7143\n",
      "Epoch 106/150\n",
      "554/554 [==============================] - 0s 250us/step - loss: 0.5567 - acc: 0.7292 - val_loss: 0.5769 - val_acc: 0.7143\n",
      "Epoch 107/150\n",
      "554/554 [==============================] - 0s 333us/step - loss: 0.5517 - acc: 0.7058 - val_loss: 0.5926 - val_acc: 0.7245\n",
      "Epoch 108/150\n",
      "554/554 [==============================] - 1s 986us/step - loss: 0.5466 - acc: 0.7076 - val_loss: 0.5897 - val_acc: 0.6939\n",
      "Epoch 109/150\n",
      "554/554 [==============================] - 0s 484us/step - loss: 0.5446 - acc: 0.7274 - val_loss: 0.6004 - val_acc: 0.7143\n",
      "Epoch 110/150\n",
      "554/554 [==============================] - 1s 964us/step - loss: 0.5413 - acc: 0.7076 - val_loss: 0.5821 - val_acc: 0.6939\n",
      "Epoch 111/150\n",
      "554/554 [==============================] - 0s 686us/step - loss: 0.5395 - acc: 0.7130 - val_loss: 0.5955 - val_acc: 0.6633\n",
      "Epoch 112/150\n",
      "554/554 [==============================] - 0s 357us/step - loss: 0.5454 - acc: 0.7184 - val_loss: 0.5929 - val_acc: 0.6939\n",
      "Epoch 113/150\n",
      "554/554 [==============================] - 0s 377us/step - loss: 0.5392 - acc: 0.7292 - val_loss: 0.5970 - val_acc: 0.7347\n",
      "Epoch 114/150\n",
      "554/554 [==============================] - 0s 834us/step - loss: 0.5385 - acc: 0.7274 - val_loss: 0.5910 - val_acc: 0.7143\n",
      "Epoch 115/150\n",
      "554/554 [==============================] - 0s 323us/step - loss: 0.5439 - acc: 0.7112 - val_loss: 0.5771 - val_acc: 0.7041\n",
      "Epoch 116/150\n",
      "554/554 [==============================] - 0s 559us/step - loss: 0.5433 - acc: 0.7256 - val_loss: 0.5863 - val_acc: 0.6939\n",
      "Epoch 117/150\n",
      "554/554 [==============================] - 1s 965us/step - loss: 0.5417 - acc: 0.7130 - val_loss: 0.5825 - val_acc: 0.7041\n",
      "Epoch 118/150\n",
      "554/554 [==============================] - 0s 296us/step - loss: 0.5401 - acc: 0.7202 - val_loss: 0.5956 - val_acc: 0.7245\n",
      "Epoch 119/150\n",
      "554/554 [==============================] - 0s 417us/step - loss: 0.5408 - acc: 0.7256 - val_loss: 0.6259 - val_acc: 0.7143\n",
      "Epoch 120/150\n",
      "554/554 [==============================] - 0s 396us/step - loss: 0.5422 - acc: 0.7004 - val_loss: 0.5844 - val_acc: 0.6837\n",
      "Epoch 121/150\n"
     ]
    },
    {
     "name": "stdout",
     "output_type": "stream",
     "text": [
      "554/554 [==============================] - 0s 361us/step - loss: 0.5341 - acc: 0.7076 - val_loss: 0.5761 - val_acc: 0.6735\n",
      "Epoch 122/150\n",
      "554/554 [==============================] - 0s 360us/step - loss: 0.5414 - acc: 0.7112 - val_loss: 0.5835 - val_acc: 0.6837\n",
      "Epoch 123/150\n",
      "554/554 [==============================] - 0s 518us/step - loss: 0.5392 - acc: 0.7256 - val_loss: 0.6090 - val_acc: 0.6837\n",
      "Epoch 124/150\n",
      "554/554 [==============================] - 0s 353us/step - loss: 0.5325 - acc: 0.7202 - val_loss: 0.5858 - val_acc: 0.6939\n",
      "Epoch 125/150\n",
      "554/554 [==============================] - 0s 330us/step - loss: 0.5398 - acc: 0.7292 - val_loss: 0.5828 - val_acc: 0.6735\n",
      "Epoch 126/150\n",
      "554/554 [==============================] - 0s 287us/step - loss: 0.5320 - acc: 0.7184 - val_loss: 0.6028 - val_acc: 0.6939\n",
      "Epoch 127/150\n",
      "554/554 [==============================] - 0s 287us/step - loss: 0.5320 - acc: 0.7166 - val_loss: 0.5901 - val_acc: 0.6837\n",
      "Epoch 128/150\n",
      "554/554 [==============================] - 0s 189us/step - loss: 0.5303 - acc: 0.7202 - val_loss: 0.5748 - val_acc: 0.7041\n",
      "Epoch 129/150\n",
      "554/554 [==============================] - 0s 193us/step - loss: 0.5366 - acc: 0.7094 - val_loss: 0.5650 - val_acc: 0.7143\n",
      "Epoch 130/150\n",
      "554/554 [==============================] - 0s 216us/step - loss: 0.5306 - acc: 0.7076 - val_loss: 0.5753 - val_acc: 0.7245\n",
      "Epoch 131/150\n",
      "554/554 [==============================] - 0s 294us/step - loss: 0.5421 - acc: 0.7040 - val_loss: 0.5716 - val_acc: 0.7143\n",
      "Epoch 132/150\n",
      "554/554 [==============================] - 0s 478us/step - loss: 0.5346 - acc: 0.7274 - val_loss: 0.5901 - val_acc: 0.7041\n",
      "Epoch 133/150\n",
      "554/554 [==============================] - 0s 317us/step - loss: 0.5417 - acc: 0.7130 - val_loss: 0.5549 - val_acc: 0.7143\n",
      "Epoch 134/150\n",
      "554/554 [==============================] - 0s 422us/step - loss: 0.5385 - acc: 0.7256 - val_loss: 0.5582 - val_acc: 0.7041\n",
      "Epoch 135/150\n",
      "554/554 [==============================] - 0s 483us/step - loss: 0.5252 - acc: 0.7220 - val_loss: 0.5910 - val_acc: 0.6939\n",
      "Epoch 136/150\n",
      "554/554 [==============================] - 0s 670us/step - loss: 0.5231 - acc: 0.7256 - val_loss: 0.5695 - val_acc: 0.6735\n",
      "Epoch 137/150\n",
      "554/554 [==============================] - 0s 415us/step - loss: 0.5308 - acc: 0.7365 - val_loss: 0.5597 - val_acc: 0.6939\n",
      "Epoch 138/150\n",
      "554/554 [==============================] - 0s 211us/step - loss: 0.5199 - acc: 0.7184 - val_loss: 0.5973 - val_acc: 0.6837\n",
      "Epoch 139/150\n",
      "554/554 [==============================] - 0s 214us/step - loss: 0.5255 - acc: 0.7130 - val_loss: 0.5593 - val_acc: 0.6633\n",
      "Epoch 140/150\n",
      "554/554 [==============================] - 0s 387us/step - loss: 0.5232 - acc: 0.7310 - val_loss: 0.5494 - val_acc: 0.7245\n",
      "Epoch 141/150\n",
      "554/554 [==============================] - 0s 348us/step - loss: 0.5338 - acc: 0.7148 - val_loss: 0.5540 - val_acc: 0.6939\n",
      "Epoch 142/150\n",
      "554/554 [==============================] - 0s 379us/step - loss: 0.5187 - acc: 0.7310 - val_loss: 0.5560 - val_acc: 0.7245\n",
      "Epoch 143/150\n",
      "554/554 [==============================] - 0s 827us/step - loss: 0.5131 - acc: 0.7292 - val_loss: 0.5953 - val_acc: 0.6939\n",
      "Epoch 144/150\n",
      "554/554 [==============================] - 0s 399us/step - loss: 0.5163 - acc: 0.7184 - val_loss: 0.5635 - val_acc: 0.6735\n",
      "Epoch 145/150\n",
      "554/554 [==============================] - 0s 494us/step - loss: 0.5086 - acc: 0.7292 - val_loss: 0.5407 - val_acc: 0.7245\n",
      "Epoch 146/150\n",
      "554/554 [==============================] - 0s 640us/step - loss: 0.5051 - acc: 0.7238 - val_loss: 0.5553 - val_acc: 0.7245\n",
      "Epoch 147/150\n",
      "554/554 [==============================] - 0s 328us/step - loss: 0.5056 - acc: 0.7455 - val_loss: 0.5357 - val_acc: 0.7347\n",
      "Epoch 148/150\n",
      "554/554 [==============================] - 0s 311us/step - loss: 0.5036 - acc: 0.7383 - val_loss: 0.5372 - val_acc: 0.7041\n",
      "Epoch 149/150\n",
      "554/554 [==============================] - 0s 523us/step - loss: 0.5061 - acc: 0.7256 - val_loss: 0.5562 - val_acc: 0.6735\n",
      "Epoch 150/150\n",
      "554/554 [==============================] - 0s 217us/step - loss: 0.5013 - acc: 0.7292 - val_loss: 0.5484 - val_acc: 0.7347\n"
     ]
    }
   ],
   "source": [
    "# Fit the model\n",
    "#\n",
    "# Use 15% for Validation\n",
    "# Train for 300 epochs\n",
    "# User batch size = 10\n",
    "# Save the model fitting into the variable history\n",
    "# TODO\n",
    "history = model.fit(X_train, y_train, validation_split=0.15, epochs=150, batch_size=10)"
   ]
  },
  {
   "cell_type": "code",
   "execution_count": 13,
   "metadata": {},
   "outputs": [
    {
     "name": "stdout",
     "output_type": "stream",
     "text": [
      "dict_keys(['val_loss', 'val_acc', 'loss', 'acc'])\n"
     ]
    }
   ],
   "source": [
    "# list all data in history\n",
    "print(history.history.keys())"
   ]
  },
  {
   "cell_type": "code",
   "execution_count": 29,
   "metadata": {},
   "outputs": [
    {
     "data": {
      "image/png": "[encoded data removed]",
      "text/plain": [
       "<Figure size 432x288 with 1 Axes>"
      ]
     },
     "metadata": {},
     "output_type": "display_data"
    }
   ],
   "source": [
    "# Plot the History of Loss and Validation Loss\n",
    "# Title should be \"Model Loss\"\n",
    "# x label: \"Loss\"\n",
    "# y label: \"Epoch\"\n",
    "# Legend: \"Train\" and \"Validation\"\n",
    "\n",
    "plt.plot(history.history['loss'])\n",
    "plt.plot(history.history['val_loss'])\n",
    "plt.title('Model Loss')\n",
    "plt.ylabel('Loss')\n",
    "plt.xlabel('Epoch')\n",
    "plt.legend(['Train', 'Validation'], loc='upper right')\n",
    "plt.show()"
   ]
  },
  {
   "cell_type": "code",
   "execution_count": 15,
   "metadata": {},
   "outputs": [
    {
     "data": {
      "image/png": "[encoded data removed]",
      "text/plain": [
       "<Figure size 432x288 with 1 Axes>"
      ]
     },
     "metadata": {},
     "output_type": "display_data"
    }
   ],
   "source": [
    "plt.plot(history.history['acc'], 'r')\n",
    "plt.plot(history.history['val_acc'], 'b')\n",
    "plt.title('Model Accuracy')\n",
    "plt.xlabel('Epoch')\n",
    "plt.ylabel('Accuracy')\n",
    "plt.legend(['Train', 'ValueErroralidation'], loc='upper left')\n",
    "plt.show()"
   ]
  },
  {
   "cell_type": "code",
   "execution_count": 16,
   "metadata": {},
   "outputs": [
    {
     "name": "stdout",
     "output_type": "stream",
     "text": [
      "116/116 [==============================] - 0s 264us/step\n"
     ]
    }
   ],
   "source": [
    "score, acc = model.evaluate(X_test, y_test)"
   ]
  },
  {
   "cell_type": "code",
   "execution_count": 17,
   "metadata": {},
   "outputs": [
    {
     "name": "stdout",
     "output_type": "stream",
     "text": [
      "Test score: 0.5784330265275364\n",
      "Test accuracy: 0.73275861657899\n"
     ]
    }
   ],
   "source": [
    "print('Test score:', score)\n",
    "print('Test accuracy:', acc)"
   ]
  },
  {
   "cell_type": "code",
   "execution_count": null,
   "metadata": {
    "collapsed": true
   },
   "outputs": [],
   "source": []
  }
 ],
 "metadata": {
  "kernelspec": {
   "display_name": "Python 3",
   "language": "python",
   "name": "python3"
  },
  "language_info": {
   "codemirror_mode": {
    "name": "ipython",
    "version": 3
   },
   "file_extension": ".py",
   "mimetype": "text/x-python",
   "name": "python",
   "nbconvert_exporter": "python",
   "pygments_lexer": "ipython3",
   "version": "3.6.1"
  },
  "varInspector": {
   "cols": {
    "lenName": 16,
    "lenType": 16,
    "lenVar": 40
   },
   "kernels_config": {
    "python": {
     "delete_cmd_postfix": "",
     "delete_cmd_prefix": "del ",
     "library": "var_list.py",
     "varRefreshCmd": "print(var_dic_list())"
    },
    "r": {
     "delete_cmd_postfix": ") ",
     "delete_cmd_prefix": "rm(",
     "library": "var_list.r",
     "varRefreshCmd": "cat(var_dic_list()) "
    }
   },
   "types_to_exclude": [
    "module",
    "function",
    "builtin_function_or_method",
    "instance",
    "_Feature"
   ],
   "window_display": false
  }
 },
 "nbformat": 4,
 "nbformat_minor": 2
}
