{
 "cells": [
  {
   "cell_type": "code",
   "execution_count": 1,
   "metadata": {
    "collapsed": true
   },
   "outputs": [],
   "source": [
    "import hashlib\n",
    "import random\n",
    "import string\n",
    "import json\n",
    "import binascii\n",
    "import numpy as np\n",
    "import pandas as pd\n",
    "import pylab as pl\n",
    "import logging\n",
    "import datetime\n",
    "import collections"
   ]
  },
  {
   "cell_type": "code",
   "execution_count": 2,
   "metadata": {
    "collapsed": true
   },
   "outputs": [],
   "source": [
    "import hashlib"
   ]
  },
  {
   "cell_type": "code",
   "execution_count": 3,
   "metadata": {},
   "outputs": [
    {
     "name": "stdout",
     "output_type": "stream",
     "text": [
      "Requirement already satisfied: cryptography in /Library/Frameworks/Python.framework/Versions/3.6/lib/python3.6/site-packages (2.7)\n",
      "Requirement already satisfied: asn1crypto>=0.21.0 in /Library/Frameworks/Python.framework/Versions/3.6/lib/python3.6/site-packages (from cryptography) (0.24.0)\n",
      "Requirement already satisfied: six>=1.4.1 in /Library/Frameworks/Python.framework/Versions/3.6/lib/python3.6/site-packages (from cryptography) (1.10.0)\n",
      "Requirement already satisfied: cffi!=1.11.3,>=1.8 in /Library/Frameworks/Python.framework/Versions/3.6/lib/python3.6/site-packages (from cryptography) (1.10.0)\n",
      "Requirement already satisfied: pycparser in /Library/Frameworks/Python.framework/Versions/3.6/lib/python3.6/site-packages (from cffi!=1.11.3,>=1.8->cryptography) (2.17)\n"
     ]
    }
   ],
   "source": [
    "! pip3 install cryptography"
   ]
  },
  {
   "cell_type": "code",
   "execution_count": 4,
   "metadata": {
    "collapsed": true
   },
   "outputs": [],
   "source": [
    "import base64\n",
    "import logging\n",
    "\n",
    "from cryptography.exceptions import UnsupportedAlgorithm\n",
    "from cryptography.hazmat.backends import default_backend\n",
    "from cryptography.hazmat.primitives import hashes\n",
    "from cryptography.hazmat.primitives.asymmetric import padding\n",
    "from cryptography.hazmat.primitives.asymmetric import rsa\n",
    "from cryptography.hazmat.primitives import serialization"
   ]
  },
  {
   "cell_type": "code",
   "execution_count": 5,
   "metadata": {},
   "outputs": [
    {
     "name": "stdout",
     "output_type": "stream",
     "text": [
      "Requirement already satisfied: pyDES in /Library/Frameworks/Python.framework/Versions/3.6/lib/python3.6/site-packages (2.0.1)\r\n"
     ]
    }
   ],
   "source": [
    "! pip3 install pyDES"
   ]
  },
  {
   "cell_type": "code",
   "execution_count": 6,
   "metadata": {
    "collapsed": true
   },
   "outputs": [],
   "source": [
    "import pyDes"
   ]
  },
  {
   "cell_type": "markdown",
   "metadata": {},
   "source": [
    "# Symmetric Encryption \n",
    "\n",
    "use of the DES Algorithm"
   ]
  },
  {
   "cell_type": "code",
   "execution_count": 7,
   "metadata": {
    "collapsed": true
   },
   "outputs": [],
   "source": [
    "def encript(msg, key):\n",
    "    k = pyDes.des(key, pyDes.CBC, \"\\0\\0\\0\\0\\0\\0\\0\\0\", pad=None, padmode=pyDes.PAD_PKCS5)\n",
    "    return k.encrypt(msg)"
   ]
  },
  {
   "cell_type": "code",
   "execution_count": 8,
   "metadata": {
    "collapsed": true
   },
   "outputs": [],
   "source": [
    "def decript(msg, key):\n",
    "    k = pyDes.des(key, pyDes.CBC, \"\\0\\0\\0\\0\\0\\0\\0\\0\", pad=None, padmode=pyDes.PAD_PKCS5)\n",
    "    return k.decrypt(msg)"
   ]
  },
  {
   "cell_type": "code",
   "execution_count": 9,
   "metadata": {},
   "outputs": [
    {
     "name": "stdout",
     "output_type": "stream",
     "text": [
      "b\"\\xda\\xd2\\xb3\\xba\\xe5V\\xd4\\x00\\x89\\x1fO\\xd2\\xe5\\x13i\\xf0\\xf1\\x98*\\xec{J'\\x1d\"\n"
     ]
    }
   ],
   "source": [
    "# Key must be 8 Bytes\n",
    "key = \"12345678\"\n",
    "msg = \"Super secret message!\"\n",
    "encripted_msg = encript(msg, key)\n",
    "print(encripted_msg)"
   ]
  },
  {
   "cell_type": "code",
   "execution_count": 10,
   "metadata": {},
   "outputs": [
    {
     "name": "stdout",
     "output_type": "stream",
     "text": [
      "b'Super secret message!'\n"
     ]
    }
   ],
   "source": [
    "decripted_msg = decript(encripted_msg, key)\n",
    "print(decripted_msg)"
   ]
  },
  {
   "cell_type": "markdown",
   "metadata": {},
   "source": [
    "# Asymmetric Cryptography\n",
    "\n",
    "use of the RSA Algorithm\n",
    "\n"
   ]
  },
  {
   "cell_type": "code",
   "execution_count": 37,
   "metadata": {
    "collapsed": true
   },
   "outputs": [],
   "source": [
    "def generate_keys():\n",
    "    # Generate new key pair\n",
    "    private_key = rsa.generate_private_key(\n",
    "        public_exponent=65537,\n",
    "        key_size=4096,\n",
    "        backend=default_backend()\n",
    "    )\n",
    "    public_key = private_key.public_key()\n",
    "    return private_key, public_key"
   ]
  },
  {
   "cell_type": "code",
   "execution_count": 12,
   "metadata": {
    "collapsed": true
   },
   "outputs": [],
   "source": [
    "private_key, public_key = generate_keys()"
   ]
  },
  {
   "cell_type": "code",
   "execution_count": 13,
   "metadata": {},
   "outputs": [
    {
     "data": {
      "text/plain": [
       "b'-----BEGIN PUBLIC KEY-----\\nMIICIjANBgkqhkiG9w0BAQEFAAOCAg8AMIICCgKCAgEAq4e/h8NV9dB3fz/chg3X\\nVovde4Bg3XCmOG1dTy4q1VDhvIgfvLlwgohZ+avyYa9JdwYnfwarV4LMqAUAT3Jn\\nsNGQUQZ+uRvknsXT0EDvyDnnt0+LGDyETPypiXb2Hw46fCDQ69zBbP9wQRTdLr5Z\\nVjzMfiBZT7we8H9W2Ga14SoT931xoo2ljjeL3K+lYgfZfDn8StKrmet+YJzlV2fn\\n6XXrdJNu1ifVITHbLo10UXigBIFyHnF328r6uv9NP5knnHVgL9WGYvZfLS4Ozx+R\\nftMrtRVUoj9uSxcBqdZZQ7zg1K/YsKdxJWuhcCh7GetbE2Gw/HsNPplKsYC96Fcm\\nvg86imxOqNiHT0SCq9GOXbUJrWqdYed38ygYBqhautAc3c5ytm/MDsHEkSnPAT/r\\nwN+CZ6dp6PIOMNq4pAylNB4gn3UprfwQkBeapHAEMLhqmN908cs4fb0Bhy7tmfkF\\ngIYavDoutPUoL++TMdfEtGvHQjlRuaIz8PJNcjiMX0yXmzpB+Aq0iwIqJw31WS3k\\nXQyzjgtM/I1McI5Y5fVOAR4EymdRWMPiet6yOc7Y47YhQlwKQ+s8hRTI2xRSMu36\\nMpucYENJs6TQifftEBdMnJZkFLv4t6DdCGrzk7Czl6w/KBdhbOi/Ldy4aoC9mh28\\n2CrM3GohWOv8UQKtQbdHLJkCAwEAAQ==\\n-----END PUBLIC KEY-----\\n'"
      ]
     },
     "execution_count": 13,
     "metadata": {},
     "output_type": "execute_result"
    }
   ],
   "source": [
    "pem = public_key.public_bytes(encoding=serialization.Encoding.PEM, format=serialization.PublicFormat.SubjectPublicKeyInfo )\n",
    "pem"
   ]
  },
  {
   "cell_type": "code",
   "execution_count": 14,
   "metadata": {
    "collapsed": true
   },
   "outputs": [],
   "source": [
    "def encrypt_asym(plain_text , publickey):\n",
    "    # Encription with the use of the RSA Library\n",
    "    cipher_text_bytes = public_key.encrypt(\n",
    "        plaintext=plain_text.encode('utf-8'),\n",
    "        padding=padding.OAEP(\n",
    "            mgf=padding.MGF1(algorithm=hashes.SHA256()),\n",
    "            algorithm=hashes.SHA512(),\n",
    "            label=None\n",
    "        )\n",
    "    )\n",
    "    # Conversion of raw bytes to BASE64 representation\n",
    "    cipher_text = base64.urlsafe_b64encode(cipher_text_bytes)\n",
    "    return cipher_text\n",
    "\n",
    "def decrypt_asym(cipher_text, private_key):\n",
    "    # Decription with the use of the RSA Library\n",
    "    decrypted_cipher_text_bytes = private_key.decrypt(\n",
    "        ciphertext=base64.urlsafe_b64decode(cipher_text),\n",
    "        padding=padding.OAEP(\n",
    "            mgf=padding.MGF1(algorithm=hashes.SHA256()),\n",
    "            algorithm=hashes.SHA512(),\n",
    "            label=None\n",
    "        )\n",
    "    )\n",
    "    # Conversion to UTF-8 Text\n",
    "    decrypted_cipher_text = decrypted_cipher_text_bytes.decode('utf-8')\n",
    "    return decrypted_cipher_text"
   ]
  },
  {
   "cell_type": "code",
   "execution_count": 15,
   "metadata": {},
   "outputs": [
    {
     "data": {
      "text/plain": [
       "b'LHlmtBjxGEd56tpBF6wRC9NaXutR4-C-fflIn3oTuX58rrAEpLgo5wtvHbFzKGR4aARiYH31jlq4Zqm23OTOLnVPkOT56Ae_geOdhPqvEV_JmP8qvczYFDU6l-tbdKX07-qI7TeF7CVCTqNcjPzRjsfg-0w8bQJPaeOkB7ZXEsg7iYH-W20oS2B3rwVYUePXOE_5qobS0IkVFbgdC6aht_UuUGAqcwtXngyu5_5zAetwMcKh4aECaa8BYpcMK7mBA_qNJ5smRcnC_yEZL3pQTvoHOI8sRBEL45VVyYMFX8fSPsJS_s9W-X0J3fWbdRuaQP9tzRUIerOclJhav1YkYm68VaYo63eG0WTFSOXrh54F20L9fudv9M6goYDU03Hxq6VbAE6mRZJUkAlBDT4MBr9N0-33vAIjAXNoobK_qIuU4As1eqxvNcppwuJ0awaNABvsW-GyX7naAYpt5j8oCjXXF7zKrjJPkWYpabOwv8xCtPpKUYNL5BcVfnzB8m8y_9sI8LGDep9wYnPHGrvh3adP6nHvFsAOz4UJ8jwTNpb5KxF9bPrBY5_G6STXjpYmzUz2TGNIKLTcP8bKf_dkrc2FjDFayQs8dH-rwMcqzooy_DpKAKqVqmVWoYsbOyLBgMLwVUuh2VV3AnUmNVGqlvR-Sel_up-xdvbA5NTJayU='"
      ]
     },
     "execution_count": 15,
     "metadata": {},
     "output_type": "execute_result"
    }
   ],
   "source": [
    "msg = \"This is the illustration of RSA algorithm of asymmetric cryptography\"\n",
    "encrypted_msg = encrypt_asym(msg , public_key)\n",
    "encrypted_msg"
   ]
  },
  {
   "cell_type": "code",
   "execution_count": 16,
   "metadata": {},
   "outputs": [
    {
     "data": {
      "text/plain": [
       "'This is the illustration of RSA algorithm of asymmetric cryptography'"
      ]
     },
     "execution_count": 16,
     "metadata": {},
     "output_type": "execute_result"
    }
   ],
   "source": [
    "decripted_msg = decrypt_asym(encrypted_msg, private_key)\n",
    "decripted_msg"
   ]
  },
  {
   "cell_type": "markdown",
   "metadata": {},
   "source": [
    "# Simple Hash Functions\n",
    "\n",
    "Just the first letter of the message"
   ]
  },
  {
   "cell_type": "code",
   "execution_count": 17,
   "metadata": {
    "collapsed": true
   },
   "outputs": [],
   "source": [
    "msg = \"This is a long contract\""
   ]
  },
  {
   "cell_type": "code",
   "execution_count": 18,
   "metadata": {
    "collapsed": true
   },
   "outputs": [],
   "source": [
    "def super_simple_hash(msg):\n",
    "    return msg[0]"
   ]
  },
  {
   "cell_type": "code",
   "execution_count": 19,
   "metadata": {},
   "outputs": [
    {
     "data": {
      "text/plain": [
       "'T'"
      ]
     },
     "execution_count": 19,
     "metadata": {},
     "output_type": "execute_result"
    }
   ],
   "source": [
    "super_simple_hash(msg)"
   ]
  },
  {
   "cell_type": "code",
   "execution_count": 20,
   "metadata": {
    "collapsed": true
   },
   "outputs": [],
   "source": [
    "msg = \"This is a totaly different contract :-)\""
   ]
  },
  {
   "cell_type": "code",
   "execution_count": 21,
   "metadata": {},
   "outputs": [
    {
     "data": {
      "text/plain": [
       "'T'"
      ]
     },
     "execution_count": 21,
     "metadata": {},
     "output_type": "execute_result"
    }
   ],
   "source": [
    "super_simple_hash(msg)"
   ]
  },
  {
   "cell_type": "markdown",
   "metadata": {},
   "source": [
    "# Secure Hash Functions"
   ]
  },
  {
   "cell_type": "code",
   "execution_count": 22,
   "metadata": {
    "collapsed": true
   },
   "outputs": [],
   "source": [
    "def hash_msg(msg=\"\"):\n",
    "    return hashlib.sha256(str(msg).encode('utf-8')).hexdigest()"
   ]
  },
  {
   "cell_type": "code",
   "execution_count": 23,
   "metadata": {},
   "outputs": [
    {
     "data": {
      "text/plain": [
       "'853dbfcc24490c5b10f557aa3d35ed5ba895f2165b7cbbab561c19012665838a'"
      ]
     },
     "execution_count": 23,
     "metadata": {},
     "output_type": "execute_result"
    }
   ],
   "source": [
    "hash_msg(\"This is a long contract\")"
   ]
  },
  {
   "cell_type": "code",
   "execution_count": 24,
   "metadata": {},
   "outputs": [
    {
     "data": {
      "text/plain": [
       "'fcaa045d6064a9f33c7a8677664f53ff60b0ce575979219d414a60e3129afe09'"
      ]
     },
     "execution_count": 24,
     "metadata": {},
     "output_type": "execute_result"
    }
   ],
   "source": [
    "hash_msg(\"This is a totaly different contract :-)\")"
   ]
  },
  {
   "cell_type": "code",
   "execution_count": 25,
   "metadata": {
    "collapsed": true
   },
   "outputs": [],
   "source": [
    "def check_msg(msg, signed_hash):\n",
    "    calculated_hash = hash_msg(msg)\n",
    "    if signed_hash == calculated_hash:\n",
    "        return True\n",
    "    else:\n",
    "        return False"
   ]
  },
  {
   "cell_type": "code",
   "execution_count": 26,
   "metadata": {},
   "outputs": [
    {
     "data": {
      "text/plain": [
       "True"
      ]
     },
     "execution_count": 26,
     "metadata": {},
     "output_type": "execute_result"
    }
   ],
   "source": [
    "msg = \"This is my Contract\"\n",
    "msg_hash = hash_msg(msg)\n",
    "check_msg(msg, msg_hash)"
   ]
  },
  {
   "cell_type": "code",
   "execution_count": 27,
   "metadata": {},
   "outputs": [
    {
     "data": {
      "text/plain": [
       "False"
      ]
     },
     "execution_count": 27,
     "metadata": {},
     "output_type": "execute_result"
    }
   ],
   "source": [
    "msg = \"I change the contract so it is much better now for me :-)\"\n",
    "check_msg(msg, msg_hash)"
   ]
  },
  {
   "cell_type": "markdown",
   "metadata": {},
   "source": [
    "# Digital signing messages"
   ]
  },
  {
   "cell_type": "code",
   "execution_count": 28,
   "metadata": {
    "collapsed": true
   },
   "outputs": [],
   "source": [
    "def sign_msg(message, private_key):\n",
    "    signature = private_key.sign(message, padding.PSS(mgf=padding.MGF1(hashes.SHA256()), salt_length=padding.PSS.MAX_LENGTH), hashes.SHA256())\n",
    "    return signature"
   ]
  },
  {
   "cell_type": "code",
   "execution_count": 29,
   "metadata": {
    "collapsed": true
   },
   "outputs": [],
   "source": [
    "msg = b\"A message I want to sign\"\n",
    "signature = sign_msg(msg, private_key)"
   ]
  },
  {
   "cell_type": "code",
   "execution_count": 30,
   "metadata": {},
   "outputs": [
    {
     "data": {
      "text/plain": [
       "b'F\\x94\\xba\\xbe\\x92\\xb2\\x7f\\xa9?*\\xaen\\x7f\\x9b\\xe0^EC\\xa4`?\\x9a\\xb4o\\x9f\\xf9\\xe9;j\\x03<\\xeet&\\xb4;\\xaf\\xccH\\xd4\\x1b\\t`\\x8f\\xfe\\x7f\\x8e\\xbfG\\x00\\xeah\\xc5h\\xee\\xcd\\xbd\\xfa\\x80\\x13\\xeb\\xa7\\x7f\\x888\"P\\xfb\\xcf\\xf2O\\x99{EB\\xcfw\\xb8~\\xa4\\xa5h\\xd5$x\\xc0#\\xa4\\xa1\\xf5\\xe1*K\\x12\\x06\\xbc@7m\\xbe{\\x88u_vk\\xdb\\xef\\x05\\x9a\\xb1\\x96P\"\\xcd\\xcc\\xc4\\xef\\xb3O]QW?\\x15\\x8e\\xe0f)\\x92S\\x8e\\x8be\\x02g\\xf7\\xc6}\\x8f\\x98l\\x1d\\xcf\\x88\\x1dt\\xc9\\xc0yJ\\\\\\x88*-|\\x8dK\\n\\xe4\\x0e\\xfe\\x96\\xc8\\xb6\\xdc\\x00zepb\\xe9\\xbei\\x12\\xb6\\xb0O\\xd9Kq\\xa8\\xe3\\xb6\\xbb\\x98(-\\xc9\\xef\\xc6\\x1b\\xa1R\\xf7\\xfe\\xd7DlOJ\\x0e\\xc2\\x113v}-X\\x00\\xab}\\xb2\\xcd\\xa8\\xf8\\xcc\\xe2[k\\xcfx\\x9f/|O\\xc4[,\\xce\\x11\\xa1V\\xa1\\xcaA\\x9eT\\xf2\\xba|,\\x16\\xb8\\xd1\\\\\\x82T\\xae\\xfe\\x1d<\\x9c\\x8e\\x84T.y\\xdd\\xa5\\x13\\x08\\xec\\xa4\\n9\\x8d\\xfb\\x86\\x1eL\\x80Y\\xafE\\x82\\x01\\xabt\\x1e\\x7f\\xc99\\x14\\xb4\\xdc\\x04\\xc9\\x0f\\xeeY#t\\x8bv\\xb2\\xab\\xa9\\xe7\\x8e\\xffK\\xc1_\\xd4\\xa4\\x04\\\\IO-\\xc3\"\\x10$t\\x06\\xef\\x1af*G\\x1b\\xe5CA\\xd2\\x9d\\xa3\\r\\xab\\xf3{S7N\\xc1\\xeb\\x14\\xfa\\xbe|;\\x818h/\\xaa\\xceX\\x13\\xe3\\xeb\\x04d\\xf7\\xe3\\xc8)Y\\xb7N1\"[\\xcd\\xe8fN\\x12\\x07;\\x98b\\x01C\\xeb\\x15\\xbb\\xa7X\\xbf\\x12\\xed\\xa9Mw\\xb2\\nQ\\xae\\xe92\\x9b\\xbe\\r\\xbb\\x0b=\\xb3\\xd7\\x04\\xf0\\x9d} \\x81:\\x86?\\xdc\\x99SG\\xaeN\\xd0\\x16\\\\l\\xd0\\x0b\\x06\\xc0Q*\\x7f\\xcc\\xcb\\t\\xa0\\x83\\xa8\\xde9W\\xc5\\xde\\xb04!K\\xde\\xff+\\xd3\\x0f\\xad}2\\xee\\xf5M\\x95\\xaf\\xe2\\xad\\x83\\x83\\xcd#6#\\x93Wz\\x8f\\r[\\xf9\\xbdd\\x9b\\xb6\\xc4\\x05\\xeeD\\x8b\\x18W\\xd4\\xcfX\"\\x9cS\\xc8zl@\\xa0\\x01\\xadUY\\xadrV\\'\\x10\\xb3\\x8dt\\x81Y\\xb0~b2\\x8dD'"
      ]
     },
     "execution_count": 30,
     "metadata": {},
     "output_type": "execute_result"
    }
   ],
   "source": [
    "signature"
   ]
  },
  {
   "cell_type": "code",
   "execution_count": 31,
   "metadata": {
    "collapsed": true
   },
   "outputs": [],
   "source": [
    "def verify(signature, message, public_key):\n",
    "    try:\n",
    "        public_key.verify(signature, message, padding.PSS( mgf=padding.MGF1(hashes.SHA256()), salt_length=padding.PSS.MAX_LENGTH), hashes.SHA256())\n",
    "        return True\n",
    "    except: \n",
    "        return False"
   ]
  },
  {
   "cell_type": "code",
   "execution_count": 32,
   "metadata": {},
   "outputs": [
    {
     "data": {
      "text/plain": [
       "True"
      ]
     },
     "execution_count": 32,
     "metadata": {},
     "output_type": "execute_result"
    }
   ],
   "source": [
    "verify(signature, msg, public_key)"
   ]
  },
  {
   "cell_type": "code",
   "execution_count": 33,
   "metadata": {
    "collapsed": true
   },
   "outputs": [],
   "source": [
    "another_msg = \"Another Message\""
   ]
  },
  {
   "cell_type": "code",
   "execution_count": 34,
   "metadata": {},
   "outputs": [
    {
     "data": {
      "text/plain": [
       "False"
      ]
     },
     "execution_count": 34,
     "metadata": {},
     "output_type": "execute_result"
    }
   ],
   "source": [
    "verify(signature, another_msg, public_key)"
   ]
  },
  {
   "cell_type": "code",
   "execution_count": 35,
   "metadata": {
    "collapsed": true
   },
   "outputs": [],
   "source": [
    "bob_private_key, bob_public_key = generate_keys()"
   ]
  },
  {
   "cell_type": "code",
   "execution_count": 36,
   "metadata": {},
   "outputs": [
    {
     "data": {
      "text/plain": [
       "False"
      ]
     },
     "execution_count": 36,
     "metadata": {},
     "output_type": "execute_result"
    }
   ],
   "source": [
    "verify(signature, msg, bob_public_key)"
   ]
  }
 ],
 "metadata": {
  "kernelspec": {
   "display_name": "Python 3",
   "language": "python",
   "name": "python3"
  },
  "language_info": {
   "codemirror_mode": {
    "name": "ipython",
    "version": 3
   },
   "file_extension": ".py",
   "mimetype": "text/x-python",
   "name": "python",
   "nbconvert_exporter": "python",
   "pygments_lexer": "ipython3",
   "version": "3.6.1"
  },
  "varInspector": {
   "cols": {
    "lenName": 16,
    "lenType": 16,
    "lenVar": 40
   },
   "kernels_config": {
    "python": {
     "delete_cmd_postfix": "",
     "delete_cmd_prefix": "del ",
     "library": "var_list.py",
     "varRefreshCmd": "print(var_dic_list())"
    },
    "r": {
     "delete_cmd_postfix": ") ",
     "delete_cmd_prefix": "rm(",
     "library": "var_list.r",
     "varRefreshCmd": "cat(var_dic_list()) "
    }
   },
   "types_to_exclude": [
    "module",
    "function",
    "builtin_function_or_method",
    "instance",
    "_Feature"
   ],
   "window_display": false
  }
 },
 "nbformat": 4,
 "nbformat_minor": 2
}
