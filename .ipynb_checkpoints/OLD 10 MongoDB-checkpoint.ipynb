{
 "cells": [
  {
   "cell_type": "markdown",
   "metadata": {},
   "source": [
    "# MongoDB\n",
    "\n",
    "Based on https://docs.mongodb.com/getting-started \n"
   ]
  },
  {
   "cell_type": "markdown",
   "metadata": {},
   "source": [
    "MongoDB is a **NoSQL** open-source **document database**.  MongoDB provides horizontal scaling by replicating and partitioning the data over multiple nodes. This can improve the reliability and scalability of the system.\n",
    "\n",
    "A record in MongoDB is a **document**, which is a data structure composed of field and value pairs. MongoDB documents are similar to JSON objects or Python dictionaries. The values of fields may include other documents, arrays, and arrays of documents.\n",
    "\n",
    "This is an example of a document:\n",
    "```JSON\n",
    "{\n",
    "   \"_id\" : ObjectId(\"54c955492b7c8eb21818bd09\"),\n",
    "   \"address\" : {\n",
    "      \"street\" : \"2 Avenue\",\n",
    "      \"zipcode\" : \"10075\",\n",
    "      \"building\" : \"1480\",\n",
    "      \"coord\" : [ -73.9557413, 40.7720266 ]\n",
    "   },\n",
    "   \"borough\" : \"Manhattan\",\n",
    "   \"cuisine\" : \"Italian\",\n",
    "   \"grades\" : [\n",
    "      {\n",
    "         \"date\" : ISODate(\"2014-10-01T00:00:00Z\"),\n",
    "         \"grade\" : \"A\",\n",
    "         \"score\" : 11\n",
    "      },\n",
    "      {\n",
    "         \"date\" : ISODate(\"2014-01-16T00:00:00Z\"),\n",
    "         \"grade\" : \"B\",\n",
    "         \"score\" : 17\n",
    "      }\n",
    "   ],\n",
    "   \"name\" : \"Vella\",\n",
    "   \"restaurant_id\" : \"41704620\"\n",
    "}\n",
    "```\n",
    "In MongoDB, documents have a unique **_id** field that acts as a primary key. MongoDB automatically adds a unique _id to each document if you are not providing it by yourself.\n",
    "\n",
    "MongoDB stores documents in **collections**. Collections are analogous to tables in relational databases. Unlike a table, however, a collection does not require its documents to have the same schema.\n",
    "\n",
    "You can start a Docker image with MongoDB like this:\n",
    "```bash\n",
    "docker run -p 27017:27017 -d mongo:4.0-xenial\n",
    "```\n",
    "\n",
    "In production you really (!) would need to enable authentication with username and password, but for development purposes this is fine."
   ]
  },
  {
   "cell_type": "code",
   "execution_count": 1,
   "metadata": {
    "collapsed": true
   },
   "outputs": [],
   "source": [
    "# Install the pymongo Python Package \n",
    "# !pip3 install pymongo"
   ]
  },
  {
   "cell_type": "code",
   "execution_count": 2,
   "metadata": {
    "collapsed": true
   },
   "outputs": [],
   "source": [
    "from pymongo import MongoClient\n",
    "from pprint import pprint\n",
    "import requests "
   ]
  },
  {
   "cell_type": "code",
   "execution_count": 3,
   "metadata": {
    "collapsed": true
   },
   "outputs": [],
   "source": [
    "# Client connects to \"localhost\" by default \n",
    "client = MongoClient()\n",
    "# Create local \"bipm\" database on the fly \n",
    "db = client['bipm']"
   ]
  },
  {
   "cell_type": "code",
   "execution_count": 4,
   "metadata": {
    "collapsed": true
   },
   "outputs": [],
   "source": [
    "# When we rerun the whole notebook, we start from scratch \n",
    "# by dropping the colection \"courses\"\n",
    "db.courses.drop()"
   ]
  },
  {
   "cell_type": "code",
   "execution_count": 5,
   "metadata": {
    "collapsed": true
   },
   "outputs": [],
   "source": [
    "# Create a Python Dictonary\n",
    "courses = [\n",
    "    {'title': 'Data Science',\n",
    "     'lecturer': {\n",
    "         'name': 'Markus Löcher',\n",
    "         'department': 'Math',\n",
    "         'status': 'Professor'\n",
    "     },\n",
    "     'semester': 1},\n",
    "    {'title': 'Data Warehousing',\n",
    "     'lecturer': {\n",
    "         'name': 'Roland M. Mueller',\n",
    "         'department': 'Information Systems',\n",
    "         'status': 'Professor'\n",
    "     },\n",
    "     'semester': 1},\n",
    "    {'title': 'Business Process Management',\n",
    "     'lecturer': {\n",
    "         'name': 'Frank Habermann',\n",
    "         'department': 'Information Systems',\n",
    "         'status': 'Professor'\n",
    "     },\n",
    "     'semester': 1},\n",
    "    {'title': 'Stratigic Issues of IT',\n",
    "     'lecturer': {\n",
    "         'name': 'Sven Pohland',\n",
    "         'department': 'Information Systems',\n",
    "         'status': 'Professor'\n",
    "     },\n",
    "     'semester': 1},\n",
    "    {'title': 'Text, Web and Social Media Analytics Lab',\n",
    "     'lecturer': {\n",
    "         'name': 'Markus Löcher',\n",
    "         'department': 'Math',\n",
    "         'status': 'Professor'\n",
    "     },\n",
    "     'semester': 2},\n",
    "    {'title': 'Enterprise Architectures for Big Data',\n",
    "     'lecturer': {\n",
    "         'name': 'Roland M. Mueller',\n",
    "         'department': 'Information Systems',\n",
    "         'status': 'Professor'\n",
    "     },\n",
    "     'semester': 2},\n",
    "    {'title': 'Business Process Integration Lab',\n",
    "     'lecturer': {\n",
    "         'name': 'Frank Habermann',\n",
    "         'department': 'Information Systems',\n",
    "         'status': 'Professor'\n",
    "     },\n",
    "     'semester': 2},\n",
    "    {'title': 'IT-Security and Privacy',\n",
    "     'lecturer': {\n",
    "         'name': 'Dennis Uckel',\n",
    "         'department': 'Information Systems',\n",
    "         'status': 'External'\n",
    "     },\n",
    "     'semester': 2},\n",
    "    {'title': 'Research Methods',\n",
    "     'lecturer': {\n",
    "         'name': 'Marcus Birkenkrahe',\n",
    "         'department': 'Information Systems',\n",
    "         'status': 'Professor'\n",
    "     },\n",
    "     'semester': 2},\n",
    "]"
   ]
  },
  {
   "cell_type": "code",
   "execution_count": 6,
   "metadata": {},
   "outputs": [
    {
     "name": "stdout",
     "output_type": "stream",
     "text": [
      "[{'lecturer': {'department': 'Math',\n",
      "               'name': 'Markus Löcher',\n",
      "               'status': 'Professor'},\n",
      "  'semester': 1,\n",
      "  'title': 'Data Science'},\n",
      " {'lecturer': {'department': 'Information Systems',\n",
      "               'name': 'Roland M. Mueller',\n",
      "               'status': 'Professor'},\n",
      "  'semester': 1,\n",
      "  'title': 'Data Warehousing'},\n",
      " {'lecturer': {'department': 'Information Systems',\n",
      "               'name': 'Frank Habermann',\n",
      "               'status': 'Professor'},\n",
      "  'semester': 1,\n",
      "  'title': 'Business Process Management'},\n",
      " {'lecturer': {'department': 'Information Systems',\n",
      "               'name': 'Sven Pohland',\n",
      "               'status': 'Professor'},\n",
      "  'semester': 1,\n",
      "  'title': 'Stratigic Issues of IT'},\n",
      " {'lecturer': {'department': 'Math',\n",
      "               'name': 'Markus Löcher',\n",
      "               'status': 'Professor'},\n",
      "  'semester': 2,\n",
      "  'title': 'Text, Web and Social Media Analytics Lab'},\n",
      " {'lecturer': {'department': 'Information Systems',\n",
      "               'name': 'Roland M. Mueller',\n",
      "               'status': 'Professor'},\n",
      "  'semester': 2,\n",
      "  'title': 'Enterprise Architectures for Big Data'},\n",
      " {'lecturer': {'department': 'Information Systems',\n",
      "               'name': 'Frank Habermann',\n",
      "               'status': 'Professor'},\n",
      "  'semester': 2,\n",
      "  'title': 'Business Process Integration Lab'},\n",
      " {'lecturer': {'department': 'Information Systems',\n",
      "               'name': 'Dennis Uckel',\n",
      "               'status': 'External'},\n",
      "  'semester': 2,\n",
      "  'title': 'IT-Security and Privacy'},\n",
      " {'lecturer': {'department': 'Information Systems',\n",
      "               'name': 'Marcus Birkenkrahe',\n",
      "               'status': 'Professor'},\n",
      "  'semester': 2,\n",
      "  'title': 'Research Methods'}]\n"
     ]
    }
   ],
   "source": [
    "pprint(courses)"
   ]
  },
  {
   "cell_type": "markdown",
   "metadata": {},
   "source": [
    "## insert_many() and insert_one()\n",
    "\n",
    "You can use the insert_one() method and the insert_many() method to add documents to a collection in MongoDB. If you attempt to add documents to a collection that does not exist, MongoDB will create the collection for you.\n"
   ]
  },
  {
   "cell_type": "code",
   "execution_count": 7,
   "metadata": {},
   "outputs": [
    {
     "data": {
      "text/plain": [
       "<pymongo.results.InsertManyResult at 0x10ef3d8c8>"
      ]
     },
     "execution_count": 7,
     "metadata": {},
     "output_type": "execute_result"
    }
   ],
   "source": [
    "db.courses.insert_many(courses)"
   ]
  },
  {
   "cell_type": "markdown",
   "metadata": {},
   "source": [
    "## find()\n",
    "\n",
    "You can use the find() method to issue a query to retrieve data from a collection in MongoDB. All queries in MongoDB have the scope of a single collection.\n",
    "Queries can return all documents in a collection or only the documents that match a specified filter or criteria. You can specify the filter or criteria in a document and pass as a parameter to the find() method.\n",
    "The find() method returns query results in a cursor, which is an iterable object that yields documents.\n",
    "\n",
    "To return all documents in a collection, call the find() method without a criteria document. "
   ]
  },
  {
   "cell_type": "code",
   "execution_count": 8,
   "metadata": {},
   "outputs": [
    {
     "name": "stdout",
     "output_type": "stream",
     "text": [
      "{'_id': ObjectId('5cbd6d4d6879c22b4da9e851'),\n",
      " 'lecturer': {'department': 'Math',\n",
      "              'name': 'Markus Löcher',\n",
      "              'status': 'Professor'},\n",
      " 'semester': 1,\n",
      " 'title': 'Data Science'}\n",
      "{'_id': ObjectId('5cbd6d4d6879c22b4da9e852'),\n",
      " 'lecturer': {'department': 'Information Systems',\n",
      "              'name': 'Roland M. Mueller',\n",
      "              'status': 'Professor'},\n",
      " 'semester': 1,\n",
      " 'title': 'Data Warehousing'}\n",
      "{'_id': ObjectId('5cbd6d4d6879c22b4da9e853'),\n",
      " 'lecturer': {'department': 'Information Systems',\n",
      "              'name': 'Frank Habermann',\n",
      "              'status': 'Professor'},\n",
      " 'semester': 1,\n",
      " 'title': 'Business Process Management'}\n",
      "{'_id': ObjectId('5cbd6d4d6879c22b4da9e854'),\n",
      " 'lecturer': {'department': 'Information Systems',\n",
      "              'name': 'Sven Pohland',\n",
      "              'status': 'Professor'},\n",
      " 'semester': 1,\n",
      " 'title': 'Stratigic Issues of IT'}\n",
      "{'_id': ObjectId('5cbd6d4d6879c22b4da9e855'),\n",
      " 'lecturer': {'department': 'Math',\n",
      "              'name': 'Markus Löcher',\n",
      "              'status': 'Professor'},\n",
      " 'semester': 2,\n",
      " 'title': 'Text, Web and Social Media Analytics Lab'}\n",
      "{'_id': ObjectId('5cbd6d4d6879c22b4da9e856'),\n",
      " 'lecturer': {'department': 'Information Systems',\n",
      "              'name': 'Roland M. Mueller',\n",
      "              'status': 'Professor'},\n",
      " 'semester': 2,\n",
      " 'title': 'Enterprise Architectures for Big Data'}\n",
      "{'_id': ObjectId('5cbd6d4d6879c22b4da9e857'),\n",
      " 'lecturer': {'department': 'Information Systems',\n",
      "              'name': 'Frank Habermann',\n",
      "              'status': 'Professor'},\n",
      " 'semester': 2,\n",
      " 'title': 'Business Process Integration Lab'}\n",
      "{'_id': ObjectId('5cbd6d4d6879c22b4da9e858'),\n",
      " 'lecturer': {'department': 'Information Systems',\n",
      "              'name': 'Dennis Uckel',\n",
      "              'status': 'External'},\n",
      " 'semester': 2,\n",
      " 'title': 'IT-Security and Privacy'}\n",
      "{'_id': ObjectId('5cbd6d4d6879c22b4da9e859'),\n",
      " 'lecturer': {'department': 'Information Systems',\n",
      "              'name': 'Marcus Birkenkrahe',\n",
      "              'status': 'Professor'},\n",
      " 'semester': 2,\n",
      " 'title': 'Research Methods'}\n"
     ]
    }
   ],
   "source": [
    "cursor = db.courses.find()\n",
    "for document in cursor:\n",
    "    pprint(document)"
   ]
  },
  {
   "cell_type": "code",
   "execution_count": 9,
   "metadata": {
    "collapsed": true
   },
   "outputs": [],
   "source": [
    "another_course = {'title': 'Master Thesis', 'semester': 3}"
   ]
  },
  {
   "cell_type": "code",
   "execution_count": 10,
   "metadata": {},
   "outputs": [
    {
     "data": {
      "text/plain": [
       "<pymongo.results.InsertOneResult at 0x10ef3db08>"
      ]
     },
     "execution_count": 10,
     "metadata": {},
     "output_type": "execute_result"
    }
   ],
   "source": [
    "db.courses.insert_one(another_course)"
   ]
  },
  {
   "cell_type": "code",
   "execution_count": 11,
   "metadata": {},
   "outputs": [
    {
     "name": "stdout",
     "output_type": "stream",
     "text": [
      "{'_id': ObjectId('5cbd6d4d6879c22b4da9e851'),\n",
      " 'lecturer': {'department': 'Math',\n",
      "              'name': 'Markus Löcher',\n",
      "              'status': 'Professor'},\n",
      " 'semester': 1,\n",
      " 'title': 'Data Science'}\n",
      "{'_id': ObjectId('5cbd6d4d6879c22b4da9e852'),\n",
      " 'lecturer': {'department': 'Information Systems',\n",
      "              'name': 'Roland M. Mueller',\n",
      "              'status': 'Professor'},\n",
      " 'semester': 1,\n",
      " 'title': 'Data Warehousing'}\n",
      "{'_id': ObjectId('5cbd6d4d6879c22b4da9e853'),\n",
      " 'lecturer': {'department': 'Information Systems',\n",
      "              'name': 'Frank Habermann',\n",
      "              'status': 'Professor'},\n",
      " 'semester': 1,\n",
      " 'title': 'Business Process Management'}\n",
      "{'_id': ObjectId('5cbd6d4d6879c22b4da9e854'),\n",
      " 'lecturer': {'department': 'Information Systems',\n",
      "              'name': 'Sven Pohland',\n",
      "              'status': 'Professor'},\n",
      " 'semester': 1,\n",
      " 'title': 'Stratigic Issues of IT'}\n",
      "{'_id': ObjectId('5cbd6d4d6879c22b4da9e855'),\n",
      " 'lecturer': {'department': 'Math',\n",
      "              'name': 'Markus Löcher',\n",
      "              'status': 'Professor'},\n",
      " 'semester': 2,\n",
      " 'title': 'Text, Web and Social Media Analytics Lab'}\n",
      "{'_id': ObjectId('5cbd6d4d6879c22b4da9e856'),\n",
      " 'lecturer': {'department': 'Information Systems',\n",
      "              'name': 'Roland M. Mueller',\n",
      "              'status': 'Professor'},\n",
      " 'semester': 2,\n",
      " 'title': 'Enterprise Architectures for Big Data'}\n",
      "{'_id': ObjectId('5cbd6d4d6879c22b4da9e857'),\n",
      " 'lecturer': {'department': 'Information Systems',\n",
      "              'name': 'Frank Habermann',\n",
      "              'status': 'Professor'},\n",
      " 'semester': 2,\n",
      " 'title': 'Business Process Integration Lab'}\n",
      "{'_id': ObjectId('5cbd6d4d6879c22b4da9e858'),\n",
      " 'lecturer': {'department': 'Information Systems',\n",
      "              'name': 'Dennis Uckel',\n",
      "              'status': 'External'},\n",
      " 'semester': 2,\n",
      " 'title': 'IT-Security and Privacy'}\n",
      "{'_id': ObjectId('5cbd6d4d6879c22b4da9e859'),\n",
      " 'lecturer': {'department': 'Information Systems',\n",
      "              'name': 'Marcus Birkenkrahe',\n",
      "              'status': 'Professor'},\n",
      " 'semester': 2,\n",
      " 'title': 'Research Methods'}\n",
      "{'_id': ObjectId('5cbd6d4e6879c22b4da9e85a'),\n",
      " 'semester': 3,\n",
      " 'title': 'Master Thesis'}\n"
     ]
    }
   ],
   "source": [
    "cursor = db.courses.find()\n",
    "for document in cursor:\n",
    "    pprint(document)"
   ]
  },
  {
   "cell_type": "markdown",
   "metadata": {},
   "source": [
    "The query condition in `find()` and `find_one()` for an equality match on a field has the following form:\n",
    "{ <field1>: <value1>, <field2>: <value2>, ... }\n",
    "\n",
    "* `find()` will find all matching documents.\n",
    "* `find_one()` will return the first matching document-\n"
   ]
  },
  {
   "cell_type": "code",
   "execution_count": 12,
   "metadata": {},
   "outputs": [
    {
     "name": "stdout",
     "output_type": "stream",
     "text": [
      "{'_id': ObjectId('5cbd6d4d6879c22b4da9e851'),\n",
      " 'lecturer': {'department': 'Math',\n",
      "              'name': 'Markus Löcher',\n",
      "              'status': 'Professor'},\n",
      " 'semester': 1,\n",
      " 'title': 'Data Science'}\n"
     ]
    }
   ],
   "source": [
    "result =  db.courses.find_one({\"title\": \"Data Science\"})\n",
    "pprint(result)"
   ]
  },
  {
   "cell_type": "markdown",
   "metadata": {},
   "source": [
    "The return value of `find_one()` is just a dictonary."
   ]
  },
  {
   "cell_type": "code",
   "execution_count": 13,
   "metadata": {},
   "outputs": [
    {
     "data": {
      "text/plain": [
       "dict"
      ]
     },
     "execution_count": 13,
     "metadata": {},
     "output_type": "execute_result"
    }
   ],
   "source": [
    "type(result)"
   ]
  },
  {
   "cell_type": "code",
   "execution_count": 14,
   "metadata": {},
   "outputs": [
    {
     "name": "stdout",
     "output_type": "stream",
     "text": [
      "5cbd6d4d6879c22b4da9e851\n",
      "Markus Löcher\n"
     ]
    }
   ],
   "source": [
    "print(result[\"_id\"])\n",
    "print(result[\"lecturer\"][\"name\"])"
   ]
  },
  {
   "cell_type": "code",
   "execution_count": 15,
   "metadata": {},
   "outputs": [
    {
     "name": "stdout",
     "output_type": "stream",
     "text": [
      "{'_id': ObjectId('5cbd6d4d6879c22b4da9e855'),\n",
      " 'lecturer': {'department': 'Math',\n",
      "              'name': 'Markus Löcher',\n",
      "              'status': 'Professor'},\n",
      " 'semester': 2,\n",
      " 'title': 'Text, Web and Social Media Analytics Lab'}\n"
     ]
    }
   ],
   "source": [
    "result =  db.courses.find_one({\"semester\": 2})\n",
    "pprint(result)"
   ]
  },
  {
   "cell_type": "markdown",
   "metadata": {},
   "source": [
    "`find()` will return an iterator that you can loop through."
   ]
  },
  {
   "cell_type": "code",
   "execution_count": 16,
   "metadata": {},
   "outputs": [
    {
     "name": "stdout",
     "output_type": "stream",
     "text": [
      "Text, Web and Social Media Analytics Lab\n",
      "Enterprise Architectures for Big Data\n",
      "Business Process Integration Lab\n",
      "IT-Security and Privacy\n",
      "Research Methods\n"
     ]
    }
   ],
   "source": [
    "cursor = db.courses.find({\"semester\": 2})\n",
    "for document in cursor:\n",
    "    print(document['title'])"
   ]
  },
  {
   "cell_type": "markdown",
   "metadata": {},
   "source": [
    "Print all name of all lecturers in the second semester:"
   ]
  },
  {
   "cell_type": "code",
   "execution_count": 31,
   "metadata": {},
   "outputs": [],
   "source": [
    "# TODO: \n",
    "cursor = db.courses.find({\"semester\": 2})\n",
    "for document in cursor:\n",
    "    print(document['lecturer']['name'])"
   ]
  },
  {
   "cell_type": "markdown",
   "metadata": {},
   "source": [
    "Print all course titles of all courses that Frank Habermann teaches:"
   ]
  },
  {
   "cell_type": "code",
   "execution_count": 32,
   "metadata": {},
   "outputs": [],
   "source": [
    "# TODO: \n",
    "cursor = db.courses.find({\"lecturer.name\": \"Frank Habermann\"})\n",
    "for document in cursor:\n",
    "    print(document['title'], \"in Semester\", document['semester'])"
   ]
  },
  {
   "cell_type": "markdown",
   "metadata": {},
   "source": [
    "You can specify a logical conjunction (AND) for a list of query conditions by separating the conditions with a comma in the conditions document. \n",
    "\n",
    "Like in\n",
    "```python\n",
    "cursor = db.restaurants.find({\"cuisine\": \"Italian\", \"address.zipcode\": \"10075\"})\n",
    "```\n",
    "\n",
    "Print all lectures that Frank Habermann teaches in the second semester:"
   ]
  },
  {
   "cell_type": "code",
   "execution_count": 33,
   "metadata": {},
   "outputs": [],
   "source": [
    "# TODO: \n",
    "cursor = db.courses.find({\"lecturer.name\": \"Frank Habermann\", \n",
    "                          \"semester\": 2})\n",
    "for document in cursor:\n",
    "    print(document['title'], \"in Semester\", document['semester'])"
   ]
  },
  {
   "cell_type": "markdown",
   "metadata": {},
   "source": [
    "You can specify a logical disjunction (OR) for a list of query conditions by using the $or query operator.\n",
    "\n",
    "Like in:\n",
    "```python\n",
    "cursor = db.restaurants.find({\"$or\": [{\"cuisine\": \"Italian\"}, {\"address.zipcode\": \"10075\"}]})\n",
    "```\n",
    "\n",
    "Print all lectures from either Frank Habermann or Markus Löcher:"
   ]
  },
  {
   "cell_type": "code",
   "execution_count": 36,
   "metadata": {
    "scrolled": true
   },
   "outputs": [],
   "source": [
    "# TODO: \n",
    "cursor = db.courses.find({\"$or\": \n",
    "                          [{\"lecturer.name\": \"Frank Habermann\"}, \n",
    "                           {\"lecturer.name\": \"Markus Löcher\"}]})\n",
    "for document in cursor:\n",
    "    print(document['title'], \"in Semester\", document['semester'])"
   ]
  },
  {
   "cell_type": "markdown",
   "metadata": {},
   "source": [
    "You can also query with a greater than operator (\\$gt) or less than operator (\\$lt).  "
   ]
  },
  {
   "cell_type": "code",
   "execution_count": 21,
   "metadata": {
    "scrolled": true
   },
   "outputs": [
    {
     "name": "stdout",
     "output_type": "stream",
     "text": [
      "Semester 2 : Text, Web and Social Media Analytics Lab\n",
      "Semester 2 : Enterprise Architectures for Big Data\n",
      "Semester 2 : Business Process Integration Lab\n",
      "Semester 2 : IT-Security and Privacy\n",
      "Semester 2 : Research Methods\n",
      "Semester 3 : Master Thesis\n"
     ]
    }
   ],
   "source": [
    "cursor = db.courses.find({\"semester\": {\"$gt\": 1}})\n",
    "for document in cursor:\n",
    "    print(\"Semester\", document['semester'], \":\", document['title'])"
   ]
  },
  {
   "cell_type": "code",
   "execution_count": 22,
   "metadata": {},
   "outputs": [
    {
     "data": {
      "text/plain": [
       "5"
      ]
     },
     "execution_count": 22,
     "metadata": {},
     "output_type": "execute_result"
    }
   ],
   "source": [
    "db.courses.count_documents({\"semester\": 2})"
   ]
  },
  {
   "cell_type": "markdown",
   "metadata": {},
   "source": [
    "# Downloading Nobel Prize Winners with an API and storing them in MongoDB\n",
    "\n",
    "![](https://upload.wikimedia.org/wikipedia/en/e/ed/Nobel_Prize.png)\n",
    "The Nobel Prize offers a Web API https://nobelprize.readme.io/docs/prize\n",
    "\n",
    "Because the API is giving us JSON and MongoDB is able to store documents in a JSON-like format, using a document database like MongoDB seems like a good fit to store the results of the API.  You can get all laureates at http://api.nobelprize.org/v1/laureate.json and all prizes at http://api.nobelprize.org/v1/prize.json\n",
    "\n",
    "We will just download all laureates and prizes and store them in MongoDB!"
   ]
  },
  {
   "cell_type": "code",
   "execution_count": 23,
   "metadata": {
    "collapsed": true
   },
   "outputs": [],
   "source": [
    "# Create local \"nobel\" database on the fly \n",
    "db = client[\"nobel\"]\n",
    "db.prizes.drop()\n",
    "db.laureates.drop()\n",
    "# API documented at https://nobelprize.readme.io/docs/prize \n",
    "for collection_name in [\"prizes\", \"laureates\"]:\n",
    "    singular = collection_name[:-1] # the API uses singular\n",
    "    response = requests.get( \"http://api.nobelprize.org/v1/{}.json\".format(singular)) \n",
    "    documents = response.json()[collection_name] \n",
    "    # Create collections on the fly \n",
    "    db[collection_name].insert_many(documents)"
   ]
  },
  {
   "cell_type": "code",
   "execution_count": 24,
   "metadata": {},
   "outputs": [
    {
     "name": "stdout",
     "output_type": "stream",
     "text": [
      "{'_id': ObjectId('5cbd6d4f6879c22b4da9eaa9'),\n",
      " 'born': '1845-03-27',\n",
      " 'bornCity': 'Lennep (now Remscheid)',\n",
      " 'bornCountry': 'Prussia (now Germany)',\n",
      " 'bornCountryCode': 'DE',\n",
      " 'died': '1923-02-10',\n",
      " 'diedCity': 'Munich',\n",
      " 'diedCountry': 'Germany',\n",
      " 'diedCountryCode': 'DE',\n",
      " 'firstname': 'Wilhelm Conrad',\n",
      " 'gender': 'male',\n",
      " 'id': '1',\n",
      " 'prizes': [{'affiliations': [{'city': 'Munich',\n",
      "                               'country': 'Germany',\n",
      "                               'name': 'Munich University'}],\n",
      "             'category': 'physics',\n",
      "             'motivation': '\"in recognition of the extraordinary services he '\n",
      "                           'has rendered by the discovery of the remarkable '\n",
      "                           'rays subsequently named after him\"',\n",
      "             'share': '1',\n",
      "             'year': '1901'}],\n",
      " 'surname': 'Röntgen'}\n"
     ]
    },
    {
     "data": {
      "text/plain": [
       "'Wilhelm Conrad'"
      ]
     },
     "execution_count": 24,
     "metadata": {},
     "output_type": "execute_result"
    }
   ],
   "source": [
    "pprint(db.laureates.find_one({}))\n",
    "result = db.laureates.find_one({})\n",
    "result[\"firstname\"]"
   ]
  },
  {
   "cell_type": "code",
   "execution_count": 25,
   "metadata": {},
   "outputs": [
    {
     "data": {
      "text/plain": [
       "51"
      ]
     },
     "execution_count": 25,
     "metadata": {},
     "output_type": "execute_result"
    }
   ],
   "source": [
    "db.laureates.count_documents({\"gender\": \"female\"})"
   ]
  },
  {
   "cell_type": "code",
   "execution_count": 26,
   "metadata": {},
   "outputs": [
    {
     "data": {
      "text/plain": [
       "['Prussia (now Germany)',\n",
       " 'Hesse-Kassel (now Germany)',\n",
       " 'Germany',\n",
       " 'Schleswig (now Germany)',\n",
       " 'Germany (now Poland)',\n",
       " 'Germany (now France)',\n",
       " 'West Germany (now Germany)',\n",
       " 'Bavaria (now Germany)',\n",
       " 'Germany (now Russia)',\n",
       " 'Mecklenburg (now Germany)',\n",
       " 'W&uuml;rttemberg (now Germany)',\n",
       " 'East Friesland (now Germany)']"
      ]
     },
     "execution_count": 26,
     "metadata": {},
     "output_type": "execute_result"
    }
   ],
   "source": [
    "db.laureates.distinct(\"bornCountry\", {\"bornCountry\": {\"$regex\": \"Germany\"}})"
   ]
  },
  {
   "cell_type": "code",
   "execution_count": 27,
   "metadata": {},
   "outputs": [
    {
     "data": {
      "text/plain": [
       "95"
      ]
     },
     "execution_count": 27,
     "metadata": {},
     "output_type": "execute_result"
    }
   ],
   "source": [
    "db.laureates.count_documents({\"bornCountry\": {\"$regex\": \"Germany\"}})"
   ]
  },
  {
   "cell_type": "code",
   "execution_count": 28,
   "metadata": {},
   "outputs": [
    {
     "name": "stdout",
     "output_type": "stream",
     "text": [
      "1901 Wilhelm Conrad Röntgen\n",
      "1909 Karl Ferdinand Braun\n",
      "1914 Max von Laue\n",
      "1918 Max Karl Ernst Ludwig Planck\n",
      "1919 Johannes Stark\n",
      "1921 Albert Einstein\n",
      "1925 James Franck\n",
      "1925 Gustav Ludwig Hertz\n",
      "1932 Werner Karl Heisenberg\n",
      "1943 Otto Stern\n",
      "1954 Max Born\n",
      "1954 Walther Bothe\n",
      "1955 Polykarp Kusch\n",
      "1961 Rudolf Ludwig Mössbauer\n",
      "1963 Maria Goeppert Mayer\n",
      "1963 J. Hans D. Jensen\n",
      "1966 Alfred Kastler\n",
      "1967 Hans Albrecht Bethe\n",
      "1978 Arno Allan Penzias\n",
      "1986 Ernst Ruska\n",
      "1986 Gerd Binnig\n",
      "1987 J. Georg Bednorz\n",
      "1988 Jack Steinberger\n",
      "1989 Hans G. Dehmelt\n",
      "1989 Wolfgang Paul\n",
      "1998 Horst L. Störmer\n",
      "2000 Herbert Kroemer\n",
      "2001 Wolfgang Ketterle\n",
      "2005 Theodor W. Hänsch\n",
      "2017 Rainer Weiss\n"
     ]
    }
   ],
   "source": [
    "cursor = db.laureates.find({\"bornCountry\": {\"$regex\": \"Germany\"}, \"prizes.category\": \"physics\"})\n",
    "for document in cursor:\n",
    "    print(document[\"prizes\"][0][\"year\"], document[\"firstname\"], document[\"surname\"])"
   ]
  },
  {
   "cell_type": "code",
   "execution_count": 29,
   "metadata": {},
   "outputs": [
    {
     "name": "stdout",
     "output_type": "stream",
     "text": [
      "{'_id': ObjectId('5cbd6d4f6879c22b4da9ee1f'),\n",
      " 'born': '1997-07-12',\n",
      " 'bornCity': 'Mingora',\n",
      " 'bornCountry': 'Pakistan',\n",
      " 'bornCountryCode': 'PK',\n",
      " 'died': '0000-00-00',\n",
      " 'firstname': 'Malala',\n",
      " 'gender': 'female',\n",
      " 'id': '914',\n",
      " 'prizes': [{'affiliations': [[]],\n",
      "             'category': 'peace',\n",
      "             'motivation': '\"for their struggle against the suppression of '\n",
      "                           'children and young people and for the right of all '\n",
      "                           'children to education\"',\n",
      "             'share': '2',\n",
      "             'year': '2014'}],\n",
      " 'surname': 'Yousafzai'}\n"
     ]
    }
   ],
   "source": [
    "pprint(db.laureates.find_one({\"firstname\": \"Malala\"}))"
   ]
  },
  {
   "cell_type": "code",
   "execution_count": 30,
   "metadata": {},
   "outputs": [
    {
     "name": "stdout",
     "output_type": "stream",
     "text": [
      "1903 Marie Curie, née Sklodowska\n",
      "1905 Baroness Bertha Sophie Felicita von Suttner, née Countess Kinsky von Chinic und Tettau\n",
      "1909 Selma Ottilia Lovisa Lagerlöf\n",
      "1926 Grazia Deledda\n",
      "1928 Sigrid Undset\n",
      "1931 Jane Addams\n",
      "1935 Irène Joliot-Curie\n",
      "1938 Pearl Buck\n",
      "1945 Gabriela Mistral\n",
      "1946 Emily Greene Balch\n",
      "1947 Gerty Theresa Cori, née Radnitz\n",
      "1963 Maria Goeppert Mayer\n",
      "1964 Dorothy Crowfoot Hodgkin\n",
      "1966 Nelly Sachs\n",
      "1976 Betty Williams\n",
      "1976 Mairead Corrigan\n",
      "1977 Rosalyn Yalow\n",
      "1979 Mother Teresa \n",
      "1982 Alva Myrdal\n",
      "1983 Barbara McClintock\n",
      "1986 Rita Levi-Montalcini\n",
      "1988 Gertrude B. Elion\n",
      "1991 Aung San Suu Kyi \n",
      "1991 Nadine Gordimer\n",
      "1992 Rigoberta Menchú Tum\n",
      "1993 Toni Morrison\n",
      "1995 Christiane Nüsslein-Volhard\n",
      "1996 Wislawa Szymborska\n",
      "1997 Jody Williams\n",
      "2003 Shirin Ebadi\n",
      "2004 Linda B. Buck\n",
      "2004 Elfriede Jelinek\n",
      "2004 Wangari Muta Maathai\n",
      "2007 Doris Lessing\n",
      "2008 Françoise Barré-Sinoussi\n",
      "2009 Elizabeth H. Blackburn\n",
      "2009 Carol W. Greider\n",
      "2009 Ada E. Yonath\n",
      "2009 Herta Müller\n",
      "2009 Elinor Ostrom\n",
      "2011 Ellen Johnson Sirleaf\n",
      "2011 Leymah Gbowee\n",
      "2011 Tawakkol Karman\n",
      "2013 Alice Munro\n",
      "2014 May-Britt Moser\n",
      "2014 Malala Yousafzai\n",
      "2015 Youyou Tu\n",
      "2015 Svetlana Alexievich\n",
      "2018 Donna Strickland\n",
      "2018 Frances H. Arnold\n",
      "2018 Nadia Murad\n"
     ]
    }
   ],
   "source": [
    "cursor = db.laureates.find({\"gender\": \"female\"}).sort([(\"prizes.year\", 1)])\n",
    "for document in cursor:\n",
    "    year = document[\"prizes\"][0][\"year\"]\n",
    "    firstname = document[\"firstname\"]\n",
    "    surname = document.get(\"surname\", \"\")\n",
    "    print(year, firstname, surname)"
   ]
  },
  {
   "cell_type": "code",
   "execution_count": null,
   "metadata": {
    "collapsed": true
   },
   "outputs": [],
   "source": []
  }
 ],
 "metadata": {
  "celltoolbar": "Raw Cell Format",
  "kernelspec": {
   "display_name": "Python 3",
   "language": "python",
   "name": "python3"
  },
  "language_info": {
   "codemirror_mode": {
    "name": "ipython",
    "version": 3
   },
   "file_extension": ".py",
   "mimetype": "text/x-python",
   "name": "python",
   "nbconvert_exporter": "python",
   "pygments_lexer": "ipython3",
   "version": "3.6.1"
  },
  "varInspector": {
   "cols": {
    "lenName": 16,
    "lenType": 16,
    "lenVar": 40
   },
   "kernels_config": {
    "python": {
     "delete_cmd_postfix": "",
     "delete_cmd_prefix": "del ",
     "library": "var_list.py",
     "varRefreshCmd": "print(var_dic_list())"
    },
    "r": {
     "delete_cmd_postfix": ") ",
     "delete_cmd_prefix": "rm(",
     "library": "var_list.r",
     "varRefreshCmd": "cat(var_dic_list()) "
    }
   },
   "types_to_exclude": [
    "module",
    "function",
    "builtin_function_or_method",
    "instance",
    "_Feature"
   ],
   "window_display": false
  }
 },
 "nbformat": 4,
 "nbformat_minor": 2
}
