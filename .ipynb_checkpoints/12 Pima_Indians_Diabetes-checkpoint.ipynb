{
 "cells": [
  {
   "cell_type": "markdown",
   "metadata": {},
   "source": [
    "# Data \n",
    "\n",
    "The Pima Indians dataset is about the prediction of diabetes . This is a small dataset available from the UCI Machine Learning Repository. https://archive.ics.uci.edu/ml/datasets/Pima+Indians+Diabetes\n",
    "\n",
    "Based on: http://machinelearningmastery.com/display-deep-learning-model-training-history-in-keras/\n",
    "\n",
    "**Attribute Information:**\n",
    "\n",
    "1. Number of times pregnant\n",
    "2. Plasma glucose concentration a 2 hours in an oral glucose tolerance test\n",
    "3. Diastolic blood pressure (mm Hg)\n",
    "4. Triceps skin fold thickness (mm)\n",
    "5. 2-Hour serum insulin (mu U/ml)\n",
    "6. Body mass index (weight in kg/(height in m)^2)\n",
    "7. Diabetes pedigree function\n",
    "8. Age (years)\n",
    "9. Class variable (0 or 1) (diabetes mellitus)"
   ]
  },
  {
   "cell_type": "code",
   "execution_count": 6,
   "metadata": {},
   "outputs": [
    {
     "name": "stdout",
     "output_type": "stream",
     "text": [
      "--2019-05-22 10:07:50--  https://gist.githubusercontent.com/ktisha/c21e73a1bd1700294ef790c56c8aec1f/raw/819b69b5736821ccee93d05b51de0510bea00294/pima-indians-diabetes.csv\n",
      "Auflösen des Hostnamens gist.githubusercontent.com (gist.githubusercontent.com)… 151.101.12.133\n",
      "Verbindungsaufbau zu gist.githubusercontent.com (gist.githubusercontent.com)|151.101.12.133|:443 … verbunden.\n",
      "HTTP-Anforderung gesendet, auf Antwort wird gewartet … 200 OK\n",
      "Länge: 23628 (23K) [text/plain]\n",
      "Wird in »pima-indians-diabetes.csv« gespeichert.\n",
      "\n",
      "pima-indians-diabet 100%[===================>]  23,07K  --.-KB/s    in 0,02s   \n",
      "\n",
      "2019-05-22 10:07:50 (1,31 MB/s) - »pima-indians-diabetes.csv« gespeichert [23628/23628]\n",
      "\n"
     ]
    }
   ],
   "source": [
    "! wget -O pima-indians-diabetes.csv https://gist.githubusercontent.com/ktisha/c21e73a1bd1700294ef790c56c8aec1f/raw/819b69b5736821ccee93d05b51de0510bea00294/pima-indians-diabetes.csv"
   ]
  },
  {
   "cell_type": "code",
   "execution_count": 7,
   "metadata": {},
   "outputs": [
    {
     "name": "stdout",
     "output_type": "stream",
     "text": [
      "total 1528\r\n",
      "-rw-r--r--  1 rolandmueller  staff   12025  1 Apr 20:24 1 Timing Algorithms.ipynb\r\n",
      "-rw-r--r--  1 rolandmueller  staff   28784 28 Apr 12:27 10 MongoDB-Solution.ipynb\r\n",
      "-rw-r--r--  1 rolandmueller  staff   24900 28 Apr 12:40 10 MongoDB-Todo.ipynb\r\n",
      "-rw-r--r--  1 rolandmueller  staff   21292  8 Mai 21:38 11 Hive.ipynb\r\n",
      "-rw-r--r--@ 1 rolandmueller  staff  137747 22 Mai 10:07 12 Pima_Indians_Diabetes.ipynb\r\n",
      "-rw-r--r--  1 rolandmueller  staff    7094 15 Apr 18:01 2 Finding values in collections Solution.ipynb\r\n",
      "-rw-r--r--  1 rolandmueller  staff    5800 29 Mär 12:31 2 Finding values in collections Todo.ipynb\r\n",
      "-rw-r--r--  1 rolandmueller  staff   68221 15 Apr 17:58 3 Time Complexity-Solution.ipynb\r\n",
      "-rw-r--r--  1 rolandmueller  staff   30348  2 Apr 12:40 3 Time Complexity.ipynb\r\n",
      "-rw-r--r--  1 rolandmueller  staff   19962 16 Apr 19:02 4 Decision Trees Solution.ipynb\r\n",
      "-rw-r--r--  1 rolandmueller  staff    3844 29 Mär 13:43 4 Decision Trees Todo.ipynb\r\n",
      "-rw-r--r--  1 rolandmueller  staff   16729  9 Apr 11:21 5 Programming Paradigms.ipynb\r\n",
      "-rw-r--r--  1 rolandmueller  staff    4608  8 Apr 18:43 6 Linked-List-Todo.ipynb\r\n",
      "-rw-r--r--  1 rolandmueller  staff    6243 30 Mär 17:41 6 Linked-List.ipynb\r\n",
      "-rw-r--r--  1 rolandmueller  staff    3596  8 Apr 18:47 7 Binary Search Tree-Todo.ipynb\r\n",
      "-rw-r--r--  1 rolandmueller  staff    4583  6 Apr 16:52 7 Binary Search Tree.ipynb\r\n",
      "-rw-r--r--  1 rolandmueller  staff   63785  4 Apr 08:58 8 Amdahl's Law.ipynb\r\n",
      "-rw-r--r--  1 rolandmueller  staff   15309 30 Apr 10:08 9 Web API.ipynb\r\n",
      "-rw-r--r--  1 rolandmueller  staff   63678 23 Mär 12:19 Amdahl's Law-Copy1.ipynb\r\n",
      "-rw-r--r--  1 rolandmueller  staff    6776 20 Mär 10:24 Finding values in collections.ipynb\r\n",
      "-rw-r--r--  1 rolandmueller  staff   10762 19 Mär 21:24 Matrix Multiplication.ipynb\r\n",
      "-rw-r--r--  1 rolandmueller  staff   33940 22 Apr 09:43 OLD 10 MongoDB.ipynb\r\n",
      "-rw-r--r--  1 rolandmueller  staff   21248 19 Apr 09:36 OLD 9 Web APIs.ipynb\r\n",
      "-rw-r--r--  1 rolandmueller  staff   15797 28 Mär 18:41 OLD Decision Trees Solution.ipynb\r\n",
      "-rw-r--r--@ 1 rolandmueller  staff   17524 10 Apr 21:44 OLD docker.md\r\n",
      "-rw-r--r--  1 rolandmueller  staff    3443 21 Mär 15:44 Parallel Processing.ipynb\r\n",
      "-rw-r--r--  1 rolandmueller  staff    1312 20 Mär 10:26 Untitled.ipynb\r\n",
      "-rw-r--r--  1 rolandmueller  staff    2293  3 Apr 09:52 Untitled1.ipynb\r\n",
      "drwxr-xr-x  5 rolandmueller  staff     160  7 Apr 15:20 \u001b[34malice\u001b[m\u001b[m/\r\n",
      "-rw-r--r--@ 1 rolandmueller  staff    1244 19 Apr 10:50 courses.json\r\n",
      "drwxr-xr-x  7 rolandmueller  staff     224 16 Apr 13:09 \u001b[34mdocker\u001b[m\u001b[m/\r\n",
      "-rw-r--r--@ 1 rolandmueller  staff   17813 11 Apr 07:58 docker Kopie.md\r\n",
      "-rw-r--r--@ 1 rolandmueller  staff   22156 16 Apr 08:06 docker.md\r\n",
      "drwxr-xr-x  7 rolandmueller  staff     224 16 Apr 13:07 \u001b[34mdocker2\u001b[m\u001b[m/\r\n",
      "-rw-r--r--  1 rolandmueller  staff       0  2 Mai 16:11 hdfs.md\r\n",
      "drwxr-xr-x  9 rolandmueller  staff     288 15 Mai 12:55 \u001b[34mmake\u001b[m\u001b[m/\r\n",
      "drwxr-xr-x  3 rolandmueller  staff      96 19 Apr 08:59 \u001b[34mmongo\u001b[m\u001b[m/\r\n",
      "-rw-r--r--@ 1 rolandmueller  staff   23628 22 Mai 10:07 pima-indians-diabetes.csv\r",
      "\r\n",
      "drwxr-xr-x  3 rolandmueller  staff      96 19 Apr 13:14 \u001b[34mspark\u001b[m\u001b[m/\r\n",
      "drwxr-xr-x  5 rolandmueller  staff     160 17 Apr 17:56 \u001b[34mwebapi\u001b[m\u001b[m/\r\n"
     ]
    }
   ],
   "source": [
    "%ls -l"
   ]
  },
  {
   "cell_type": "code",
   "execution_count": 8,
   "metadata": {},
   "outputs": [],
   "source": [
    "from keras.models import Sequential\n",
    "from keras.layers import Dense\n",
    "import matplotlib.pyplot as plt\n",
    "from matplotlib.ticker import MaxNLocator\n",
    "import numpy as np"
   ]
  },
  {
   "cell_type": "code",
   "execution_count": 9,
   "metadata": {
    "collapsed": true
   },
   "outputs": [],
   "source": [
    "# fix random seed for reproducibility\n",
    "seed = 7\n",
    "np.random.seed(seed)"
   ]
  },
  {
   "cell_type": "code",
   "execution_count": 10,
   "metadata": {},
   "outputs": [],
   "source": [
    "# load pima indians dataset\n",
    "dataset = np.loadtxt(\"pima-indians-diabetes.csv\", delimiter=\",\")\n",
    "# split into input (X) and output (Y) variables\n",
    "X = dataset[:,0:8]\n",
    "y = dataset[:,8]"
   ]
  },
  {
   "cell_type": "code",
   "execution_count": 11,
   "metadata": {},
   "outputs": [
    {
     "data": {
      "text/plain": [
       "(768, 8)"
      ]
     },
     "execution_count": 11,
     "metadata": {},
     "output_type": "execute_result"
    }
   ],
   "source": [
    "X.shape"
   ]
  },
  {
   "cell_type": "code",
   "execution_count": 12,
   "metadata": {},
   "outputs": [
    {
     "data": {
      "text/plain": [
       "(768,)"
      ]
     },
     "execution_count": 12,
     "metadata": {},
     "output_type": "execute_result"
    }
   ],
   "source": [
    "y.shape"
   ]
  },
  {
   "cell_type": "markdown",
   "metadata": {},
   "source": [
    "# Model"
   ]
  },
  {
   "cell_type": "code",
   "execution_count": 13,
   "metadata": {},
   "outputs": [],
   "source": [
    "# create model\n",
    "model = Sequential()\n",
    "model.add(Dense(12, kernel_initializer='uniform', input_dim=8, activation='relu'))\n",
    "model.add(Dense(8, kernel_initializer='uniform', activation='relu'))\n",
    "model.add(Dense(1, kernel_initializer='uniform', activation='sigmoid'))"
   ]
  },
  {
   "cell_type": "code",
   "execution_count": 14,
   "metadata": {
    "collapsed": true
   },
   "outputs": [],
   "source": [
    "# Compile model\n",
    "model.compile(loss='binary_crossentropy', optimizer='adam', metrics=['accuracy'])"
   ]
  },
  {
   "cell_type": "code",
   "execution_count": 15,
   "metadata": {},
   "outputs": [
    {
     "name": "stdout",
     "output_type": "stream",
     "text": [
      "Train on 514 samples, validate on 254 samples\n",
      "Epoch 1/150\n",
      "514/514 [==============================] - 1s 1ms/step - loss: 0.6796 - acc: 0.6401 - val_loss: 0.6586 - val_acc: 0.6732\n",
      "Epoch 2/150\n",
      "514/514 [==============================] - 0s 208us/step - loss: 0.6690 - acc: 0.6401 - val_loss: 0.6533 - val_acc: 0.6732\n",
      "Epoch 3/150\n",
      "514/514 [==============================] - 0s 185us/step - loss: 0.6618 - acc: 0.6401 - val_loss: 0.6521 - val_acc: 0.6732\n",
      "Epoch 4/150\n",
      "514/514 [==============================] - 0s 210us/step - loss: 0.6540 - acc: 0.6342 - val_loss: 0.6449 - val_acc: 0.6811\n",
      "Epoch 5/150\n",
      "514/514 [==============================] - 0s 172us/step - loss: 0.6456 - acc: 0.6420 - val_loss: 0.6361 - val_acc: 0.6890\n",
      "Epoch 6/150\n",
      "514/514 [==============================] - 0s 228us/step - loss: 0.6394 - acc: 0.6440 - val_loss: 0.6261 - val_acc: 0.7047\n",
      "Epoch 7/150\n",
      "514/514 [==============================] - 0s 208us/step - loss: 0.6276 - acc: 0.6576 - val_loss: 0.6143 - val_acc: 0.6890\n",
      "Epoch 8/150\n",
      "514/514 [==============================] - 0s 174us/step - loss: 0.6209 - acc: 0.6673 - val_loss: 0.6100 - val_acc: 0.6890\n",
      "Epoch 9/150\n",
      "514/514 [==============================] - 0s 306us/step - loss: 0.6104 - acc: 0.6615 - val_loss: 0.6018 - val_acc: 0.7008\n",
      "Epoch 10/150\n",
      "514/514 [==============================] - 0s 335us/step - loss: 0.6044 - acc: 0.6887 - val_loss: 0.5958 - val_acc: 0.6575\n",
      "Epoch 11/150\n",
      "514/514 [==============================] - 0s 227us/step - loss: 0.5998 - acc: 0.6770 - val_loss: 0.6018 - val_acc: 0.6969\n",
      "Epoch 12/150\n",
      "514/514 [==============================] - 0s 254us/step - loss: 0.6033 - acc: 0.6732 - val_loss: 0.5908 - val_acc: 0.7008\n",
      "Epoch 13/150\n",
      "514/514 [==============================] - 0s 224us/step - loss: 0.5998 - acc: 0.6829 - val_loss: 0.5877 - val_acc: 0.6654\n",
      "Epoch 14/150\n",
      "514/514 [==============================] - 0s 232us/step - loss: 0.5881 - acc: 0.7043 - val_loss: 0.5850 - val_acc: 0.6890\n",
      "Epoch 15/150\n",
      "514/514 [==============================] - 0s 478us/step - loss: 0.5867 - acc: 0.7023 - val_loss: 0.5809 - val_acc: 0.6850\n",
      "Epoch 16/150\n",
      "514/514 [==============================] - 0s 551us/step - loss: 0.5910 - acc: 0.7023 - val_loss: 0.5791 - val_acc: 0.7047\n",
      "Epoch 17/150\n",
      "514/514 [==============================] - 0s 542us/step - loss: 0.5826 - acc: 0.7160 - val_loss: 0.5767 - val_acc: 0.6850\n",
      "Epoch 18/150\n",
      "514/514 [==============================] - 0s 507us/step - loss: 0.5772 - acc: 0.7023 - val_loss: 0.5762 - val_acc: 0.7323\n",
      "Epoch 19/150\n",
      "514/514 [==============================] - 0s 377us/step - loss: 0.5804 - acc: 0.7004 - val_loss: 0.5742 - val_acc: 0.7087\n",
      "Epoch 20/150\n",
      "514/514 [==============================] - 0s 348us/step - loss: 0.5763 - acc: 0.7179 - val_loss: 0.5734 - val_acc: 0.6850\n",
      "Epoch 21/150\n",
      "514/514 [==============================] - 0s 330us/step - loss: 0.5739 - acc: 0.7023 - val_loss: 0.5794 - val_acc: 0.6890\n",
      "Epoch 22/150\n",
      "514/514 [==============================] - 0s 394us/step - loss: 0.5684 - acc: 0.7412 - val_loss: 0.5782 - val_acc: 0.6890\n",
      "Epoch 23/150\n",
      "514/514 [==============================] - 0s 218us/step - loss: 0.5690 - acc: 0.7140 - val_loss: 0.5684 - val_acc: 0.6969\n",
      "Epoch 24/150\n",
      "514/514 [==============================] - 0s 218us/step - loss: 0.5560 - acc: 0.7451 - val_loss: 0.5662 - val_acc: 0.6969\n",
      "Epoch 25/150\n",
      "514/514 [==============================] - 0s 208us/step - loss: 0.5663 - acc: 0.7237 - val_loss: 0.5646 - val_acc: 0.7087\n",
      "Epoch 26/150\n",
      "514/514 [==============================] - 0s 357us/step - loss: 0.5588 - acc: 0.7432 - val_loss: 0.5633 - val_acc: 0.7126\n",
      "Epoch 27/150\n",
      "514/514 [==============================] - 0s 390us/step - loss: 0.5605 - acc: 0.7315 - val_loss: 0.5604 - val_acc: 0.7008\n",
      "Epoch 28/150\n",
      "514/514 [==============================] - 0s 299us/step - loss: 0.5631 - acc: 0.7257 - val_loss: 0.6155 - val_acc: 0.6260\n",
      "Epoch 29/150\n",
      "514/514 [==============================] - 0s 384us/step - loss: 0.5611 - acc: 0.7315 - val_loss: 0.5675 - val_acc: 0.7165\n",
      "Epoch 30/150\n",
      "514/514 [==============================] - 0s 424us/step - loss: 0.5532 - acc: 0.7315 - val_loss: 0.5608 - val_acc: 0.7323\n",
      "Epoch 31/150\n",
      "514/514 [==============================] - 0s 341us/step - loss: 0.5496 - acc: 0.7296 - val_loss: 0.5602 - val_acc: 0.7126\n",
      "Epoch 32/150\n",
      "514/514 [==============================] - 0s 372us/step - loss: 0.5587 - acc: 0.7451 - val_loss: 0.5911 - val_acc: 0.6732\n",
      "Epoch 33/150\n",
      "514/514 [==============================] - 0s 293us/step - loss: 0.5664 - acc: 0.7315 - val_loss: 0.5717 - val_acc: 0.7165\n",
      "Epoch 34/150\n",
      "514/514 [==============================] - 0s 360us/step - loss: 0.5506 - acc: 0.7354 - val_loss: 0.5602 - val_acc: 0.7087\n",
      "Epoch 35/150\n",
      "514/514 [==============================] - 0s 266us/step - loss: 0.5467 - acc: 0.7257 - val_loss: 0.5545 - val_acc: 0.7244\n",
      "Epoch 36/150\n",
      "514/514 [==============================] - 0s 206us/step - loss: 0.5534 - acc: 0.7335 - val_loss: 0.5589 - val_acc: 0.7244\n",
      "Epoch 37/150\n",
      "514/514 [==============================] - 0s 186us/step - loss: 0.5440 - acc: 0.7374 - val_loss: 0.5588 - val_acc: 0.7205\n",
      "Epoch 38/150\n",
      "514/514 [==============================] - 0s 202us/step - loss: 0.5444 - acc: 0.7335 - val_loss: 0.5486 - val_acc: 0.7283\n",
      "Epoch 39/150\n",
      "514/514 [==============================] - 0s 232us/step - loss: 0.5516 - acc: 0.7062 - val_loss: 0.5510 - val_acc: 0.7244\n",
      "Epoch 40/150\n",
      "514/514 [==============================] - 0s 230us/step - loss: 0.5485 - acc: 0.7354 - val_loss: 0.5483 - val_acc: 0.7165\n",
      "Epoch 41/150\n",
      "514/514 [==============================] - 0s 286us/step - loss: 0.5440 - acc: 0.7354 - val_loss: 0.5480 - val_acc: 0.7283\n",
      "Epoch 42/150\n",
      "514/514 [==============================] - 0s 275us/step - loss: 0.5456 - acc: 0.7588 - val_loss: 0.5618 - val_acc: 0.7283\n",
      "Epoch 43/150\n",
      "514/514 [==============================] - 0s 257us/step - loss: 0.5463 - acc: 0.7432 - val_loss: 0.5509 - val_acc: 0.7205\n",
      "Epoch 44/150\n",
      "514/514 [==============================] - 0s 317us/step - loss: 0.5441 - acc: 0.7315 - val_loss: 0.5492 - val_acc: 0.7402\n",
      "Epoch 45/150\n",
      "514/514 [==============================] - 0s 347us/step - loss: 0.5353 - acc: 0.7432 - val_loss: 0.5740 - val_acc: 0.6654\n",
      "Epoch 46/150\n",
      "514/514 [==============================] - 0s 330us/step - loss: 0.5481 - acc: 0.7276 - val_loss: 0.5545 - val_acc: 0.7126\n",
      "Epoch 47/150\n",
      "514/514 [==============================] - 0s 308us/step - loss: 0.5433 - acc: 0.7179 - val_loss: 0.5506 - val_acc: 0.7441\n",
      "Epoch 48/150\n",
      "514/514 [==============================] - 0s 478us/step - loss: 0.5437 - acc: 0.7315 - val_loss: 0.5468 - val_acc: 0.7244\n",
      "Epoch 49/150\n",
      "514/514 [==============================] - 0s 231us/step - loss: 0.5415 - acc: 0.7432 - val_loss: 0.5433 - val_acc: 0.7323\n",
      "Epoch 50/150\n",
      "514/514 [==============================] - 0s 214us/step - loss: 0.5375 - acc: 0.7432 - val_loss: 0.5578 - val_acc: 0.7165\n",
      "Epoch 51/150\n",
      "514/514 [==============================] - 0s 357us/step - loss: 0.5324 - acc: 0.7393 - val_loss: 0.5389 - val_acc: 0.7323\n",
      "Epoch 52/150\n",
      "514/514 [==============================] - 0s 537us/step - loss: 0.5382 - acc: 0.7432 - val_loss: 0.5510 - val_acc: 0.7283\n",
      "Epoch 53/150\n",
      "514/514 [==============================] - 0s 320us/step - loss: 0.5340 - acc: 0.7490 - val_loss: 0.5450 - val_acc: 0.7441\n",
      "Epoch 54/150\n",
      "514/514 [==============================] - 0s 346us/step - loss: 0.5336 - acc: 0.7335 - val_loss: 0.5432 - val_acc: 0.7402\n",
      "Epoch 55/150\n",
      "514/514 [==============================] - 0s 280us/step - loss: 0.5327 - acc: 0.7393 - val_loss: 0.5407 - val_acc: 0.7323\n",
      "Epoch 56/150\n",
      "514/514 [==============================] - 0s 311us/step - loss: 0.5380 - acc: 0.7315 - val_loss: 0.5501 - val_acc: 0.7402\n",
      "Epoch 57/150\n",
      "514/514 [==============================] - 0s 286us/step - loss: 0.5350 - acc: 0.7432 - val_loss: 0.5557 - val_acc: 0.7165\n",
      "Epoch 58/150\n",
      "514/514 [==============================] - 0s 295us/step - loss: 0.5316 - acc: 0.7335 - val_loss: 0.5583 - val_acc: 0.7008\n",
      "Epoch 59/150\n",
      "514/514 [==============================] - 0s 353us/step - loss: 0.5380 - acc: 0.7296 - val_loss: 0.5436 - val_acc: 0.7441\n",
      "Epoch 60/150\n",
      "514/514 [==============================] - 0s 490us/step - loss: 0.5357 - acc: 0.7335 - val_loss: 0.5386 - val_acc: 0.7402\n"
     ]
    },
    {
     "name": "stdout",
     "output_type": "stream",
     "text": [
      "Epoch 61/150\n",
      "514/514 [==============================] - 0s 371us/step - loss: 0.5394 - acc: 0.7393 - val_loss: 0.5444 - val_acc: 0.7402\n",
      "Epoch 62/150\n",
      "514/514 [==============================] - 0s 348us/step - loss: 0.5348 - acc: 0.7354 - val_loss: 0.5463 - val_acc: 0.7244\n",
      "Epoch 63/150\n",
      "514/514 [==============================] - 0s 368us/step - loss: 0.5270 - acc: 0.7490 - val_loss: 0.5424 - val_acc: 0.7283\n",
      "Epoch 64/150\n",
      "514/514 [==============================] - 0s 379us/step - loss: 0.5296 - acc: 0.7412 - val_loss: 0.5380 - val_acc: 0.7402\n",
      "Epoch 65/150\n",
      "514/514 [==============================] - 0s 541us/step - loss: 0.5333 - acc: 0.7412 - val_loss: 0.5446 - val_acc: 0.7283\n",
      "Epoch 66/150\n",
      "514/514 [==============================] - 0s 454us/step - loss: 0.5344 - acc: 0.7393 - val_loss: 0.5326 - val_acc: 0.7559\n",
      "Epoch 67/150\n",
      "514/514 [==============================] - 0s 354us/step - loss: 0.5290 - acc: 0.7354 - val_loss: 0.5380 - val_acc: 0.7441\n",
      "Epoch 68/150\n",
      "514/514 [==============================] - 0s 253us/step - loss: 0.5336 - acc: 0.7296 - val_loss: 0.5463 - val_acc: 0.7362\n",
      "Epoch 69/150\n",
      "514/514 [==============================] - 0s 259us/step - loss: 0.5331 - acc: 0.7374 - val_loss: 0.5352 - val_acc: 0.7441\n",
      "Epoch 70/150\n",
      "514/514 [==============================] - 0s 293us/step - loss: 0.5304 - acc: 0.7529 - val_loss: 0.5354 - val_acc: 0.7559\n",
      "Epoch 71/150\n",
      "514/514 [==============================] - 0s 218us/step - loss: 0.5288 - acc: 0.7529 - val_loss: 0.5361 - val_acc: 0.7441\n",
      "Epoch 72/150\n",
      "514/514 [==============================] - 0s 210us/step - loss: 0.5258 - acc: 0.7529 - val_loss: 0.5282 - val_acc: 0.7677\n",
      "Epoch 73/150\n",
      "514/514 [==============================] - 0s 207us/step - loss: 0.5315 - acc: 0.7354 - val_loss: 0.5285 - val_acc: 0.7559\n",
      "Epoch 74/150\n",
      "514/514 [==============================] - 0s 187us/step - loss: 0.5241 - acc: 0.7432 - val_loss: 0.5343 - val_acc: 0.7402\n",
      "Epoch 75/150\n",
      "514/514 [==============================] - 0s 172us/step - loss: 0.5261 - acc: 0.7412 - val_loss: 0.5309 - val_acc: 0.7480\n",
      "Epoch 76/150\n",
      "514/514 [==============================] - 0s 229us/step - loss: 0.5235 - acc: 0.7451 - val_loss: 0.5280 - val_acc: 0.7402\n",
      "Epoch 77/150\n",
      "514/514 [==============================] - 0s 213us/step - loss: 0.5236 - acc: 0.7529 - val_loss: 0.5264 - val_acc: 0.7441\n",
      "Epoch 78/150\n",
      "514/514 [==============================] - 0s 226us/step - loss: 0.5208 - acc: 0.7393 - val_loss: 0.5245 - val_acc: 0.7598\n",
      "Epoch 79/150\n",
      "514/514 [==============================] - 0s 181us/step - loss: 0.5322 - acc: 0.7490 - val_loss: 0.5274 - val_acc: 0.7441\n",
      "Epoch 80/150\n",
      "514/514 [==============================] - 0s 225us/step - loss: 0.5231 - acc: 0.7490 - val_loss: 0.5281 - val_acc: 0.7598\n",
      "Epoch 81/150\n",
      "514/514 [==============================] - 0s 284us/step - loss: 0.5310 - acc: 0.7412 - val_loss: 0.5310 - val_acc: 0.7559\n",
      "Epoch 82/150\n",
      "514/514 [==============================] - 0s 452us/step - loss: 0.5234 - acc: 0.7412 - val_loss: 0.5230 - val_acc: 0.7598\n",
      "Epoch 83/150\n",
      "514/514 [==============================] - 0s 325us/step - loss: 0.5173 - acc: 0.7335 - val_loss: 0.5256 - val_acc: 0.7520\n",
      "Epoch 84/150\n",
      "514/514 [==============================] - 0s 317us/step - loss: 0.5294 - acc: 0.7315 - val_loss: 0.5233 - val_acc: 0.7677\n",
      "Epoch 85/150\n",
      "514/514 [==============================] - 0s 262us/step - loss: 0.5234 - acc: 0.7490 - val_loss: 0.5260 - val_acc: 0.7638\n",
      "Epoch 86/150\n",
      "514/514 [==============================] - 0s 469us/step - loss: 0.5183 - acc: 0.7393 - val_loss: 0.5233 - val_acc: 0.7402\n",
      "Epoch 87/150\n",
      "514/514 [==============================] - 0s 227us/step - loss: 0.5170 - acc: 0.7471 - val_loss: 0.5230 - val_acc: 0.7638\n",
      "Epoch 88/150\n",
      "514/514 [==============================] - 0s 258us/step - loss: 0.5173 - acc: 0.7510 - val_loss: 0.5287 - val_acc: 0.7677\n",
      "Epoch 89/150\n",
      "514/514 [==============================] - 0s 224us/step - loss: 0.5196 - acc: 0.7393 - val_loss: 0.5207 - val_acc: 0.7559\n",
      "Epoch 90/150\n",
      "514/514 [==============================] - 0s 325us/step - loss: 0.5194 - acc: 0.7471 - val_loss: 0.5274 - val_acc: 0.7559\n",
      "Epoch 91/150\n",
      "514/514 [==============================] - 0s 364us/step - loss: 0.5226 - acc: 0.7412 - val_loss: 0.5269 - val_acc: 0.7480\n",
      "Epoch 92/150\n",
      "514/514 [==============================] - 0s 263us/step - loss: 0.5292 - acc: 0.7374 - val_loss: 0.5250 - val_acc: 0.7559\n",
      "Epoch 93/150\n",
      "514/514 [==============================] - 0s 242us/step - loss: 0.5174 - acc: 0.7607 - val_loss: 0.5191 - val_acc: 0.7480\n",
      "Epoch 94/150\n",
      "514/514 [==============================] - 0s 216us/step - loss: 0.5237 - acc: 0.7490 - val_loss: 0.5178 - val_acc: 0.7756\n",
      "Epoch 95/150\n",
      "514/514 [==============================] - 0s 232us/step - loss: 0.5175 - acc: 0.7510 - val_loss: 0.5360 - val_acc: 0.7362\n",
      "Epoch 96/150\n",
      "514/514 [==============================] - 0s 249us/step - loss: 0.5215 - acc: 0.7354 - val_loss: 0.5224 - val_acc: 0.7598\n",
      "Epoch 97/150\n",
      "514/514 [==============================] - 0s 221us/step - loss: 0.5174 - acc: 0.7432 - val_loss: 0.5198 - val_acc: 0.7598\n",
      "Epoch 98/150\n",
      "514/514 [==============================] - 0s 341us/step - loss: 0.5246 - acc: 0.7354 - val_loss: 0.5295 - val_acc: 0.7362\n",
      "Epoch 99/150\n",
      "514/514 [==============================] - 0s 378us/step - loss: 0.5246 - acc: 0.7412 - val_loss: 0.5175 - val_acc: 0.7559\n",
      "Epoch 100/150\n",
      "514/514 [==============================] - 0s 269us/step - loss: 0.5219 - acc: 0.7393 - val_loss: 0.5143 - val_acc: 0.7717\n",
      "Epoch 101/150\n",
      "514/514 [==============================] - 0s 300us/step - loss: 0.5151 - acc: 0.7471 - val_loss: 0.5199 - val_acc: 0.7480\n",
      "Epoch 102/150\n",
      "514/514 [==============================] - 0s 300us/step - loss: 0.5109 - acc: 0.7568 - val_loss: 0.5146 - val_acc: 0.7559\n",
      "Epoch 103/150\n",
      "514/514 [==============================] - 0s 230us/step - loss: 0.5207 - acc: 0.7510 - val_loss: 0.5255 - val_acc: 0.7598\n",
      "Epoch 104/150\n",
      "514/514 [==============================] - 0s 225us/step - loss: 0.5153 - acc: 0.7471 - val_loss: 0.5132 - val_acc: 0.7756\n",
      "Epoch 105/150\n",
      "514/514 [==============================] - 0s 353us/step - loss: 0.5110 - acc: 0.7588 - val_loss: 0.5193 - val_acc: 0.7520\n",
      "Epoch 106/150\n",
      "514/514 [==============================] - 0s 249us/step - loss: 0.5163 - acc: 0.7471 - val_loss: 0.5133 - val_acc: 0.7638\n",
      "Epoch 107/150\n",
      "514/514 [==============================] - 0s 221us/step - loss: 0.5149 - acc: 0.7412 - val_loss: 0.5262 - val_acc: 0.7441\n",
      "Epoch 108/150\n",
      "514/514 [==============================] - 0s 238us/step - loss: 0.5274 - acc: 0.7607 - val_loss: 0.5168 - val_acc: 0.7677\n",
      "Epoch 109/150\n",
      "514/514 [==============================] - 0s 250us/step - loss: 0.5149 - acc: 0.7568 - val_loss: 0.5133 - val_acc: 0.7638\n",
      "Epoch 110/150\n",
      "514/514 [==============================] - 0s 239us/step - loss: 0.5071 - acc: 0.7510 - val_loss: 0.5365 - val_acc: 0.7402\n",
      "Epoch 111/150\n",
      "514/514 [==============================] - 0s 232us/step - loss: 0.5231 - acc: 0.7412 - val_loss: 0.5171 - val_acc: 0.7638\n",
      "Epoch 112/150\n",
      "514/514 [==============================] - 0s 220us/step - loss: 0.5064 - acc: 0.7568 - val_loss: 0.5233 - val_acc: 0.7598\n",
      "Epoch 113/150\n",
      "514/514 [==============================] - 0s 213us/step - loss: 0.5108 - acc: 0.7529 - val_loss: 0.5177 - val_acc: 0.7717\n",
      "Epoch 114/150\n",
      "514/514 [==============================] - 0s 225us/step - loss: 0.5065 - acc: 0.7549 - val_loss: 0.5163 - val_acc: 0.7717\n",
      "Epoch 115/150\n",
      "514/514 [==============================] - 0s 218us/step - loss: 0.5108 - acc: 0.7432 - val_loss: 0.5095 - val_acc: 0.7598\n",
      "Epoch 116/150\n",
      "514/514 [==============================] - 0s 268us/step - loss: 0.5063 - acc: 0.7510 - val_loss: 0.5072 - val_acc: 0.7835\n",
      "Epoch 117/150\n",
      "514/514 [==============================] - 0s 257us/step - loss: 0.5184 - acc: 0.7393 - val_loss: 0.5196 - val_acc: 0.7559\n",
      "Epoch 118/150\n",
      "514/514 [==============================] - 0s 207us/step - loss: 0.5075 - acc: 0.7490 - val_loss: 0.5087 - val_acc: 0.7559\n",
      "Epoch 119/150\n",
      "514/514 [==============================] - 0s 202us/step - loss: 0.5137 - acc: 0.7568 - val_loss: 0.5166 - val_acc: 0.7441\n",
      "Epoch 120/150\n",
      "514/514 [==============================] - 0s 225us/step - loss: 0.5064 - acc: 0.7432 - val_loss: 0.5075 - val_acc: 0.7874\n",
      "Epoch 121/150\n"
     ]
    },
    {
     "name": "stdout",
     "output_type": "stream",
     "text": [
      "514/514 [==============================] - 0s 211us/step - loss: 0.5101 - acc: 0.7529 - val_loss: 0.5178 - val_acc: 0.7520\n",
      "Epoch 122/150\n",
      "514/514 [==============================] - 0s 234us/step - loss: 0.5129 - acc: 0.7451 - val_loss: 0.5092 - val_acc: 0.7795\n",
      "Epoch 123/150\n",
      "514/514 [==============================] - 0s 192us/step - loss: 0.5068 - acc: 0.7432 - val_loss: 0.5187 - val_acc: 0.7677\n",
      "Epoch 124/150\n",
      "514/514 [==============================] - 0s 187us/step - loss: 0.5070 - acc: 0.7490 - val_loss: 0.5204 - val_acc: 0.7441\n",
      "Epoch 125/150\n",
      "514/514 [==============================] - 0s 215us/step - loss: 0.5277 - acc: 0.7490 - val_loss: 0.5197 - val_acc: 0.7677\n",
      "Epoch 126/150\n",
      "514/514 [==============================] - 0s 198us/step - loss: 0.5079 - acc: 0.7374 - val_loss: 0.5172 - val_acc: 0.7638\n",
      "Epoch 127/150\n",
      "514/514 [==============================] - 0s 218us/step - loss: 0.5061 - acc: 0.7490 - val_loss: 0.5037 - val_acc: 0.7835\n",
      "Epoch 128/150\n",
      "514/514 [==============================] - 0s 188us/step - loss: 0.4998 - acc: 0.7743 - val_loss: 0.5076 - val_acc: 0.7598\n",
      "Epoch 129/150\n",
      "514/514 [==============================] - 0s 174us/step - loss: 0.5085 - acc: 0.7490 - val_loss: 0.5138 - val_acc: 0.7677\n",
      "Epoch 130/150\n",
      "514/514 [==============================] - 0s 198us/step - loss: 0.5070 - acc: 0.7490 - val_loss: 0.5030 - val_acc: 0.7756\n",
      "Epoch 131/150\n",
      "514/514 [==============================] - 0s 193us/step - loss: 0.5013 - acc: 0.7529 - val_loss: 0.5227 - val_acc: 0.7559\n",
      "Epoch 132/150\n",
      "514/514 [==============================] - 0s 202us/step - loss: 0.5060 - acc: 0.7568 - val_loss: 0.4997 - val_acc: 0.7795\n",
      "Epoch 133/150\n",
      "514/514 [==============================] - 0s 179us/step - loss: 0.5017 - acc: 0.7704 - val_loss: 0.5015 - val_acc: 0.7717\n",
      "Epoch 134/150\n",
      "514/514 [==============================] - 0s 191us/step - loss: 0.4999 - acc: 0.7471 - val_loss: 0.5064 - val_acc: 0.7795\n",
      "Epoch 135/150\n",
      "514/514 [==============================] - 0s 189us/step - loss: 0.4980 - acc: 0.7529 - val_loss: 0.5032 - val_acc: 0.7835\n",
      "Epoch 136/150\n",
      "514/514 [==============================] - 0s 187us/step - loss: 0.5045 - acc: 0.7432 - val_loss: 0.4994 - val_acc: 0.7874\n",
      "Epoch 137/150\n",
      "514/514 [==============================] - 0s 208us/step - loss: 0.5079 - acc: 0.7451 - val_loss: 0.5026 - val_acc: 0.7795\n",
      "Epoch 138/150\n",
      "514/514 [==============================] - 0s 192us/step - loss: 0.5021 - acc: 0.7529 - val_loss: 0.5005 - val_acc: 0.7756\n",
      "Epoch 139/150\n",
      "514/514 [==============================] - 0s 178us/step - loss: 0.4967 - acc: 0.7549 - val_loss: 0.5026 - val_acc: 0.7717\n",
      "Epoch 140/150\n",
      "514/514 [==============================] - 0s 184us/step - loss: 0.4944 - acc: 0.7471 - val_loss: 0.5031 - val_acc: 0.7717\n",
      "Epoch 141/150\n",
      "514/514 [==============================] - 0s 205us/step - loss: 0.5010 - acc: 0.7588 - val_loss: 0.4967 - val_acc: 0.7756\n",
      "Epoch 142/150\n",
      "514/514 [==============================] - 0s 177us/step - loss: 0.4986 - acc: 0.7646 - val_loss: 0.5055 - val_acc: 0.7717\n",
      "Epoch 143/150\n",
      "514/514 [==============================] - 0s 207us/step - loss: 0.5067 - acc: 0.7626 - val_loss: 0.4997 - val_acc: 0.7717\n",
      "Epoch 144/150\n",
      "514/514 [==============================] - 0s 184us/step - loss: 0.5143 - acc: 0.7510 - val_loss: 0.5003 - val_acc: 0.7638\n",
      "Epoch 145/150\n",
      "514/514 [==============================] - 0s 185us/step - loss: 0.5021 - acc: 0.7451 - val_loss: 0.4953 - val_acc: 0.7835\n",
      "Epoch 146/150\n",
      "514/514 [==============================] - 0s 191us/step - loss: 0.4948 - acc: 0.7393 - val_loss: 0.5015 - val_acc: 0.7677\n",
      "Epoch 147/150\n",
      "514/514 [==============================] - 0s 188us/step - loss: 0.4955 - acc: 0.7607 - val_loss: 0.4949 - val_acc: 0.7874\n",
      "Epoch 148/150\n",
      "514/514 [==============================] - 0s 202us/step - loss: 0.4976 - acc: 0.7490 - val_loss: 0.5004 - val_acc: 0.7598\n",
      "Epoch 149/150\n",
      "514/514 [==============================] - 0s 195us/step - loss: 0.4913 - acc: 0.7549 - val_loss: 0.4974 - val_acc: 0.7717\n",
      "Epoch 150/150\n",
      "514/514 [==============================] - 0s 203us/step - loss: 0.4921 - acc: 0.7588 - val_loss: 0.4982 - val_acc: 0.7874\n"
     ]
    }
   ],
   "source": [
    "# Fit the model\n",
    "history = model.fit(X, y, validation_split=0.33, epochs=150, batch_size=10)"
   ]
  },
  {
   "cell_type": "code",
   "execution_count": 16,
   "metadata": {},
   "outputs": [
    {
     "name": "stdout",
     "output_type": "stream",
     "text": [
      "dict_keys(['val_loss', 'val_acc', 'loss', 'acc'])\n"
     ]
    }
   ],
   "source": [
    "# list all data in history\n",
    "print(history.history.keys())"
   ]
  },
  {
   "cell_type": "code",
   "execution_count": 20,
   "metadata": {},
   "outputs": [
    {
     "data": {
      "image/png": "[encoded data removed]",
      "text/plain": [
       "<Figure size 432x288 with 1 Axes>"
      ]
     },
     "metadata": {},
     "output_type": "display_data"
    }
   ],
   "source": [
    "# summarize history for loss\n",
    "plt.plot(history.history['loss'])\n",
    "plt.plot(history.history['val_loss'])\n",
    "plt.title('model loss')\n",
    "plt.ylabel('loss')\n",
    "plt.xlabel('epoch')\n",
    "plt.legend(['train', 'validation'], loc='upper left')\n",
    "plt.show()"
   ]
  },
  {
   "cell_type": "code",
   "execution_count": 19,
   "metadata": {},
   "outputs": [
    {
     "data": {
      "image/png": "[encoded data removed]",
      "text/plain": [
       "<Figure size 432x288 with 1 Axes>"
      ]
     },
     "metadata": {},
     "output_type": "display_data"
    }
   ],
   "source": [
    "plt.plot(history.history['acc'], 'r')\n",
    "plt.plot(history.history['val_acc'], 'b')\n",
    "plt.title('Model Accuracy')\n",
    "plt.xlabel('Epochs')\n",
    "plt.ylabel('Accuracy')\n",
    "plt.legend(['train', 'validation'], loc='upper left')\n",
    "plt.show()"
   ]
  },
  {
   "cell_type": "code",
   "execution_count": null,
   "metadata": {
    "collapsed": true
   },
   "outputs": [],
   "source": []
  }
 ],
 "metadata": {
  "kernelspec": {
   "display_name": "Python 3",
   "language": "python",
   "name": "python3"
  },
  "language_info": {
   "codemirror_mode": {
    "name": "ipython",
    "version": 3
   },
   "file_extension": ".py",
   "mimetype": "text/x-python",
   "name": "python",
   "nbconvert_exporter": "python",
   "pygments_lexer": "ipython3",
   "version": "3.6.1"
  },
  "varInspector": {
   "cols": {
    "lenName": 16,
    "lenType": 16,
    "lenVar": 40
   },
   "kernels_config": {
    "python": {
     "delete_cmd_postfix": "",
     "delete_cmd_prefix": "del ",
     "library": "var_list.py",
     "varRefreshCmd": "print(var_dic_list())"
    },
    "r": {
     "delete_cmd_postfix": ") ",
     "delete_cmd_prefix": "rm(",
     "library": "var_list.r",
     "varRefreshCmd": "cat(var_dic_list()) "
    }
   },
   "types_to_exclude": [
    "module",
    "function",
    "builtin_function_or_method",
    "instance",
    "_Feature"
   ],
   "window_display": false
  }
 },
 "nbformat": 4,
 "nbformat_minor": 2
}
