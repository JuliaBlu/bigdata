{
 "cells": [
  {
   "cell_type": "markdown",
   "metadata": {},
   "source": [
    "# Amdahl's Law"
   ]
  },
  {
   "cell_type": "code",
   "execution_count": 1,
   "metadata": {},
   "outputs": [],
   "source": [
    "# import symbolic capability to Python\n",
    "from sympy import *\n",
    "from sympy.abc import *\n",
    "from sympy.plotting import plot\n",
    "import matplotlib.pyplot as plt\n",
    "import numpy as np\n",
    "# print things all pretty\n",
    "from IPython.display import display\n",
    "init_printing()"
   ]
  },
  {
   "cell_type": "markdown",
   "metadata": {},
   "source": [
    "Variables:\n",
    "* $T_{1}$: Total runtime of a Task with one CPU / Core / Node\n",
    "* $T_{s}$:\tRuntime of sequential part (can **not** be parallelized)\n",
    "* $T_{p}$:\tRuntime of parallelizable part (can be parallelized)"
   ]
  },
  {
   "cell_type": "code",
   "execution_count": 2,
   "metadata": {},
   "outputs": [],
   "source": [
    "T_1 = symbols(\"T_1\", positive=True, real=True)\n",
    "T_s = symbols(\"T_s\", positive=True, real=True)\n",
    "T_p = symbols(\"T_p\", positive=True, real=True)"
   ]
  },
  {
   "cell_type": "code",
   "execution_count": 3,
   "metadata": {},
   "outputs": [
    {
     "data": {
      "image/png": "[encoded data removed]",
      "text/latex": [
       "$\\displaystyle T_{1} = T_{p} + T_{s}$"
      ],
      "text/plain": [
       "T₁ = Tₚ + Tₛ"
      ]
     },
     "execution_count": 3,
     "metadata": {},
     "output_type": "execute_result"
    }
   ],
   "source": [
    "runtime_equation = Eq(T_1, T_s + T_p)\n",
    "runtime_equation"
   ]
  },
  {
   "cell_type": "markdown",
   "metadata": {},
   "source": [
    "* $f$:\tParallelizable fraction of program, $f \\in [0, 1]$"
   ]
  },
  {
   "cell_type": "code",
   "execution_count": 4,
   "metadata": {},
   "outputs": [],
   "source": [
    "f = symbols(\"f\", positive=True, real=True)"
   ]
  },
  {
   "cell_type": "code",
   "execution_count": 5,
   "metadata": {},
   "outputs": [
    {
     "data": {
      "image/png": "[encoded data removed]",
      "text/latex": [
       "$\\displaystyle f = \\frac{T_{p}}{T_{1}}$"
      ],
      "text/plain": [
       "    Tₚ\n",
       "f = ──\n",
       "    T₁"
      ]
     },
     "execution_count": 5,
     "metadata": {},
     "output_type": "execute_result"
    }
   ],
   "source": [
    "fraction_equation = Eq(f, T_p / T_1)\n",
    "fraction_equation"
   ]
  },
  {
   "cell_type": "code",
   "execution_count": 6,
   "metadata": {},
   "outputs": [
    {
     "data": {
      "image/png": "[encoded data removed]",
      "text/latex": [
       "$\\displaystyle T_{1} f$"
      ],
      "text/plain": [
       "T₁⋅f"
      ]
     },
     "execution_count": 6,
     "metadata": {},
     "output_type": "execute_result"
    }
   ],
   "source": [
    "result_tp = solve(fraction_equation, T_p)[0]\n",
    "result_tp"
   ]
  },
  {
   "cell_type": "code",
   "execution_count": 7,
   "metadata": {},
   "outputs": [
    {
     "data": {
      "image/png": "[encoded data removed]",
      "text/latex": [
       "$\\displaystyle - T_{1} f + T_{1}$"
      ],
      "text/plain": [
       "-T₁⋅f + T₁"
      ]
     },
     "execution_count": 7,
     "metadata": {},
     "output_type": "execute_result"
    }
   ],
   "source": [
    "result_ts = solve(runtime_equation, T_s)[0]\n",
    "result_ts = result_ts.subs(T_p, result_tp)\n",
    "result_ts"
   ]
  },
  {
   "cell_type": "markdown",
   "metadata": {},
   "source": [
    "* $n$: CPUs / Cores / Nodes\n",
    "* $T_n(n)$\tRuntime with n processor\n",
    "* $T_{n} = T_{s} + \\frac{T_{p}}{n}$"
   ]
  },
  {
   "cell_type": "code",
   "execution_count": 8,
   "metadata": {},
   "outputs": [],
   "source": [
    "n = symbols(\"n\", positive=True, real=True)\n",
    "T_n = symbols(\"T_{n}\", positive=True, real=True)"
   ]
  },
  {
   "cell_type": "code",
   "execution_count": 9,
   "metadata": {},
   "outputs": [
    {
     "data": {
      "image/png": "[encoded data removed]",
      "text/latex": [
       "$\\displaystyle \\frac{T_{p}}{n} + T_{s}$"
      ],
      "text/plain": [
       "Tₚ     \n",
       "── + Tₛ\n",
       "n      "
      ]
     },
     "execution_count": 9,
     "metadata": {},
     "output_type": "execute_result"
    }
   ],
   "source": [
    "T_n =  T_s + T_p / n\n",
    "T_n"
   ]
  },
  {
   "cell_type": "code",
   "execution_count": 10,
   "metadata": {},
   "outputs": [
    {
     "data": {
      "image/png": "[encoded data removed]",
      "text/latex": [
       "$\\displaystyle - T_{1} f + \\frac{T_{1} f}{n} + T_{1}$"
      ],
      "text/plain": [
       "        T₁⋅f     \n",
       "-T₁⋅f + ──── + T₁\n",
       "         n       "
      ]
     },
     "execution_count": 10,
     "metadata": {},
     "output_type": "execute_result"
    }
   ],
   "source": [
    "T_n = T_n.subs(T_p, result_tp).subs(T_s, result_ts)\n",
    "T_n"
   ]
  },
  {
   "cell_type": "markdown",
   "metadata": {},
   "source": [
    "* $S(n)$: Speedup with n Cores vs. 1 Core\n",
    "* $S(n) = \\frac{T_{1}}{T_{n}(n)}$\n",
    "* $S(n) = \\frac{1}{(1-f)+\\frac{f}{n}}$"
   ]
  },
  {
   "cell_type": "code",
   "execution_count": 11,
   "metadata": {},
   "outputs": [
    {
     "data": {
      "image/png": "[encoded data removed]",
      "text/latex": [
       "$\\displaystyle \\frac{n}{f + n \\left(1 - f\\right)}$"
      ],
      "text/plain": [
       "      n      \n",
       "─────────────\n",
       "f + n⋅(1 - f)"
      ]
     },
     "metadata": {},
     "output_type": "display_data"
    }
   ],
   "source": [
    "S = symbols(\"S\", positive=True, real=True)\n",
    "S = T_1 / T_n\n",
    "S = simplify(S)\n",
    "display(S)"
   ]
  },
  {
   "cell_type": "code",
   "execution_count": 12,
   "metadata": {},
   "outputs": [
    {
     "data": {
      "image/png": "[encoded data removed]",
      "text/latex": [
       "$\\displaystyle \\frac{1}{- f + \\frac{f}{n} + 1}$"
      ],
      "text/plain": [
       "    1     \n",
       "──────────\n",
       "     f    \n",
       "-f + ─ + 1\n",
       "     n    "
      ]
     },
     "metadata": {},
     "output_type": "display_data"
    }
   ],
   "source": [
    "numerator = numer(S)\n",
    "denominator = denom(S)\n",
    "numerator = simplify(numerator* 1/n)\n",
    "denominator = simplify(denominator * 1/n)\n",
    "display(numerator / denominator)"
   ]
  },
  {
   "cell_type": "markdown",
   "metadata": {},
   "source": [
    "* $S(n) = \\frac{1}{(1-f)+\\frac{f}{n}}$\n",
    "* $\\displaystyle \\lim_{n \\rightarrow \\infty} S(n) = \\frac{1}{1-f}$"
   ]
  },
  {
   "cell_type": "code",
   "execution_count": 13,
   "metadata": {},
   "outputs": [
    {
     "data": {
      "image/png": "[encoded data removed]",
      "text/latex": [
       "$\\displaystyle \\frac{1}{1 - f}$"
      ],
      "text/plain": [
       "  1  \n",
       "─────\n",
       "1 - f"
      ]
     },
     "execution_count": 13,
     "metadata": {},
     "output_type": "execute_result"
    }
   ],
   "source": [
    "limit(S, n, oo)"
   ]
  },
  {
   "cell_type": "code",
   "execution_count": 14,
   "metadata": {},
   "outputs": [
    {
     "data": {
      "image/png": "[encoded data removed]",
      "text/latex": [
       "$\\displaystyle \\left[ 1, \\  2, \\  4, \\  8, \\  16, \\  32, \\  64, \\  128, \\  256, \\  512, \\  1024, \\  2048, \\  4096, \\  8192, \\  16384, \\  32768, \\  65536\\right]$"
      ],
      "text/plain": [
       "[1, 2, 4, 8, 16, 32, 64, 128, 256, 512, 1024, 2048, 4096, 8192, 16384, 32768, \n",
       "65536]"
      ]
     },
     "execution_count": 14,
     "metadata": {},
     "output_type": "execute_result"
    }
   ],
   "source": [
    "xrange = [2**i for i in range(0,17)]\n",
    "xrange"
   ]
  },
  {
   "cell_type": "code",
   "execution_count": 15,
   "metadata": {},
   "outputs": [
    {
     "data": {
      "image/png": "[encoded data removed]",
      "text/latex": [
       "$\\displaystyle \\frac{n}{0.5 n + 0.5}$"
      ],
      "text/plain": [
       "     n     \n",
       "───────────\n",
       "0.5⋅n + 0.5"
      ]
     },
     "metadata": {},
     "output_type": "display_data"
    },
    {
     "data": {
      "image/png": "[encoded data removed]",
      "text/latex": [
       "$\\displaystyle \\frac{n}{0.25 n + 0.75}$"
      ],
      "text/plain": [
       "      n      \n",
       "─────────────\n",
       "0.25⋅n + 0.75"
      ]
     },
     "metadata": {},
     "output_type": "display_data"
    },
    {
     "data": {
      "image/png": "[encoded data removed]",
      "text/latex": [
       "$\\displaystyle \\frac{n}{0.1 n + 0.9}$"
      ],
      "text/plain": [
       "     n     \n",
       "───────────\n",
       "0.1⋅n + 0.9"
      ]
     },
     "metadata": {},
     "output_type": "display_data"
    },
    {
     "data": {
      "image/png": "[encoded data removed]",
      "text/latex": [
       "$\\displaystyle \\frac{n}{0.05 n + 0.95}$"
      ],
      "text/plain": [
       "      n      \n",
       "─────────────\n",
       "0.05⋅n + 0.95"
      ]
     },
     "metadata": {},
     "output_type": "display_data"
    }
   ],
   "source": [
    "S50 = S.subs(f, 0.5)\n",
    "display(S50)\n",
    "S75 = S.subs(f, 0.75)\n",
    "display(S75)\n",
    "S90 = S.subs(f, 0.90)\n",
    "display(S90)\n",
    "S95 = S.subs(f, 0.95)\n",
    "display(S95)"
   ]
  },
  {
   "cell_type": "code",
   "execution_count": 16,
   "metadata": {},
   "outputs": [
    {
     "name": "stdout",
     "output_type": "stream",
     "text": [
      "[1.00000000000000, 1.33333333333333, 1.60000000000000, 1.77777777777778, 1.88235294117647, 1.93939393939394, 1.96923076923077, 1.98449612403101, 1.99221789883268, 1.99610136452242, 1.99804878048780, 1.99902391410444, 1.99951183793019, 1.99975588917368, 1.99987793713763, 1.99993896670634, 1.99996948288753]\n",
      "[1.00000000000000, 1.60000000000000, 2.28571428571429, 2.90909090909091, 3.36842105263158, 3.65714285714286, 3.82089552238806, 3.90839694656489, 3.95366795366795, 3.97669902912621, 3.98831548198637, 3.99414919551438, 3.99707245669676, 3.99853569249542, 3.99926771221090, 3.99963382258704, 3.99981690291277]\n",
      "[1.00000000000000, 1.81818181818182, 3.07692307692308, 4.70588235294118, 6.40000000000000, 7.80487804878049, 8.76712328767123, 9.34306569343066, 9.66037735849057, 9.82725527831094, 9.91287512100678, 9.95624696159456, 9.97807551766139, 9.98902572856969, 9.99450985176600, 9.99725417213290, 9.99862689755130]\n",
      "[1.00000000000000, 1.90476190476190, 3.47826086956522, 5.92592592592592, 9.14285714285714, 12.5490196078431, 15.4216867469879, 17.4149659863945, 18.6181818181818, 19.2843691148776, 19.6356663470757, 19.8161586840832, 19.9076549210206, 19.9537206186822, 19.9768335060659, 19.9884100405648, 19.9942033407063]\n"
     ]
    }
   ],
   "source": [
    "y_S50 = [S50.subs(n, x) for x in xrange]\n",
    "print(y_S50)\n",
    "y_S75 = [S75.subs(n, x) for x in xrange]\n",
    "print(y_S75)\n",
    "y_S90 = [S90.subs(n, x) for x in xrange]\n",
    "print(y_S90)\n",
    "y_S95 = [S95.subs(n, x) for x in xrange]\n",
    "print(y_S95)"
   ]
  },
  {
   "cell_type": "code",
   "execution_count": 17,
   "metadata": {},
   "outputs": [
    {
     "data": {
      "image/png": "[encoded data removed]",
      "text/plain": [
       "<Figure size 792x360 with 1 Axes>"
      ]
     },
     "metadata": {
      "needs_background": "light"
     },
     "output_type": "display_data"
    }
   ],
   "source": [
    "x_tick_labels = [str(x) for x in xrange]\n",
    "fig, ax = plt.subplots(figsize=(11, 5))\n",
    "plt.plot(y_S50, label=\"f: Parallel Portion\\n50%\")\n",
    "plt.plot(y_S75, label=\"75%\")\n",
    "plt.plot(y_S90, label=\"90%\")\n",
    "plt.plot(y_S95, label=\"95%\")\n",
    "ax.legend()\n",
    "plt.xticks(np.arange(0, 17, 1))\n",
    "plt.yticks(np.arange(0, 21, 1))\n",
    "ax.set_xticklabels(x_tick_labels)\n",
    "plt.xlabel(\"n: Number of CPUs / Nodes\")\n",
    "plt.ylabel(\"S: Speedup\")\n",
    "plt.show()"
   ]
  }
 ],
 "metadata": {
  "kernelspec": {
   "display_name": "Python 3",
   "language": "python",
   "name": "python3"
  },
  "language_info": {
   "codemirror_mode": {
    "name": "ipython",
    "version": 3
   },
   "file_extension": ".py",
   "mimetype": "text/x-python",
   "name": "python",
   "nbconvert_exporter": "python",
   "pygments_lexer": "ipython3",
   "version": "3.6.1"
  },
  "varInspector": {
   "cols": {
    "lenName": 16,
    "lenType": 16,
    "lenVar": 40
   },
   "kernels_config": {
    "python": {
     "delete_cmd_postfix": "",
     "delete_cmd_prefix": "del ",
     "library": "var_list.py",
     "varRefreshCmd": "print(var_dic_list())"
    },
    "r": {
     "delete_cmd_postfix": ") ",
     "delete_cmd_prefix": "rm(",
     "library": "var_list.r",
     "varRefreshCmd": "cat(var_dic_list()) "
    }
   },
   "types_to_exclude": [
    "module",
    "function",
    "builtin_function_or_method",
    "instance",
    "_Feature"
   ],
   "window_display": false
  }
 },
 "nbformat": 4,
 "nbformat_minor": 2
}
