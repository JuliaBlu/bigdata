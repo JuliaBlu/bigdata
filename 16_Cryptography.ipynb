{
 "cells": [
  {
   "cell_type": "code",
   "execution_count": 1,
   "metadata": {
    "collapsed": true
   },
   "outputs": [],
   "source": [
    "import hashlib\n",
    "import random\n",
    "import string\n",
    "import json\n",
    "import binascii\n",
    "import numpy as np\n",
    "import pandas as pd\n",
    "import pylab as pl\n",
    "import logging\n",
    "import datetime\n",
    "import collections"
   ]
  },
  {
   "cell_type": "code",
   "execution_count": 2,
   "metadata": {
    "collapsed": true
   },
   "outputs": [],
   "source": [
    "import hashlib"
   ]
  },
  {
   "cell_type": "code",
   "execution_count": 3,
   "metadata": {},
   "outputs": [
    {
     "name": "stdout",
     "output_type": "stream",
     "text": [
      "Requirement already satisfied: cryptography in /Library/Frameworks/Python.framework/Versions/3.6/lib/python3.6/site-packages (2.7)\n",
      "Requirement already satisfied: six>=1.4.1 in /Library/Frameworks/Python.framework/Versions/3.6/lib/python3.6/site-packages (from cryptography) (1.10.0)\n",
      "Requirement already satisfied: cffi!=1.11.3,>=1.8 in /Library/Frameworks/Python.framework/Versions/3.6/lib/python3.6/site-packages (from cryptography) (1.10.0)\n",
      "Requirement already satisfied: asn1crypto>=0.21.0 in /Library/Frameworks/Python.framework/Versions/3.6/lib/python3.6/site-packages (from cryptography) (0.24.0)\n",
      "Requirement already satisfied: pycparser in /Library/Frameworks/Python.framework/Versions/3.6/lib/python3.6/site-packages (from cffi!=1.11.3,>=1.8->cryptography) (2.17)\n"
     ]
    }
   ],
   "source": [
    "! pip3 install cryptography"
   ]
  },
  {
   "cell_type": "code",
   "execution_count": 4,
   "metadata": {
    "collapsed": true
   },
   "outputs": [],
   "source": [
    "import base64\n",
    "import logging\n",
    "\n",
    "from cryptography.exceptions import UnsupportedAlgorithm\n",
    "from cryptography.hazmat.backends import default_backend\n",
    "from cryptography.hazmat.primitives import hashes\n",
    "from cryptography.hazmat.primitives.asymmetric import padding\n",
    "from cryptography.hazmat.primitives.asymmetric import rsa\n",
    "from cryptography.hazmat.primitives import serialization"
   ]
  },
  {
   "cell_type": "code",
   "execution_count": 5,
   "metadata": {},
   "outputs": [
    {
     "name": "stdout",
     "output_type": "stream",
     "text": [
      "Requirement already satisfied: pyDES in /Library/Frameworks/Python.framework/Versions/3.6/lib/python3.6/site-packages (2.0.1)\r\n"
     ]
    }
   ],
   "source": [
    "! pip3 install pyDES"
   ]
  },
  {
   "cell_type": "code",
   "execution_count": 6,
   "metadata": {
    "collapsed": true
   },
   "outputs": [],
   "source": [
    "import pyDes"
   ]
  },
  {
   "cell_type": "markdown",
   "metadata": {},
   "source": [
    "# Symmetric Encryption \n",
    "\n",
    "use of the DES Algorithm\n",
    "\n",
    "https://en.wikipedia.org/wiki/Data_Encryption_Standard"
   ]
  },
  {
   "cell_type": "code",
   "execution_count": 7,
   "metadata": {
    "collapsed": true
   },
   "outputs": [],
   "source": [
    "def encript(msg, key):\n",
    "    k = pyDes.des(key, pyDes.CBC, \"\\0\\0\\0\\0\\0\\0\\0\\0\", pad=None, padmode=pyDes.PAD_PKCS5)\n",
    "    return k.encrypt(msg)"
   ]
  },
  {
   "cell_type": "code",
   "execution_count": 8,
   "metadata": {
    "collapsed": true
   },
   "outputs": [],
   "source": [
    "def decript(msg, key):\n",
    "    k = pyDes.des(key, pyDes.CBC, \"\\0\\0\\0\\0\\0\\0\\0\\0\", pad=None, padmode=pyDes.PAD_PKCS5)\n",
    "    return k.decrypt(msg)"
   ]
  },
  {
   "cell_type": "code",
   "execution_count": 9,
   "metadata": {},
   "outputs": [
    {
     "name": "stdout",
     "output_type": "stream",
     "text": [
      "b\"\\xda\\xd2\\xb3\\xba\\xe5V\\xd4\\x00\\x89\\x1fO\\xd2\\xe5\\x13i\\xf0\\xf1\\x98*\\xec{J'\\x1d\"\n"
     ]
    }
   ],
   "source": [
    "# Key must be 8 Bytes\n",
    "key = \"12345678\"\n",
    "msg = \"Super secret message!\"\n",
    "encripted_msg = encript(msg, key)\n",
    "print(encripted_msg)"
   ]
  },
  {
   "cell_type": "code",
   "execution_count": 10,
   "metadata": {},
   "outputs": [
    {
     "name": "stdout",
     "output_type": "stream",
     "text": [
      "b'Super secret message!'\n"
     ]
    }
   ],
   "source": [
    "decripted_msg = decript(encripted_msg, key)\n",
    "print(decripted_msg)"
   ]
  },
  {
   "cell_type": "markdown",
   "metadata": {},
   "source": [
    "# Asymmetric Cryptography\n",
    "\n",
    "use of the RSA Algorithm (public-key cryptography)\n",
    "\n",
    "https://en.wikipedia.org/wiki/Public-key_cryptography "
   ]
  },
  {
   "cell_type": "code",
   "execution_count": 11,
   "metadata": {
    "collapsed": true
   },
   "outputs": [],
   "source": [
    "def generate_keys():\n",
    "    # Generate new key pair\n",
    "    private_key = rsa.generate_private_key(\n",
    "        public_exponent=65537,\n",
    "        key_size=4096,\n",
    "        backend=default_backend()\n",
    "    )\n",
    "    public_key = private_key.public_key()\n",
    "    return private_key, public_key"
   ]
  },
  {
   "cell_type": "code",
   "execution_count": 12,
   "metadata": {
    "collapsed": true
   },
   "outputs": [],
   "source": [
    "private_key, public_key = generate_keys()"
   ]
  },
  {
   "cell_type": "code",
   "execution_count": 13,
   "metadata": {},
   "outputs": [
    {
     "data": {
      "text/plain": [
       "b'-----BEGIN PUBLIC KEY-----\\nMIICIjANBgkqhkiG9w0BAQEFAAOCAg8AMIICCgKCAgEAv0xpbiTc2elluoKhnCgf\\n9YdCC9DQFnEWq8398/6Z8RTSiXrac56RSiSLjB8kXXAaJjiiLwqL871nJ5aIy8Ni\\nrkGY8Zp7TXQrDwqnpF9M1uZ97y+oeMwcf6zclMAMUuySER3Sre6WyYxipuol9UE/\\nHNVTCrMVGbIlx18X65GRTcFZHRR9h+Xktd5NlX9IV6dSPyx2DC78r1GQnQumxm22\\nBSS+FMGG0A4aWDxruwGmZStvU/EWS0+5Zli1CNBWAAzB7/vUHMNLYwyrQiVoJLsh\\nQZX9ObiLwDSfnKI3wPsYWSb6YsWWkuWa1IapcnqBr8Y5/km0ER8o4bAfZCpya7xX\\nOAs9i3OR0TMfuSAuZqIjqnddcxNUFKb/1zKzWXv/btNaisZt8NSr9UzXFJSGb6FV\\nf8qNx3wqfHPhdjeLjIyGtDb+Bnv1wtWf9asGnmHzY5puJvsjKNjcJ6EJE/z9jnIb\\naDlBomd2/Vg7T+Bg03sghSFnaAHNfblywHLY0ic1bLRsc8gMWvQn5wvvmS0ifuNT\\nTShAhe8H1iiChW6zGxsTZTSFn6x1cX4XM4b2NFQwsD9Kt0L+I2oj+QsNA8EoExEA\\nXHwNtc9NkWqS5d9ftqbIMhizR8+hZpzKxPX38nKDCsMINNlLlkkONGG/P2FN1C33\\nKjQr0n+pLJ7H6xn7zyq7Bf0CAwEAAQ==\\n-----END PUBLIC KEY-----\\n'"
      ]
     },
     "execution_count": 13,
     "metadata": {},
     "output_type": "execute_result"
    }
   ],
   "source": [
    "pem = public_key.public_bytes(encoding=serialization.Encoding.PEM, format=serialization.PublicFormat.SubjectPublicKeyInfo )\n",
    "pem"
   ]
  },
  {
   "cell_type": "code",
   "execution_count": 14,
   "metadata": {
    "collapsed": true
   },
   "outputs": [],
   "source": [
    "def encrypt_asym(plain_text , publickey):\n",
    "    # Encription with the use of the RSA Library\n",
    "    cipher_text_bytes = public_key.encrypt(\n",
    "        plaintext=plain_text.encode('utf-8'),\n",
    "        padding=padding.OAEP(\n",
    "            mgf=padding.MGF1(algorithm=hashes.SHA256()),\n",
    "            algorithm=hashes.SHA512(),\n",
    "            label=None\n",
    "        )\n",
    "    )\n",
    "    # Conversion of raw bytes to BASE64 representation\n",
    "    cipher_text = base64.urlsafe_b64encode(cipher_text_bytes)\n",
    "    return cipher_text\n",
    "\n",
    "def decrypt_asym(cipher_text, private_key):\n",
    "    # Decription with the use of the RSA Library\n",
    "    decrypted_cipher_text_bytes = private_key.decrypt(\n",
    "        ciphertext=base64.urlsafe_b64decode(cipher_text),\n",
    "        padding=padding.OAEP(\n",
    "            mgf=padding.MGF1(algorithm=hashes.SHA256()),\n",
    "            algorithm=hashes.SHA512(),\n",
    "            label=None\n",
    "        )\n",
    "    )\n",
    "    # Conversion to UTF-8 Text\n",
    "    decrypted_cipher_text = decrypted_cipher_text_bytes.decode('utf-8')\n",
    "    return decrypted_cipher_text"
   ]
  },
  {
   "cell_type": "code",
   "execution_count": 15,
   "metadata": {},
   "outputs": [
    {
     "data": {
      "text/plain": [
       "b'm2G-UDdECN-85EOxUD7prHxZggO9U4CC0xhS9f2or4wdxgODPs1M8eGuSfZM7tnjL8Bt-LvwU7-eYeXbWmzb9meaJkiPBfitStpNkzQynH69KlODRFDBs_y8ZkIontAmlB0RTW98kaiEcGrt3GO1iMmyaGNCIC6gbTfKKxJYD3pbcPQktZ5e2vXbAo4MOJCqsa8WMMRnPjxgqtupuGrfvaF3y2igtVI4zQ9ZHcVU95U8g4VrrdbWBL_HOtoqXGm70Ak67Xa48Au9jy-0VzioLvURbcSOZQp9VVfsX5t60pfYVRdyaUAhPfs1-IVGILjAb1adq6Is5nIJ6_tQUd1NgcYx1dGejXUCW6ULK5z4WDNXu-nAS4818zfO1kYwc9wx6iDUIMgXPEOda2rdJr52IC0CscwlWTFep2nOWtKgDoms-phpjAhqWnPznwiGDmoxVjcCEYmik2mVfo0a5NVX1qj36z3d3s6p_U9bXp5mmtMO9gIy2EwyWDjuXxna7qOzpwBuEnGDdpRwxaeYyl0eZB0qI7nMHQsN9vy7h1xVx-TVl9cfeBtOfdASuQLKAQ-8xN3jAjt64Zv12NTiCsjNeIIuw29IEOvbtCvffi3rPsQeAcVUlalkrOGPlvNmZIiWrn-2q8qypHPo89VHoYVbxtw251nUVJK0adguOffALoc='"
      ]
     },
     "execution_count": 15,
     "metadata": {},
     "output_type": "execute_result"
    }
   ],
   "source": [
    "msg = \"This message was encripted with asymmetric cryptography\"\n",
    "encrypted_msg = encrypt_asym(msg , public_key)\n",
    "encrypted_msg"
   ]
  },
  {
   "cell_type": "code",
   "execution_count": 16,
   "metadata": {},
   "outputs": [
    {
     "data": {
      "text/plain": [
       "'This message was encripted with asymmetric cryptography'"
      ]
     },
     "execution_count": 16,
     "metadata": {},
     "output_type": "execute_result"
    }
   ],
   "source": [
    "decripted_msg = decrypt_asym(encrypted_msg, private_key)\n",
    "decripted_msg"
   ]
  },
  {
   "cell_type": "markdown",
   "metadata": {},
   "source": [
    "# Simple Hash Functions\n",
    "\n",
    "https://en.wikipedia.org/wiki/Hash_function"
   ]
  },
  {
   "cell_type": "code",
   "execution_count": 20,
   "metadata": {
    "collapsed": true
   },
   "outputs": [],
   "source": [
    "msg = \"This is a long contract fdsf s fsdf \""
   ]
  },
  {
   "cell_type": "code",
   "execution_count": 21,
   "metadata": {
    "collapsed": true
   },
   "outputs": [],
   "source": [
    "def super_simple_hash(msg):\n",
    "    \"\"\"Just the first letter of the message\"\"\"\n",
    "    return msg[0]"
   ]
  },
  {
   "cell_type": "code",
   "execution_count": 22,
   "metadata": {},
   "outputs": [
    {
     "data": {
      "text/plain": [
       "'T'"
      ]
     },
     "execution_count": 22,
     "metadata": {},
     "output_type": "execute_result"
    }
   ],
   "source": [
    "super_simple_hash(msg)"
   ]
  },
  {
   "cell_type": "code",
   "execution_count": 23,
   "metadata": {
    "collapsed": true
   },
   "outputs": [],
   "source": [
    "msg = \"This is a totaly different contract :-)\""
   ]
  },
  {
   "cell_type": "code",
   "execution_count": 24,
   "metadata": {},
   "outputs": [
    {
     "data": {
      "text/plain": [
       "'T'"
      ]
     },
     "execution_count": 24,
     "metadata": {},
     "output_type": "execute_result"
    }
   ],
   "source": [
    "super_simple_hash(msg)"
   ]
  },
  {
   "cell_type": "code",
   "execution_count": 25,
   "metadata": {
    "collapsed": true
   },
   "outputs": [],
   "source": [
    "def hash_msg(msg=\"\"):\n",
    "    return hashlib.sha256(str(msg).encode('utf-8')).hexdigest()"
   ]
  },
  {
   "cell_type": "code",
   "execution_count": 28,
   "metadata": {},
   "outputs": [
    {
     "data": {
      "text/plain": [
       "'2ea211886896ac71f4d0d007c3f26908973a7681b8d51d986c14c8ab06c85966'"
      ]
     },
     "execution_count": 28,
     "metadata": {},
     "output_type": "execute_result"
    }
   ],
   "source": [
    "hash_msg(\"This is a long contract.\")"
   ]
  },
  {
   "cell_type": "code",
   "execution_count": 29,
   "metadata": {},
   "outputs": [
    {
     "data": {
      "text/plain": [
       "'fcaa045d6064a9f33c7a8677664f53ff60b0ce575979219d414a60e3129afe09'"
      ]
     },
     "execution_count": 29,
     "metadata": {},
     "output_type": "execute_result"
    }
   ],
   "source": [
    "hash_msg(\"This is a totaly different contract :-)\")"
   ]
  },
  {
   "cell_type": "code",
   "execution_count": 30,
   "metadata": {
    "collapsed": true
   },
   "outputs": [],
   "source": [
    "def check_msg(msg, signed_hash):\n",
    "    calculated_hash = hash_msg(msg)\n",
    "    if signed_hash == calculated_hash:\n",
    "        return True\n",
    "    else:\n",
    "        return False"
   ]
  },
  {
   "cell_type": "code",
   "execution_count": 26,
   "metadata": {},
   "outputs": [
    {
     "data": {
      "text/plain": [
       "True"
      ]
     },
     "execution_count": 26,
     "metadata": {},
     "output_type": "execute_result"
    }
   ],
   "source": [
    "msg = \"This is my Contract\"\n",
    "msg_hash = hash_msg(msg)\n",
    "check_msg(msg, msg_hash)"
   ]
  },
  {
   "cell_type": "code",
   "execution_count": 27,
   "metadata": {},
   "outputs": [
    {
     "data": {
      "text/plain": [
       "False"
      ]
     },
     "execution_count": 27,
     "metadata": {},
     "output_type": "execute_result"
    }
   ],
   "source": [
    "msg = \"I change the contract so it is much better now for me :-)\"\n",
    "check_msg(msg, msg_hash)"
   ]
  },
  {
   "cell_type": "markdown",
   "metadata": {},
   "source": [
    "# Digital signing messages\n",
    "\n",
    "https://en.wikipedia.org/wiki/Digital_signature"
   ]
  },
  {
   "cell_type": "code",
   "execution_count": 31,
   "metadata": {
    "collapsed": true
   },
   "outputs": [],
   "source": [
    "def sign_msg(message, private_key):\n",
    "    signature = private_key.sign(message, padding.PSS(mgf=padding.MGF1(hashes.SHA256()), salt_length=padding.PSS.MAX_LENGTH), hashes.SHA256())\n",
    "    return signature"
   ]
  },
  {
   "cell_type": "code",
   "execution_count": 32,
   "metadata": {
    "collapsed": true
   },
   "outputs": [],
   "source": [
    "msg = b\"A message I want to sign\"\n",
    "signature = sign_msg(msg, private_key)"
   ]
  },
  {
   "cell_type": "code",
   "execution_count": 33,
   "metadata": {},
   "outputs": [
    {
     "data": {
      "text/plain": [
       "b\"}N\\xab(\\xf9F\\x8c1\\x1b%>\\x12h$\\xce=*\\xbag\\xf9\\xf3i\\x88\\xd6\\x07\\x96\\xe1?\\xfc\\xd9\\xed\\x8fR\\xd1\\xe3\\x8dg\\xe5A\\x1c_5\\xc9\\xf4\\x98\\r5H$*\\xbe/z<)\\x1e\\x93\\x03'\\x89F:\\xa0c#\\x1aP\\xd2\\xee\\xd19\\xf7\\x13\\x04\\xa2\\x8d\\xf2\\rm\\x85\\x11\\x9a\\xe6\\xfe\\xbe\\xcaB\\x8e<\\xdd\\xbd\\x9e\\xe7\\xf725H\\xa8P\\xcdeu$s\\xb9\\x0e\\xd2\\xaf\\x03\\x99\\x94\\xe8\\xf0\\x97\\x95U\\x81v\\xaeof8\\x07?\\xa0&\\x02\\xaa\\xceK\\xf4r\\x17\\x9d\\t\\xedh\\x97\\nN\\xf8\\x9b\\xbe~&c.\\xf99\\x88\\xe8\\x9b\\xb5\\x80z\\xc9\\xaf\\x1f5l\\xf5\\xf0\\xc7%|\\x92F\\xf6\\x9b7\\x87)9O\\x8b\\xed\\xf2\\x15//$c\\xd9|\\xdb%\\xc0\\xbfN\\xcf\\x13\\x00\\xcc\\xbf22>\\x1b\\xb3\\x96\\xe4\\xd2>WJ\\xb5h\\x08@\\x14<\\x0e\\xb8\\xeflf}\\xf3\\xc2\\x1d\\xd7\\x10\\x93Q:0(oaH\\xab\\x03\\xd7\\xe6rxf\\xab)\\xed\\xd1\\x17R\\xb9A\\xbe\\xa9sS\\xe9\\x0f\\x00\\xbf\\x8d\\xe5\\x80\\x1d\\xad\\xcd\\x98\\x95GgK\\x19\\x18\\xfc\\x98\\xa2\\x1e(\\x81\\xb9\\x87{\\xe9_\\x8b\\xea\\x02\\xa6\\xb0\\xc8\\x1f\\x1a\\xb42\\xd8\\x13]\\x91\\xa1\\x1f\\xfa\\xe0}\\x7f\\x98\\xc8\\x0f\\xf9,\\xf67\\x8a\\xb0$\\xa36K\\x07\\x0f\\xb0\\x7fpw\\x0b\\x9f2\\xa0\\x11\\xfe~G\\x9aVi\\xf3\\xb2\\xc4v'\\x80-\\xcb\\xac:\\x81\\xdd\\xc9\\xee\\xfa\\x0fE\\x11d\\xca\\x96%'\\x9a\\x98\\x0fSaL\\x99Mi( \\xb8\\x8cPw\\xebs\\x19:\\x9b\\x9a(O\\xc5L\\x91\\x86\\xff\\x11\\x1eh=\\xfa\\xfdP\\xae\\xf0\\xdbQ\\x1ae\\x8bd\\xe5T\\xb7\\xd7\\xd2r\\xc7f\\xed\\xc5e@C\\xe2\\x8bn\\xb8\\x95) P\\xe1\\xf3\\xe1 b\\xa6\\xf48\\xa1\\xe2!\\xf0|\\xe4\\xdb\\xaa\\x1c\\x98I\\x8d\\x84\\xf5=\\xf1yNDF\\x90\\xea\\xc0^O\\xf23SVgw)\\xfa/\\xbc\\xe86\\xb5\\xda\\xce\\xf1\\xbd\\n\\xd8DO\\x92\\xa1\\x91\\r\\xe1\\x11@\\xeb\\x9c\\xe7\\x88\\xc5IKw\\xde\\x8cO@\\xcdS\\x00H\\xd6\\xce1\\xd2\\x19\\x82<\\x85\\xcf\\x1a\\x1c\\x89\\x8e\\x86S\\xed\\x95\\xc3\\x1by\\xd5\""
      ]
     },
     "execution_count": 33,
     "metadata": {},
     "output_type": "execute_result"
    }
   ],
   "source": [
    "signature"
   ]
  },
  {
   "cell_type": "code",
   "execution_count": 34,
   "metadata": {
    "collapsed": true
   },
   "outputs": [],
   "source": [
    "def verify(signature, message, public_key):\n",
    "    try:\n",
    "        public_key.verify(signature, message, padding.PSS( mgf=padding.MGF1(hashes.SHA256()), salt_length=padding.PSS.MAX_LENGTH), hashes.SHA256())\n",
    "        return True\n",
    "    except: \n",
    "        return False"
   ]
  },
  {
   "cell_type": "code",
   "execution_count": 35,
   "metadata": {},
   "outputs": [
    {
     "data": {
      "text/plain": [
       "True"
      ]
     },
     "execution_count": 35,
     "metadata": {},
     "output_type": "execute_result"
    }
   ],
   "source": [
    "verify(signature, msg, public_key)"
   ]
  },
  {
   "cell_type": "code",
   "execution_count": 36,
   "metadata": {
    "collapsed": true
   },
   "outputs": [],
   "source": [
    "another_msg = \"Another Message\""
   ]
  },
  {
   "cell_type": "code",
   "execution_count": 37,
   "metadata": {},
   "outputs": [
    {
     "data": {
      "text/plain": [
       "False"
      ]
     },
     "execution_count": 37,
     "metadata": {},
     "output_type": "execute_result"
    }
   ],
   "source": [
    "verify(signature, another_msg, public_key)"
   ]
  },
  {
   "cell_type": "code",
   "execution_count": 38,
   "metadata": {
    "collapsed": true
   },
   "outputs": [],
   "source": [
    "bob_private_key, bob_public_key = generate_keys()"
   ]
  },
  {
   "cell_type": "code",
   "execution_count": 39,
   "metadata": {},
   "outputs": [
    {
     "data": {
      "text/plain": [
       "False"
      ]
     },
     "execution_count": 39,
     "metadata": {},
     "output_type": "execute_result"
    }
   ],
   "source": [
    "verify(signature, msg, bob_public_key)"
   ]
  },
  {
   "cell_type": "code",
   "execution_count": null,
   "metadata": {
    "collapsed": true
   },
   "outputs": [],
   "source": []
  }
 ],
 "metadata": {
  "kernelspec": {
   "display_name": "Python 3",
   "language": "python",
   "name": "python3"
  },
  "language_info": {
   "codemirror_mode": {
    "name": "ipython",
    "version": 3
   },
   "file_extension": ".py",
   "mimetype": "text/x-python",
   "name": "python",
   "nbconvert_exporter": "python",
   "pygments_lexer": "ipython3",
   "version": "3.6.1"
  },
  "varInspector": {
   "cols": {
    "lenName": 16,
    "lenType": 16,
    "lenVar": 40
   },
   "kernels_config": {
    "python": {
     "delete_cmd_postfix": "",
     "delete_cmd_prefix": "del ",
     "library": "var_list.py",
     "varRefreshCmd": "print(var_dic_list())"
    },
    "r": {
     "delete_cmd_postfix": ") ",
     "delete_cmd_prefix": "rm(",
     "library": "var_list.r",
     "varRefreshCmd": "cat(var_dic_list()) "
    }
   },
   "types_to_exclude": [
    "module",
    "function",
    "builtin_function_or_method",
    "instance",
    "_Feature"
   ],
   "window_display": false
  }
 },
 "nbformat": 4,
 "nbformat_minor": 2
}
